{
 "cells": [
  {
   "cell_type": "code",
   "execution_count": 1,
   "metadata": {
    "scrolled": false
   },
   "outputs": [
    {
     "name": "stderr",
     "output_type": "stream",
     "text": [
      "e:\\true_faundry\\projectpro-external-main\\Projects\\venv\\lib\\site-packages\\woodwork\\__init__.py:23: FutureWarning: Woodwork may not support Python 3.7 in next non-bugfix release.\n",
      "  \"Woodwork may not support Python 3.7 in next non-bugfix release.\", FutureWarning\n",
      "e:\\true_faundry\\projectpro-external-main\\Projects\\venv\\lib\\site-packages\\featuretools\\__init__.py:67: FutureWarning: Featuretools may not support Python 3.7 in next non-bugfix release.\n",
      "  FutureWarning,\n"
     ]
    }
   ],
   "source": [
    "#Importing Necessary Libraries\n",
    "#Matplot and seaborn for making graphs\n",
    "# %matplotlib notebook\n",
    "from sklearn.linear_model import Ridge\n",
    "from sklearn.model_selection import KFold, cross_val_score\n",
    "import featuretools as ft\n",
    "import numpy as np\n",
    "import pandas as pd\n",
    "from sklearn.model_selection import train_test_split\n",
    "from sklearn.preprocessing import LabelEncoder\n",
    "from scipy import stats\n",
    "import matplotlib.pyplot as plt\n",
    "from sklearn.model_selection import GridSearchCV\n",
    "from sklearn.model_selection import RandomizedSearchCV\n",
    "import seaborn as sns\n",
    "%matplotlib inline\n",
    "import warnings\n",
    "warnings.filterwarnings('ignore')"
   ]
  },
  {
   "cell_type": "code",
   "execution_count": 2,
   "metadata": {
    "scrolled": false
   },
   "outputs": [
    {
     "name": "stdout",
     "output_type": "stream",
     "text": [
      "(8523, 12) (5681, 11)\n"
     ]
    }
   ],
   "source": [
    " #Imorting the datasets\n",
    "train =pd.read_csv(\"train_kOBLwZA.csv\")\n",
    "test=pd.read_csv(\"test_t02dQwI.csv\")\n",
    "\n",
    "print(train.shape,test.shape)"
   ]
  },
  {
   "cell_type": "code",
   "execution_count": 3,
   "metadata": {
    "scrolled": false
   },
   "outputs": [],
   "source": [
    "def concat(X,Y):\n",
    "    df= pd.concat([X,Y],ignore_index=True)\n",
    "    return df"
   ]
  },
  {
   "cell_type": "code",
   "execution_count": 4,
   "metadata": {
    "scrolled": false
   },
   "outputs": [
    {
     "name": "stdout",
     "output_type": "stream",
     "text": [
      "(14204, 12)\n"
     ]
    }
   ],
   "source": [
    "df=concat(train,test)\n",
    "print(df.shape)"
   ]
  },
  {
   "cell_type": "code",
   "execution_count": 5,
   "metadata": {
    "scrolled": false
   },
   "outputs": [
    {
     "data": {
      "text/html": [
       "<div>\n",
       "<style scoped>\n",
       "    .dataframe tbody tr th:only-of-type {\n",
       "        vertical-align: middle;\n",
       "    }\n",
       "\n",
       "    .dataframe tbody tr th {\n",
       "        vertical-align: top;\n",
       "    }\n",
       "\n",
       "    .dataframe thead th {\n",
       "        text-align: right;\n",
       "    }\n",
       "</style>\n",
       "<table border=\"1\" class=\"dataframe\">\n",
       "  <thead>\n",
       "    <tr style=\"text-align: right;\">\n",
       "      <th></th>\n",
       "      <th>Item_Identifier</th>\n",
       "      <th>Item_Weight</th>\n",
       "      <th>Item_Fat_Content</th>\n",
       "      <th>Item_Visibility</th>\n",
       "      <th>Item_Type</th>\n",
       "      <th>Item_MRP</th>\n",
       "      <th>Outlet_Identifier</th>\n",
       "      <th>Outlet_Establishment_Year</th>\n",
       "      <th>Outlet_Size</th>\n",
       "      <th>Outlet_Location_Type</th>\n",
       "      <th>Outlet_Type</th>\n",
       "      <th>Item_Outlet_Sales</th>\n",
       "    </tr>\n",
       "  </thead>\n",
       "  <tbody>\n",
       "    <tr>\n",
       "      <th>0</th>\n",
       "      <td>FDA15</td>\n",
       "      <td>9.30</td>\n",
       "      <td>Low Fat</td>\n",
       "      <td>0.016047</td>\n",
       "      <td>Dairy</td>\n",
       "      <td>249.8092</td>\n",
       "      <td>OUT049</td>\n",
       "      <td>1999</td>\n",
       "      <td>Medium</td>\n",
       "      <td>Tier 1</td>\n",
       "      <td>Supermarket Type1</td>\n",
       "      <td>3735.1380</td>\n",
       "    </tr>\n",
       "    <tr>\n",
       "      <th>1</th>\n",
       "      <td>DRC01</td>\n",
       "      <td>5.92</td>\n",
       "      <td>Regular</td>\n",
       "      <td>0.019278</td>\n",
       "      <td>Soft Drinks</td>\n",
       "      <td>48.2692</td>\n",
       "      <td>OUT018</td>\n",
       "      <td>2009</td>\n",
       "      <td>Medium</td>\n",
       "      <td>Tier 3</td>\n",
       "      <td>Supermarket Type2</td>\n",
       "      <td>443.4228</td>\n",
       "    </tr>\n",
       "    <tr>\n",
       "      <th>2</th>\n",
       "      <td>FDN15</td>\n",
       "      <td>17.50</td>\n",
       "      <td>Low Fat</td>\n",
       "      <td>0.016760</td>\n",
       "      <td>Meat</td>\n",
       "      <td>141.6180</td>\n",
       "      <td>OUT049</td>\n",
       "      <td>1999</td>\n",
       "      <td>Medium</td>\n",
       "      <td>Tier 1</td>\n",
       "      <td>Supermarket Type1</td>\n",
       "      <td>2097.2700</td>\n",
       "    </tr>\n",
       "    <tr>\n",
       "      <th>3</th>\n",
       "      <td>FDX07</td>\n",
       "      <td>19.20</td>\n",
       "      <td>Regular</td>\n",
       "      <td>0.000000</td>\n",
       "      <td>Fruits and Vegetables</td>\n",
       "      <td>182.0950</td>\n",
       "      <td>OUT010</td>\n",
       "      <td>1998</td>\n",
       "      <td>NaN</td>\n",
       "      <td>Tier 3</td>\n",
       "      <td>Grocery Store</td>\n",
       "      <td>732.3800</td>\n",
       "    </tr>\n",
       "    <tr>\n",
       "      <th>4</th>\n",
       "      <td>NCD19</td>\n",
       "      <td>8.93</td>\n",
       "      <td>Low Fat</td>\n",
       "      <td>0.000000</td>\n",
       "      <td>Household</td>\n",
       "      <td>53.8614</td>\n",
       "      <td>OUT013</td>\n",
       "      <td>1987</td>\n",
       "      <td>High</td>\n",
       "      <td>Tier 3</td>\n",
       "      <td>Supermarket Type1</td>\n",
       "      <td>994.7052</td>\n",
       "    </tr>\n",
       "  </tbody>\n",
       "</table>\n",
       "</div>"
      ],
      "text/plain": [
       "  Item_Identifier  Item_Weight Item_Fat_Content  Item_Visibility  \\\n",
       "0           FDA15         9.30          Low Fat         0.016047   \n",
       "1           DRC01         5.92          Regular         0.019278   \n",
       "2           FDN15        17.50          Low Fat         0.016760   \n",
       "3           FDX07        19.20          Regular         0.000000   \n",
       "4           NCD19         8.93          Low Fat         0.000000   \n",
       "\n",
       "               Item_Type  Item_MRP Outlet_Identifier  \\\n",
       "0                  Dairy  249.8092            OUT049   \n",
       "1            Soft Drinks   48.2692            OUT018   \n",
       "2                   Meat  141.6180            OUT049   \n",
       "3  Fruits and Vegetables  182.0950            OUT010   \n",
       "4              Household   53.8614            OUT013   \n",
       "\n",
       "   Outlet_Establishment_Year Outlet_Size Outlet_Location_Type  \\\n",
       "0                       1999      Medium               Tier 1   \n",
       "1                       2009      Medium               Tier 3   \n",
       "2                       1999      Medium               Tier 1   \n",
       "3                       1998         NaN               Tier 3   \n",
       "4                       1987        High               Tier 3   \n",
       "\n",
       "         Outlet_Type  Item_Outlet_Sales  \n",
       "0  Supermarket Type1          3735.1380  \n",
       "1  Supermarket Type2           443.4228  \n",
       "2  Supermarket Type1          2097.2700  \n",
       "3      Grocery Store           732.3800  \n",
       "4  Supermarket Type1           994.7052  "
      ]
     },
     "execution_count": 5,
     "metadata": {},
     "output_type": "execute_result"
    }
   ],
   "source": [
    "df.head()"
   ]
  },
  {
   "cell_type": "code",
   "execution_count": 6,
   "metadata": {
    "scrolled": false
   },
   "outputs": [
    {
     "data": {
      "text/plain": [
       "Item_Identifier                 0\n",
       "Item_Weight                  2439\n",
       "Item_Fat_Content                0\n",
       "Item_Visibility                 0\n",
       "Item_Type                       0\n",
       "Item_MRP                        0\n",
       "Outlet_Identifier               0\n",
       "Outlet_Establishment_Year       0\n",
       "Outlet_Size                  4016\n",
       "Outlet_Location_Type            0\n",
       "Outlet_Type                     0\n",
       "Item_Outlet_Sales            5681\n",
       "dtype: int64"
      ]
     },
     "execution_count": 6,
     "metadata": {},
     "output_type": "execute_result"
    }
   ],
   "source": [
    "df.isnull().sum()  \n",
    "#Checks number of null values for all the variables\n",
    "#Item_Weight has 2439 null values \n",
    "#Outlet Size has 4016 null values"
   ]
  },
  {
   "cell_type": "code",
   "execution_count": 7,
   "metadata": {
    "scrolled": false
   },
   "outputs": [
    {
     "data": {
      "text/plain": [
       "Item_Identifier               1559\n",
       "Item_Weight                    416\n",
       "Item_Fat_Content                 5\n",
       "Item_Visibility              13006\n",
       "Item_Type                       16\n",
       "Item_MRP                      8052\n",
       "Outlet_Identifier               10\n",
       "Outlet_Establishment_Year        9\n",
       "Outlet_Size                      4\n",
       "Outlet_Location_Type             3\n",
       "Outlet_Type                      4\n",
       "Item_Outlet_Sales             3494\n",
       "dtype: int64"
      ]
     },
     "execution_count": 7,
     "metadata": {},
     "output_type": "execute_result"
    }
   ],
   "source": [
    "df.apply(lambda x: len(x.unique()))\n",
    "#Checks the number of unique entries correspnding to each variable"
   ]
  },
  {
   "cell_type": "code",
   "execution_count": 8,
   "metadata": {
    "scrolled": false
   },
   "outputs": [],
   "source": [
    "#defining a function:\n",
    "#frequency of unique entries in each columns with their names\n",
    "\n",
    "def frequency_each_item(X,Y):\n",
    "    for i in Y:\n",
    "        print(\"frequency of each category for\",i)\n",
    "        print(X[i].value_counts())"
   ]
  },
  {
   "cell_type": "code",
   "execution_count": 9,
   "metadata": {
    "scrolled": false
   },
   "outputs": [
    {
     "name": "stdout",
     "output_type": "stream",
     "text": [
      "frequency of each category for Item_Fat_Content\n",
      "Low Fat    8485\n",
      "Regular    4824\n",
      "LF          522\n",
      "reg         195\n",
      "low fat     178\n",
      "Name: Item_Fat_Content, dtype: int64\n",
      "frequency of each category for Item_Type\n",
      "Fruits and Vegetables    2013\n",
      "Snack Foods              1989\n",
      "Household                1548\n",
      "Frozen Foods             1426\n",
      "Dairy                    1136\n",
      "Baking Goods             1086\n",
      "Canned                   1084\n",
      "Health and Hygiene        858\n",
      "Meat                      736\n",
      "Soft Drinks               726\n",
      "Breads                    416\n",
      "Hard Drinks               362\n",
      "Others                    280\n",
      "Starchy Foods             269\n",
      "Breakfast                 186\n",
      "Seafood                    89\n",
      "Name: Item_Type, dtype: int64\n",
      "frequency of each category for Outlet_Location_Type\n",
      "Tier 3    5583\n",
      "Tier 2    4641\n",
      "Tier 1    3980\n",
      "Name: Outlet_Location_Type, dtype: int64\n",
      "frequency of each category for Outlet_Size\n",
      "Medium    4655\n",
      "Small     3980\n",
      "High      1553\n",
      "Name: Outlet_Size, dtype: int64\n",
      "frequency of each category for Outlet_Type\n",
      "Supermarket Type1    9294\n",
      "Grocery Store        1805\n",
      "Supermarket Type3    1559\n",
      "Supermarket Type2    1546\n",
      "Name: Outlet_Type, dtype: int64\n"
     ]
    }
   ],
   "source": [
    "#frequency of unique entries in each columns with their names\n",
    "category=['Item_Fat_Content','Item_Type','Outlet_Location_Type','Outlet_Size','Outlet_Type']\n",
    "frequency_each_item(df,category)"
   ]
  },
  {
   "cell_type": "code",
   "execution_count": 10,
   "metadata": {
    "scrolled": false
   },
   "outputs": [
    {
     "name": "stdout",
     "output_type": "stream",
     "text": [
      "                  Outlet_Size\n",
      "Outlet_Type                  \n",
      "Grocery Store           Small\n",
      "Supermarket Type1       Small\n",
      "Supermarket Type2      Medium\n",
      "Supermarket Type3      Medium\n"
     ]
    },
    {
     "data": {
      "text/plain": [
       "0"
      ]
     },
     "execution_count": 10,
     "metadata": {},
     "output_type": "execute_result"
    }
   ],
   "source": [
    "mode_Outlet_Size=df.pivot_table(values='Outlet_Size', index='Outlet_Type',aggfunc=(lambda x: stats.mode(x)[0][0]))\n",
    "print(mode_Outlet_Size)\n",
    "bool2=df['Outlet_Size'].isnull()\n",
    "df['Outlet_Size'][bool2]=df['Outlet_Type'][bool2].apply(lambda x : mode_Outlet_Size.loc[x]).values\n",
    "sum(df['Outlet_Size'].isnull())"
   ]
  },
  {
   "cell_type": "code",
   "execution_count": 11,
   "metadata": {
    "scrolled": false
   },
   "outputs": [
    {
     "data": {
      "text/html": [
       "<div>\n",
       "<style scoped>\n",
       "    .dataframe tbody tr th:only-of-type {\n",
       "        vertical-align: middle;\n",
       "    }\n",
       "\n",
       "    .dataframe tbody tr th {\n",
       "        vertical-align: top;\n",
       "    }\n",
       "\n",
       "    .dataframe thead th {\n",
       "        text-align: right;\n",
       "    }\n",
       "</style>\n",
       "<table border=\"1\" class=\"dataframe\">\n",
       "  <thead>\n",
       "    <tr style=\"text-align: right;\">\n",
       "      <th></th>\n",
       "      <th>Item_Identifier</th>\n",
       "      <th>Item_Weight</th>\n",
       "      <th>Item_Fat_Content</th>\n",
       "      <th>Item_Visibility</th>\n",
       "      <th>Item_Type</th>\n",
       "      <th>Item_MRP</th>\n",
       "      <th>Outlet_Identifier</th>\n",
       "      <th>Outlet_Establishment_Year</th>\n",
       "      <th>Outlet_Size</th>\n",
       "      <th>Outlet_Location_Type</th>\n",
       "      <th>Outlet_Type</th>\n",
       "      <th>Item_Outlet_Sales</th>\n",
       "    </tr>\n",
       "  </thead>\n",
       "  <tbody>\n",
       "    <tr>\n",
       "      <th>0</th>\n",
       "      <td>FDA15</td>\n",
       "      <td>9.30</td>\n",
       "      <td>Low Fat</td>\n",
       "      <td>0.016047</td>\n",
       "      <td>Dairy</td>\n",
       "      <td>249.8092</td>\n",
       "      <td>OUT049</td>\n",
       "      <td>1999</td>\n",
       "      <td>Medium</td>\n",
       "      <td>Tier 1</td>\n",
       "      <td>Supermarket Type1</td>\n",
       "      <td>3735.1380</td>\n",
       "    </tr>\n",
       "    <tr>\n",
       "      <th>1</th>\n",
       "      <td>DRC01</td>\n",
       "      <td>5.92</td>\n",
       "      <td>Regular</td>\n",
       "      <td>0.019278</td>\n",
       "      <td>Soft Drinks</td>\n",
       "      <td>48.2692</td>\n",
       "      <td>OUT018</td>\n",
       "      <td>2009</td>\n",
       "      <td>Medium</td>\n",
       "      <td>Tier 3</td>\n",
       "      <td>Supermarket Type2</td>\n",
       "      <td>443.4228</td>\n",
       "    </tr>\n",
       "    <tr>\n",
       "      <th>2</th>\n",
       "      <td>FDN15</td>\n",
       "      <td>17.50</td>\n",
       "      <td>Low Fat</td>\n",
       "      <td>0.016760</td>\n",
       "      <td>Meat</td>\n",
       "      <td>141.6180</td>\n",
       "      <td>OUT049</td>\n",
       "      <td>1999</td>\n",
       "      <td>Medium</td>\n",
       "      <td>Tier 1</td>\n",
       "      <td>Supermarket Type1</td>\n",
       "      <td>2097.2700</td>\n",
       "    </tr>\n",
       "    <tr>\n",
       "      <th>3</th>\n",
       "      <td>FDX07</td>\n",
       "      <td>19.20</td>\n",
       "      <td>Regular</td>\n",
       "      <td>0.000000</td>\n",
       "      <td>Fruits and Vegetables</td>\n",
       "      <td>182.0950</td>\n",
       "      <td>OUT010</td>\n",
       "      <td>1998</td>\n",
       "      <td>Small</td>\n",
       "      <td>Tier 3</td>\n",
       "      <td>Grocery Store</td>\n",
       "      <td>732.3800</td>\n",
       "    </tr>\n",
       "    <tr>\n",
       "      <th>4</th>\n",
       "      <td>NCD19</td>\n",
       "      <td>8.93</td>\n",
       "      <td>Low Fat</td>\n",
       "      <td>0.000000</td>\n",
       "      <td>Household</td>\n",
       "      <td>53.8614</td>\n",
       "      <td>OUT013</td>\n",
       "      <td>1987</td>\n",
       "      <td>High</td>\n",
       "      <td>Tier 3</td>\n",
       "      <td>Supermarket Type1</td>\n",
       "      <td>994.7052</td>\n",
       "    </tr>\n",
       "  </tbody>\n",
       "</table>\n",
       "</div>"
      ],
      "text/plain": [
       "  Item_Identifier  Item_Weight Item_Fat_Content  Item_Visibility  \\\n",
       "0           FDA15         9.30          Low Fat         0.016047   \n",
       "1           DRC01         5.92          Regular         0.019278   \n",
       "2           FDN15        17.50          Low Fat         0.016760   \n",
       "3           FDX07        19.20          Regular         0.000000   \n",
       "4           NCD19         8.93          Low Fat         0.000000   \n",
       "\n",
       "               Item_Type  Item_MRP Outlet_Identifier  \\\n",
       "0                  Dairy  249.8092            OUT049   \n",
       "1            Soft Drinks   48.2692            OUT018   \n",
       "2                   Meat  141.6180            OUT049   \n",
       "3  Fruits and Vegetables  182.0950            OUT010   \n",
       "4              Household   53.8614            OUT013   \n",
       "\n",
       "   Outlet_Establishment_Year Outlet_Size Outlet_Location_Type  \\\n",
       "0                       1999      Medium               Tier 1   \n",
       "1                       2009      Medium               Tier 3   \n",
       "2                       1999      Medium               Tier 1   \n",
       "3                       1998       Small               Tier 3   \n",
       "4                       1987        High               Tier 3   \n",
       "\n",
       "         Outlet_Type  Item_Outlet_Sales  \n",
       "0  Supermarket Type1          3735.1380  \n",
       "1  Supermarket Type2           443.4228  \n",
       "2  Supermarket Type1          2097.2700  \n",
       "3      Grocery Store           732.3800  \n",
       "4  Supermarket Type1           994.7052  "
      ]
     },
     "execution_count": 11,
     "metadata": {},
     "output_type": "execute_result"
    }
   ],
   "source": [
    "# Correcting the mis-written datas\n",
    "df['Item_Fat_Content'].replace(to_replace =['low fat','reg','LF'], \n",
    "                 value =['Low Fat','Regular','Low Fat'],inplace=True)\n",
    "df['Item_Fat_Content'].value_counts()\n",
    "df.head()"
   ]
  },
  {
   "cell_type": "code",
   "execution_count": 12,
   "metadata": {
    "scrolled": false
   },
   "outputs": [
    {
     "name": "stdout",
     "output_type": "stream",
     "text": [
      "                       mean\n",
      "                Item_Weight\n",
      "Item_Identifier            \n",
      "DRA12                11.600\n",
      "DRA24                19.350\n",
      "DRA59                 8.270\n",
      "DRB01                 7.390\n",
      "DRB13                 6.115\n",
      "...                     ...\n",
      "NCZ30                 6.590\n",
      "NCZ41                19.850\n",
      "NCZ42                10.500\n",
      "NCZ53                 9.600\n",
      "NCZ54                14.650\n",
      "\n",
      "[1559 rows x 1 columns]\n"
     ]
    },
    {
     "data": {
      "text/plain": [
       "0"
      ]
     },
     "execution_count": 12,
     "metadata": {},
     "output_type": "execute_result"
    }
   ],
   "source": [
    "avg_item_weight=df.pivot_table(values='Item_Weight', index='Item_Identifier',aggfunc=[np.mean])\n",
    "print(avg_item_weight)\n",
    "bool=df['Item_Weight'].isnull()\n",
    "df['Item_Weight'][bool]=df['Item_Identifier'][bool].apply(lambda x :avg_item_weight.loc[x]).values.reshape(-1)\n",
    "sum(df['Item_Weight'].isnull())"
   ]
  },
  {
   "cell_type": "code",
   "execution_count": 13,
   "metadata": {
    "scrolled": false
   },
   "outputs": [
    {
     "data": {
      "text/html": [
       "<div>\n",
       "<style scoped>\n",
       "    .dataframe tbody tr th:only-of-type {\n",
       "        vertical-align: middle;\n",
       "    }\n",
       "\n",
       "    .dataframe tbody tr th {\n",
       "        vertical-align: top;\n",
       "    }\n",
       "\n",
       "    .dataframe thead th {\n",
       "        text-align: right;\n",
       "    }\n",
       "</style>\n",
       "<table border=\"1\" class=\"dataframe\">\n",
       "  <thead>\n",
       "    <tr style=\"text-align: right;\">\n",
       "      <th></th>\n",
       "      <th>Item_Identifier</th>\n",
       "      <th>Item_Weight</th>\n",
       "      <th>Item_Fat_Content</th>\n",
       "      <th>Item_Visibility</th>\n",
       "      <th>Item_MRP</th>\n",
       "      <th>Outlet_Identifier</th>\n",
       "      <th>Outlet_Establishment_Year</th>\n",
       "      <th>Outlet_Size</th>\n",
       "      <th>Outlet_Location_Type</th>\n",
       "      <th>Outlet_Type</th>\n",
       "      <th>Item_Outlet_Sales</th>\n",
       "      <th>Item_Type_combined</th>\n",
       "    </tr>\n",
       "  </thead>\n",
       "  <tbody>\n",
       "    <tr>\n",
       "      <th>0</th>\n",
       "      <td>FDA15</td>\n",
       "      <td>9.30</td>\n",
       "      <td>Low Fat</td>\n",
       "      <td>0.016047</td>\n",
       "      <td>249.8092</td>\n",
       "      <td>OUT049</td>\n",
       "      <td>1999</td>\n",
       "      <td>Medium</td>\n",
       "      <td>Tier 1</td>\n",
       "      <td>Supermarket Type1</td>\n",
       "      <td>3735.1380</td>\n",
       "      <td>Food</td>\n",
       "    </tr>\n",
       "    <tr>\n",
       "      <th>1</th>\n",
       "      <td>DRC01</td>\n",
       "      <td>5.92</td>\n",
       "      <td>Regular</td>\n",
       "      <td>0.019278</td>\n",
       "      <td>48.2692</td>\n",
       "      <td>OUT018</td>\n",
       "      <td>2009</td>\n",
       "      <td>Medium</td>\n",
       "      <td>Tier 3</td>\n",
       "      <td>Supermarket Type2</td>\n",
       "      <td>443.4228</td>\n",
       "      <td>Drinks</td>\n",
       "    </tr>\n",
       "    <tr>\n",
       "      <th>2</th>\n",
       "      <td>FDN15</td>\n",
       "      <td>17.50</td>\n",
       "      <td>Low Fat</td>\n",
       "      <td>0.016760</td>\n",
       "      <td>141.6180</td>\n",
       "      <td>OUT049</td>\n",
       "      <td>1999</td>\n",
       "      <td>Medium</td>\n",
       "      <td>Tier 1</td>\n",
       "      <td>Supermarket Type1</td>\n",
       "      <td>2097.2700</td>\n",
       "      <td>Food</td>\n",
       "    </tr>\n",
       "    <tr>\n",
       "      <th>3</th>\n",
       "      <td>FDX07</td>\n",
       "      <td>19.20</td>\n",
       "      <td>Regular</td>\n",
       "      <td>0.000000</td>\n",
       "      <td>182.0950</td>\n",
       "      <td>OUT010</td>\n",
       "      <td>1998</td>\n",
       "      <td>Small</td>\n",
       "      <td>Tier 3</td>\n",
       "      <td>Grocery Store</td>\n",
       "      <td>732.3800</td>\n",
       "      <td>Food</td>\n",
       "    </tr>\n",
       "    <tr>\n",
       "      <th>4</th>\n",
       "      <td>NCD19</td>\n",
       "      <td>8.93</td>\n",
       "      <td>Low Fat</td>\n",
       "      <td>0.000000</td>\n",
       "      <td>53.8614</td>\n",
       "      <td>OUT013</td>\n",
       "      <td>1987</td>\n",
       "      <td>High</td>\n",
       "      <td>Tier 3</td>\n",
       "      <td>Supermarket Type1</td>\n",
       "      <td>994.7052</td>\n",
       "      <td>Non_consumable</td>\n",
       "    </tr>\n",
       "  </tbody>\n",
       "</table>\n",
       "</div>"
      ],
      "text/plain": [
       "  Item_Identifier  Item_Weight Item_Fat_Content  Item_Visibility  Item_MRP  \\\n",
       "0           FDA15         9.30          Low Fat         0.016047  249.8092   \n",
       "1           DRC01         5.92          Regular         0.019278   48.2692   \n",
       "2           FDN15        17.50          Low Fat         0.016760  141.6180   \n",
       "3           FDX07        19.20          Regular         0.000000  182.0950   \n",
       "4           NCD19         8.93          Low Fat         0.000000   53.8614   \n",
       "\n",
       "  Outlet_Identifier  Outlet_Establishment_Year Outlet_Size  \\\n",
       "0            OUT049                       1999      Medium   \n",
       "1            OUT018                       2009      Medium   \n",
       "2            OUT049                       1999      Medium   \n",
       "3            OUT010                       1998       Small   \n",
       "4            OUT013                       1987        High   \n",
       "\n",
       "  Outlet_Location_Type        Outlet_Type  Item_Outlet_Sales  \\\n",
       "0               Tier 1  Supermarket Type1          3735.1380   \n",
       "1               Tier 3  Supermarket Type2           443.4228   \n",
       "2               Tier 1  Supermarket Type1          2097.2700   \n",
       "3               Tier 3      Grocery Store           732.3800   \n",
       "4               Tier 3  Supermarket Type1           994.7052   \n",
       "\n",
       "  Item_Type_combined  \n",
       "0               Food  \n",
       "1             Drinks  \n",
       "2               Food  \n",
       "3               Food  \n",
       "4     Non_consumable  "
      ]
     },
     "execution_count": 13,
     "metadata": {},
     "output_type": "execute_result"
    }
   ],
   "source": [
    "#Reducing food category to only 3 types with the help of the first 2 alphabets of the Item_Identifier column\n",
    "\n",
    "df['Item_Type_combined']=df['Item_Identifier'].apply(lambda x : x[0:2])\n",
    "df['Item_Type_combined'].replace(to_replace =['FD','DR','NC'], \n",
    "                 value =['Food','Drinks','Non_consumable'],inplace=True)\n",
    " #dropping the redundant column\n",
    "df=df.drop(columns=['Item_Type'])     \n",
    "df.head()"
   ]
  },
  {
   "cell_type": "code",
   "execution_count": 14,
   "metadata": {
    "scrolled": false
   },
   "outputs": [
    {
     "data": {
      "text/plain": [
       "Low Fat       6499\n",
       "Regular       5019\n",
       "Non_edible    2686\n",
       "Name: Item_Fat_Content, dtype: int64"
      ]
     },
     "execution_count": 14,
     "metadata": {},
     "output_type": "execute_result"
    }
   ],
   "source": [
    "#Calculating number of Item_fat_contents that are also non_consumable\n",
    "\n",
    "bool3=df['Item_Type_combined']=='Non_consumable'\n",
    "df['Item_Fat_Content'][bool3]='Non_edible'\n",
    "df['Item_Fat_Content'].value_counts()"
   ]
  },
  {
   "cell_type": "code",
   "execution_count": 15,
   "metadata": {
    "scrolled": false
   },
   "outputs": [
    {
     "data": {
      "text/html": [
       "<div>\n",
       "<style scoped>\n",
       "    .dataframe tbody tr th:only-of-type {\n",
       "        vertical-align: middle;\n",
       "    }\n",
       "\n",
       "    .dataframe tbody tr th {\n",
       "        vertical-align: top;\n",
       "    }\n",
       "\n",
       "    .dataframe thead th {\n",
       "        text-align: right;\n",
       "    }\n",
       "</style>\n",
       "<table border=\"1\" class=\"dataframe\">\n",
       "  <thead>\n",
       "    <tr style=\"text-align: right;\">\n",
       "      <th></th>\n",
       "      <th>Item_Identifier</th>\n",
       "      <th>Item_Weight</th>\n",
       "      <th>Item_Fat_Content</th>\n",
       "      <th>Item_Visibility</th>\n",
       "      <th>Item_MRP</th>\n",
       "      <th>Outlet_Identifier</th>\n",
       "      <th>Outlet_Size</th>\n",
       "      <th>Outlet_Location_Type</th>\n",
       "      <th>Outlet_Type</th>\n",
       "      <th>Item_Outlet_Sales</th>\n",
       "      <th>Item_Type_combined</th>\n",
       "      <th>yearsold</th>\n",
       "    </tr>\n",
       "  </thead>\n",
       "  <tbody>\n",
       "    <tr>\n",
       "      <th>0</th>\n",
       "      <td>FDA15</td>\n",
       "      <td>9.30</td>\n",
       "      <td>Low Fat</td>\n",
       "      <td>0.016047</td>\n",
       "      <td>249.8092</td>\n",
       "      <td>OUT049</td>\n",
       "      <td>Medium</td>\n",
       "      <td>Tier 1</td>\n",
       "      <td>Supermarket Type1</td>\n",
       "      <td>3735.1380</td>\n",
       "      <td>Food</td>\n",
       "      <td>14</td>\n",
       "    </tr>\n",
       "    <tr>\n",
       "      <th>1</th>\n",
       "      <td>DRC01</td>\n",
       "      <td>5.92</td>\n",
       "      <td>Regular</td>\n",
       "      <td>0.019278</td>\n",
       "      <td>48.2692</td>\n",
       "      <td>OUT018</td>\n",
       "      <td>Medium</td>\n",
       "      <td>Tier 3</td>\n",
       "      <td>Supermarket Type2</td>\n",
       "      <td>443.4228</td>\n",
       "      <td>Drinks</td>\n",
       "      <td>4</td>\n",
       "    </tr>\n",
       "    <tr>\n",
       "      <th>2</th>\n",
       "      <td>FDN15</td>\n",
       "      <td>17.50</td>\n",
       "      <td>Low Fat</td>\n",
       "      <td>0.016760</td>\n",
       "      <td>141.6180</td>\n",
       "      <td>OUT049</td>\n",
       "      <td>Medium</td>\n",
       "      <td>Tier 1</td>\n",
       "      <td>Supermarket Type1</td>\n",
       "      <td>2097.2700</td>\n",
       "      <td>Food</td>\n",
       "      <td>14</td>\n",
       "    </tr>\n",
       "    <tr>\n",
       "      <th>3</th>\n",
       "      <td>FDX07</td>\n",
       "      <td>19.20</td>\n",
       "      <td>Regular</td>\n",
       "      <td>0.000000</td>\n",
       "      <td>182.0950</td>\n",
       "      <td>OUT010</td>\n",
       "      <td>Small</td>\n",
       "      <td>Tier 3</td>\n",
       "      <td>Grocery Store</td>\n",
       "      <td>732.3800</td>\n",
       "      <td>Food</td>\n",
       "      <td>15</td>\n",
       "    </tr>\n",
       "    <tr>\n",
       "      <th>4</th>\n",
       "      <td>NCD19</td>\n",
       "      <td>8.93</td>\n",
       "      <td>Non_edible</td>\n",
       "      <td>0.000000</td>\n",
       "      <td>53.8614</td>\n",
       "      <td>OUT013</td>\n",
       "      <td>High</td>\n",
       "      <td>Tier 3</td>\n",
       "      <td>Supermarket Type1</td>\n",
       "      <td>994.7052</td>\n",
       "      <td>Non_consumable</td>\n",
       "      <td>26</td>\n",
       "    </tr>\n",
       "  </tbody>\n",
       "</table>\n",
       "</div>"
      ],
      "text/plain": [
       "  Item_Identifier  Item_Weight Item_Fat_Content  Item_Visibility  Item_MRP  \\\n",
       "0           FDA15         9.30          Low Fat         0.016047  249.8092   \n",
       "1           DRC01         5.92          Regular         0.019278   48.2692   \n",
       "2           FDN15        17.50          Low Fat         0.016760  141.6180   \n",
       "3           FDX07        19.20          Regular         0.000000  182.0950   \n",
       "4           NCD19         8.93       Non_edible         0.000000   53.8614   \n",
       "\n",
       "  Outlet_Identifier Outlet_Size Outlet_Location_Type        Outlet_Type  \\\n",
       "0            OUT049      Medium               Tier 1  Supermarket Type1   \n",
       "1            OUT018      Medium               Tier 3  Supermarket Type2   \n",
       "2            OUT049      Medium               Tier 1  Supermarket Type1   \n",
       "3            OUT010       Small               Tier 3      Grocery Store   \n",
       "4            OUT013        High               Tier 3  Supermarket Type1   \n",
       "\n",
       "   Item_Outlet_Sales Item_Type_combined  yearsold  \n",
       "0          3735.1380               Food        14  \n",
       "1           443.4228             Drinks         4  \n",
       "2          2097.2700               Food        14  \n",
       "3           732.3800               Food        15  \n",
       "4           994.7052     Non_consumable        26  "
      ]
     },
     "execution_count": 15,
     "metadata": {},
     "output_type": "execute_result"
    }
   ],
   "source": [
    "#Using feature Engineering and adding new column\n",
    "df['yearsold']=2013-df['Outlet_Establishment_Year']\n",
    "df=df.drop(columns=['Outlet_Establishment_Year'])\n",
    "df.head()"
   ]
  },
  {
   "cell_type": "code",
   "execution_count": 16,
   "metadata": {
    "scrolled": false
   },
   "outputs": [
    {
     "name": "stdout",
     "output_type": "stream",
     "text": [
      "                           mean\n",
      "                Item_Visibility\n",
      "Item_Identifier                \n",
      "DRA12                  0.034938\n",
      "DRA24                  0.045646\n",
      "DRA59                  0.133384\n",
      "DRB01                  0.079736\n",
      "DRB13                  0.006799\n",
      "...                         ...\n",
      "NCZ30                  0.027302\n",
      "NCZ41                  0.056396\n",
      "NCZ42                  0.011015\n",
      "NCZ53                  0.026330\n",
      "NCZ54                  0.081345\n",
      "\n",
      "[1559 rows x 1 columns]\n"
     ]
    },
    {
     "data": {
      "text/html": [
       "<div>\n",
       "<style scoped>\n",
       "    .dataframe tbody tr th:only-of-type {\n",
       "        vertical-align: middle;\n",
       "    }\n",
       "\n",
       "    .dataframe tbody tr th {\n",
       "        vertical-align: top;\n",
       "    }\n",
       "\n",
       "    .dataframe thead th {\n",
       "        text-align: right;\n",
       "    }\n",
       "</style>\n",
       "<table border=\"1\" class=\"dataframe\">\n",
       "  <thead>\n",
       "    <tr style=\"text-align: right;\">\n",
       "      <th></th>\n",
       "      <th>Item_Identifier</th>\n",
       "      <th>Item_Weight</th>\n",
       "      <th>Item_Fat_Content</th>\n",
       "      <th>Item_Visibility</th>\n",
       "      <th>Item_MRP</th>\n",
       "      <th>Outlet_Identifier</th>\n",
       "      <th>Outlet_Size</th>\n",
       "      <th>Outlet_Location_Type</th>\n",
       "      <th>Outlet_Type</th>\n",
       "      <th>Item_Outlet_Sales</th>\n",
       "      <th>Item_Type_combined</th>\n",
       "      <th>yearsold</th>\n",
       "    </tr>\n",
       "  </thead>\n",
       "  <tbody>\n",
       "    <tr>\n",
       "      <th>0</th>\n",
       "      <td>FDA15</td>\n",
       "      <td>9.30</td>\n",
       "      <td>Low Fat</td>\n",
       "      <td>0.016047</td>\n",
       "      <td>249.8092</td>\n",
       "      <td>OUT049</td>\n",
       "      <td>Medium</td>\n",
       "      <td>Tier 1</td>\n",
       "      <td>Supermarket Type1</td>\n",
       "      <td>3735.1380</td>\n",
       "      <td>Food</td>\n",
       "      <td>14</td>\n",
       "    </tr>\n",
       "    <tr>\n",
       "      <th>1</th>\n",
       "      <td>DRC01</td>\n",
       "      <td>5.92</td>\n",
       "      <td>Regular</td>\n",
       "      <td>0.019278</td>\n",
       "      <td>48.2692</td>\n",
       "      <td>OUT018</td>\n",
       "      <td>Medium</td>\n",
       "      <td>Tier 3</td>\n",
       "      <td>Supermarket Type2</td>\n",
       "      <td>443.4228</td>\n",
       "      <td>Drinks</td>\n",
       "      <td>4</td>\n",
       "    </tr>\n",
       "    <tr>\n",
       "      <th>2</th>\n",
       "      <td>FDN15</td>\n",
       "      <td>17.50</td>\n",
       "      <td>Low Fat</td>\n",
       "      <td>0.016760</td>\n",
       "      <td>141.6180</td>\n",
       "      <td>OUT049</td>\n",
       "      <td>Medium</td>\n",
       "      <td>Tier 1</td>\n",
       "      <td>Supermarket Type1</td>\n",
       "      <td>2097.2700</td>\n",
       "      <td>Food</td>\n",
       "      <td>14</td>\n",
       "    </tr>\n",
       "    <tr>\n",
       "      <th>3</th>\n",
       "      <td>FDX07</td>\n",
       "      <td>19.20</td>\n",
       "      <td>Regular</td>\n",
       "      <td>0.017834</td>\n",
       "      <td>182.0950</td>\n",
       "      <td>OUT010</td>\n",
       "      <td>Small</td>\n",
       "      <td>Tier 3</td>\n",
       "      <td>Grocery Store</td>\n",
       "      <td>732.3800</td>\n",
       "      <td>Food</td>\n",
       "      <td>15</td>\n",
       "    </tr>\n",
       "    <tr>\n",
       "      <th>4</th>\n",
       "      <td>NCD19</td>\n",
       "      <td>8.93</td>\n",
       "      <td>Non_edible</td>\n",
       "      <td>0.009780</td>\n",
       "      <td>53.8614</td>\n",
       "      <td>OUT013</td>\n",
       "      <td>High</td>\n",
       "      <td>Tier 3</td>\n",
       "      <td>Supermarket Type1</td>\n",
       "      <td>994.7052</td>\n",
       "      <td>Non_consumable</td>\n",
       "      <td>26</td>\n",
       "    </tr>\n",
       "  </tbody>\n",
       "</table>\n",
       "</div>"
      ],
      "text/plain": [
       "  Item_Identifier  Item_Weight Item_Fat_Content  Item_Visibility  Item_MRP  \\\n",
       "0           FDA15         9.30          Low Fat         0.016047  249.8092   \n",
       "1           DRC01         5.92          Regular         0.019278   48.2692   \n",
       "2           FDN15        17.50          Low Fat         0.016760  141.6180   \n",
       "3           FDX07        19.20          Regular         0.017834  182.0950   \n",
       "4           NCD19         8.93       Non_edible         0.009780   53.8614   \n",
       "\n",
       "  Outlet_Identifier Outlet_Size Outlet_Location_Type        Outlet_Type  \\\n",
       "0            OUT049      Medium               Tier 1  Supermarket Type1   \n",
       "1            OUT018      Medium               Tier 3  Supermarket Type2   \n",
       "2            OUT049      Medium               Tier 1  Supermarket Type1   \n",
       "3            OUT010       Small               Tier 3      Grocery Store   \n",
       "4            OUT013        High               Tier 3  Supermarket Type1   \n",
       "\n",
       "   Item_Outlet_Sales Item_Type_combined  yearsold  \n",
       "0          3735.1380               Food        14  \n",
       "1           443.4228             Drinks         4  \n",
       "2          2097.2700               Food        14  \n",
       "3           732.3800               Food        15  \n",
       "4           994.7052     Non_consumable        26  "
      ]
     },
     "execution_count": 16,
     "metadata": {},
     "output_type": "execute_result"
    }
   ],
   "source": [
    "# Converting all the zero values to mean in the visibility column\n",
    "Item_Visibility_mean=df.pivot_table(index='Item_Identifier',values='Item_Visibility',aggfunc=[np.mean])\n",
    "print(Item_Visibility_mean)\n",
    "bool4=df['Item_Visibility']==0\n",
    "df['Item_Visibility'][bool4]=df['Item_Identifier'][bool4].apply(lambda x:Item_Visibility_mean.loc[x] ).values.reshape(-1)\n",
    "df.head()"
   ]
  },
  {
   "cell_type": "code",
   "execution_count": 17,
   "metadata": {
    "scrolled": false
   },
   "outputs": [
    {
     "data": {
      "text/html": [
       "<div>\n",
       "<style scoped>\n",
       "    .dataframe tbody tr th:only-of-type {\n",
       "        vertical-align: middle;\n",
       "    }\n",
       "\n",
       "    .dataframe tbody tr th {\n",
       "        vertical-align: top;\n",
       "    }\n",
       "\n",
       "    .dataframe thead th {\n",
       "        text-align: right;\n",
       "    }\n",
       "</style>\n",
       "<table border=\"1\" class=\"dataframe\">\n",
       "  <thead>\n",
       "    <tr style=\"text-align: right;\">\n",
       "      <th></th>\n",
       "      <th>Item_Weight</th>\n",
       "      <th>Item_Visibility</th>\n",
       "      <th>Item_MRP</th>\n",
       "      <th>Item_Outlet_Sales</th>\n",
       "      <th>yearsold</th>\n",
       "    </tr>\n",
       "  </thead>\n",
       "  <tbody>\n",
       "    <tr>\n",
       "      <th>Item_Weight</th>\n",
       "      <td>1.000000</td>\n",
       "      <td>-0.022028</td>\n",
       "      <td>0.035751</td>\n",
       "      <td>0.013261</td>\n",
       "      <td>-0.000247</td>\n",
       "    </tr>\n",
       "    <tr>\n",
       "      <th>Item_Visibility</th>\n",
       "      <td>-0.022028</td>\n",
       "      <td>1.000000</td>\n",
       "      <td>-0.007550</td>\n",
       "      <td>-0.128453</td>\n",
       "      <td>0.084481</td>\n",
       "    </tr>\n",
       "    <tr>\n",
       "      <th>Item_MRP</th>\n",
       "      <td>0.035751</td>\n",
       "      <td>-0.007550</td>\n",
       "      <td>1.000000</td>\n",
       "      <td>0.567574</td>\n",
       "      <td>-0.000141</td>\n",
       "    </tr>\n",
       "    <tr>\n",
       "      <th>Item_Outlet_Sales</th>\n",
       "      <td>0.013261</td>\n",
       "      <td>-0.128453</td>\n",
       "      <td>0.567574</td>\n",
       "      <td>1.000000</td>\n",
       "      <td>0.049135</td>\n",
       "    </tr>\n",
       "    <tr>\n",
       "      <th>yearsold</th>\n",
       "      <td>-0.000247</td>\n",
       "      <td>0.084481</td>\n",
       "      <td>-0.000141</td>\n",
       "      <td>0.049135</td>\n",
       "      <td>1.000000</td>\n",
       "    </tr>\n",
       "  </tbody>\n",
       "</table>\n",
       "</div>"
      ],
      "text/plain": [
       "                   Item_Weight  Item_Visibility  Item_MRP  Item_Outlet_Sales  \\\n",
       "Item_Weight           1.000000        -0.022028  0.035751           0.013261   \n",
       "Item_Visibility      -0.022028         1.000000 -0.007550          -0.128453   \n",
       "Item_MRP              0.035751        -0.007550  1.000000           0.567574   \n",
       "Item_Outlet_Sales     0.013261        -0.128453  0.567574           1.000000   \n",
       "yearsold             -0.000247         0.084481 -0.000141           0.049135   \n",
       "\n",
       "                   yearsold  \n",
       "Item_Weight       -0.000247  \n",
       "Item_Visibility    0.084481  \n",
       "Item_MRP          -0.000141  \n",
       "Item_Outlet_Sales  0.049135  \n",
       "yearsold           1.000000  "
      ]
     },
     "execution_count": 17,
     "metadata": {},
     "output_type": "execute_result"
    }
   ],
   "source": [
    "#Checks for correation between different numerical columns\n",
    "df.corr()"
   ]
  },
  {
   "cell_type": "markdown",
   "metadata": {},
   "source": [
    "# Identifying outliers and fixing them"
   ]
  },
  {
   "cell_type": "code",
   "execution_count": 18,
   "metadata": {
    "scrolled": false
   },
   "outputs": [
    {
     "data": {
      "text/html": [
       "<div>\n",
       "<style scoped>\n",
       "    .dataframe tbody tr th:only-of-type {\n",
       "        vertical-align: middle;\n",
       "    }\n",
       "\n",
       "    .dataframe tbody tr th {\n",
       "        vertical-align: top;\n",
       "    }\n",
       "\n",
       "    .dataframe thead th {\n",
       "        text-align: right;\n",
       "    }\n",
       "</style>\n",
       "<table border=\"1\" class=\"dataframe\">\n",
       "  <thead>\n",
       "    <tr style=\"text-align: right;\">\n",
       "      <th></th>\n",
       "      <th>Item_Weight</th>\n",
       "      <th>Item_Visibility</th>\n",
       "      <th>Item_MRP</th>\n",
       "      <th>Item_Outlet_Sales</th>\n",
       "      <th>yearsold</th>\n",
       "    </tr>\n",
       "  </thead>\n",
       "  <tbody>\n",
       "    <tr>\n",
       "      <th>count</th>\n",
       "      <td>14204.000000</td>\n",
       "      <td>14204.000000</td>\n",
       "      <td>14204.000000</td>\n",
       "      <td>8523.000000</td>\n",
       "      <td>14204.000000</td>\n",
       "    </tr>\n",
       "    <tr>\n",
       "      <th>mean</th>\n",
       "      <td>12.793380</td>\n",
       "      <td>0.069710</td>\n",
       "      <td>141.004977</td>\n",
       "      <td>2181.288914</td>\n",
       "      <td>15.169319</td>\n",
       "    </tr>\n",
       "    <tr>\n",
       "      <th>std</th>\n",
       "      <td>4.651716</td>\n",
       "      <td>0.049728</td>\n",
       "      <td>62.086938</td>\n",
       "      <td>1706.499616</td>\n",
       "      <td>8.371664</td>\n",
       "    </tr>\n",
       "    <tr>\n",
       "      <th>min</th>\n",
       "      <td>4.555000</td>\n",
       "      <td>0.003575</td>\n",
       "      <td>31.290000</td>\n",
       "      <td>33.290000</td>\n",
       "      <td>4.000000</td>\n",
       "    </tr>\n",
       "    <tr>\n",
       "      <th>25%</th>\n",
       "      <td>8.710000</td>\n",
       "      <td>0.031145</td>\n",
       "      <td>94.012000</td>\n",
       "      <td>834.247400</td>\n",
       "      <td>9.000000</td>\n",
       "    </tr>\n",
       "    <tr>\n",
       "      <th>50%</th>\n",
       "      <td>12.600000</td>\n",
       "      <td>0.057194</td>\n",
       "      <td>142.247000</td>\n",
       "      <td>1794.331000</td>\n",
       "      <td>14.000000</td>\n",
       "    </tr>\n",
       "    <tr>\n",
       "      <th>75%</th>\n",
       "      <td>16.750000</td>\n",
       "      <td>0.096930</td>\n",
       "      <td>185.855600</td>\n",
       "      <td>3101.296400</td>\n",
       "      <td>26.000000</td>\n",
       "    </tr>\n",
       "    <tr>\n",
       "      <th>max</th>\n",
       "      <td>21.350000</td>\n",
       "      <td>0.328391</td>\n",
       "      <td>266.888400</td>\n",
       "      <td>13086.964800</td>\n",
       "      <td>28.000000</td>\n",
       "    </tr>\n",
       "  </tbody>\n",
       "</table>\n",
       "</div>"
      ],
      "text/plain": [
       "        Item_Weight  Item_Visibility      Item_MRP  Item_Outlet_Sales  \\\n",
       "count  14204.000000     14204.000000  14204.000000        8523.000000   \n",
       "mean      12.793380         0.069710    141.004977        2181.288914   \n",
       "std        4.651716         0.049728     62.086938        1706.499616   \n",
       "min        4.555000         0.003575     31.290000          33.290000   \n",
       "25%        8.710000         0.031145     94.012000         834.247400   \n",
       "50%       12.600000         0.057194    142.247000        1794.331000   \n",
       "75%       16.750000         0.096930    185.855600        3101.296400   \n",
       "max       21.350000         0.328391    266.888400       13086.964800   \n",
       "\n",
       "           yearsold  \n",
       "count  14204.000000  \n",
       "mean      15.169319  \n",
       "std        8.371664  \n",
       "min        4.000000  \n",
       "25%        9.000000  \n",
       "50%       14.000000  \n",
       "75%       26.000000  \n",
       "max       28.000000  "
      ]
     },
     "execution_count": 18,
     "metadata": {},
     "output_type": "execute_result"
    }
   ],
   "source": [
    "df.describe()            "
   ]
  },
  {
   "cell_type": "code",
   "execution_count": 19,
   "metadata": {
    "scrolled": false
   },
   "outputs": [
    {
     "data": {
      "image/png": "[encoded data removed]",
      "text/plain": [
       "<Figure size 432x288 with 1 Axes>"
      ]
     },
     "metadata": {},
     "output_type": "display_data"
    }
   ],
   "source": [
    "\n",
    "\n",
    "\n",
    "\n",
    "sns.set(style=\"whitegrid\")\n",
    "ax = sns.boxplot(x=df[\"Item_Outlet_Sales\"])"
   ]
  },
  {
   "cell_type": "code",
   "execution_count": 20,
   "metadata": {
    "scrolled": false
   },
   "outputs": [],
   "source": [
    "#As we know only Item_Outlet_Sales have outliers we can fix them but fixing them will increase our RMSE score \n",
    "#to a large extent"
   ]
  },
  {
   "cell_type": "markdown",
   "metadata": {},
   "source": [
    "# Plotting Graphs for more Analysis"
   ]
  },
  {
   "cell_type": "code",
   "execution_count": 21,
   "metadata": {
    "scrolled": false
   },
   "outputs": [
    {
     "data": {
      "image/png": "[encoded data removed]",
      "text/plain": [
       "<Figure size 432x288 with 1 Axes>"
      ]
     },
     "metadata": {},
     "output_type": "display_data"
    }
   ],
   "source": [
    "#value of sales increases for the increase in MRP of the item\n",
    "plt.scatter(df.Item_MRP,df.Item_Outlet_Sales,c='g')\n",
    "plt.show()\n"
   ]
  },
  {
   "cell_type": "code",
   "execution_count": 22,
   "metadata": {
    "scrolled": false
   },
   "outputs": [
    {
     "data": {
      "image/png": "[encoded data removed]",
      "text/plain": [
       "<Figure size 1088.8x216 with 3 Axes>"
      ]
     },
     "metadata": {},
     "output_type": "display_data"
    }
   ],
   "source": [
    "sns.FacetGrid(df, col='Item_Type_combined', size=3, col_wrap=5) \\\n",
    "    .map(plt.hist, 'Item_Outlet_Sales') \\\n",
    "    .add_legend();\n",
    "# Maximum contribution to outlet sales is from Items that are food type and least is from drinks"
   ]
  },
  {
   "cell_type": "code",
   "execution_count": 23,
   "metadata": {
    "scrolled": false
   },
   "outputs": [
    {
     "data": {
      "image/png": "[encoded data removed]",
      "text/plain": [
       "<Figure size 1088.8x216 with 3 Axes>"
      ]
     },
     "metadata": {},
     "output_type": "display_data"
    }
   ],
   "source": [
    "sns.FacetGrid(df, col='Outlet_Location_Type', size=3, col_wrap=5) \\\n",
    "    .map(plt.hist, 'Item_Outlet_Sales') \\\n",
    "    .add_legend();\n",
    "#Tier3 type of outlet location provides for the maximum sales and other two provides the least sales"
   ]
  },
  {
   "cell_type": "code",
   "execution_count": 24,
   "metadata": {
    "scrolled": false
   },
   "outputs": [
    {
     "data": {
      "image/png": "[encoded data removed]",
      "text/plain": [
       "<Figure size 1088.8x216 with 3 Axes>"
      ]
     },
     "metadata": {},
     "output_type": "display_data"
    }
   ],
   "source": [
    "sns.FacetGrid(df, col='Outlet_Size', size=3, col_wrap=5) \\\n",
    "    .map(plt.hist, 'Item_Outlet_Sales') \\\n",
    "    .add_legend();\n",
    "#Small sized Outlets are providing the maximum sales whereas large sized outlets \n",
    "# are contributing the least"
   ]
  },
  {
   "cell_type": "code",
   "execution_count": 25,
   "metadata": {
    "scrolled": false
   },
   "outputs": [
    {
     "data": {
      "image/png": "[encoded data removed]",
      "text/plain": [
       "<Figure size 1088.8x216 with 3 Axes>"
      ]
     },
     "metadata": {},
     "output_type": "display_data"
    }
   ],
   "source": [
    "sns.FacetGrid(df, col='Item_Fat_Content', size=3, col_wrap=5) \\\n",
    "    .map(plt.hist, 'Item_Outlet_Sales') \\\n",
    "    .add_legend();\n",
    "# people are prefering items with lowest fat content the most "
   ]
  },
  {
   "cell_type": "code",
   "execution_count": 26,
   "metadata": {
    "scrolled": false
   },
   "outputs": [
    {
     "data": {
      "image/png": "[encoded data removed]",
      "text/plain": [
       "<Figure size 440.8x432 with 4 Axes>"
      ]
     },
     "metadata": {},
     "output_type": "display_data"
    }
   ],
   "source": [
    "sns.FacetGrid(df, col='Outlet_Type', size=3, col_wrap=2) \\\n",
    "    .map(plt.hist, 'Item_Outlet_Sales') \\\n",
    "    .add_legend();\n",
    "#Maximum of the high sales margin is from Supermarket Type1\n",
    "#Grocery store has the least sales"
   ]
  },
  {
   "cell_type": "code",
   "execution_count": 27,
   "metadata": {
    "scrolled": false
   },
   "outputs": [
    {
     "data": {
      "text/html": [
       "<div>\n",
       "<style scoped>\n",
       "    .dataframe tbody tr th:only-of-type {\n",
       "        vertical-align: middle;\n",
       "    }\n",
       "\n",
       "    .dataframe tbody tr th {\n",
       "        vertical-align: top;\n",
       "    }\n",
       "\n",
       "    .dataframe thead th {\n",
       "        text-align: right;\n",
       "    }\n",
       "</style>\n",
       "<table border=\"1\" class=\"dataframe\">\n",
       "  <thead>\n",
       "    <tr style=\"text-align: right;\">\n",
       "      <th></th>\n",
       "      <th>Item_Weight</th>\n",
       "      <th>Item_Fat_Content</th>\n",
       "      <th>Item_Visibility</th>\n",
       "      <th>Item_MRP</th>\n",
       "      <th>Outlet_Size</th>\n",
       "      <th>Outlet_Location_Type</th>\n",
       "      <th>Outlet_Type</th>\n",
       "      <th>Item_Outlet_Sales</th>\n",
       "      <th>Item_Type_combined</th>\n",
       "      <th>yearsold</th>\n",
       "      <th>Outlet_Identifier_OUT010</th>\n",
       "      <th>Outlet_Identifier_OUT013</th>\n",
       "      <th>Outlet_Identifier_OUT017</th>\n",
       "      <th>Outlet_Identifier_OUT018</th>\n",
       "      <th>Outlet_Identifier_OUT019</th>\n",
       "      <th>Outlet_Identifier_OUT027</th>\n",
       "      <th>Outlet_Identifier_OUT035</th>\n",
       "      <th>Outlet_Identifier_OUT045</th>\n",
       "      <th>Outlet_Identifier_OUT046</th>\n",
       "      <th>Outlet_Identifier_OUT049</th>\n",
       "    </tr>\n",
       "  </thead>\n",
       "  <tbody>\n",
       "    <tr>\n",
       "      <th>0</th>\n",
       "      <td>9.30</td>\n",
       "      <td>0</td>\n",
       "      <td>0.016047</td>\n",
       "      <td>249.8092</td>\n",
       "      <td>1</td>\n",
       "      <td>0</td>\n",
       "      <td>1</td>\n",
       "      <td>3735.1380</td>\n",
       "      <td>1</td>\n",
       "      <td>14</td>\n",
       "      <td>0</td>\n",
       "      <td>0</td>\n",
       "      <td>0</td>\n",
       "      <td>0</td>\n",
       "      <td>0</td>\n",
       "      <td>0</td>\n",
       "      <td>0</td>\n",
       "      <td>0</td>\n",
       "      <td>0</td>\n",
       "      <td>1</td>\n",
       "    </tr>\n",
       "    <tr>\n",
       "      <th>1</th>\n",
       "      <td>5.92</td>\n",
       "      <td>2</td>\n",
       "      <td>0.019278</td>\n",
       "      <td>48.2692</td>\n",
       "      <td>1</td>\n",
       "      <td>2</td>\n",
       "      <td>2</td>\n",
       "      <td>443.4228</td>\n",
       "      <td>0</td>\n",
       "      <td>4</td>\n",
       "      <td>0</td>\n",
       "      <td>0</td>\n",
       "      <td>0</td>\n",
       "      <td>1</td>\n",
       "      <td>0</td>\n",
       "      <td>0</td>\n",
       "      <td>0</td>\n",
       "      <td>0</td>\n",
       "      <td>0</td>\n",
       "      <td>0</td>\n",
       "    </tr>\n",
       "    <tr>\n",
       "      <th>2</th>\n",
       "      <td>17.50</td>\n",
       "      <td>0</td>\n",
       "      <td>0.016760</td>\n",
       "      <td>141.6180</td>\n",
       "      <td>1</td>\n",
       "      <td>0</td>\n",
       "      <td>1</td>\n",
       "      <td>2097.2700</td>\n",
       "      <td>1</td>\n",
       "      <td>14</td>\n",
       "      <td>0</td>\n",
       "      <td>0</td>\n",
       "      <td>0</td>\n",
       "      <td>0</td>\n",
       "      <td>0</td>\n",
       "      <td>0</td>\n",
       "      <td>0</td>\n",
       "      <td>0</td>\n",
       "      <td>0</td>\n",
       "      <td>1</td>\n",
       "    </tr>\n",
       "    <tr>\n",
       "      <th>3</th>\n",
       "      <td>19.20</td>\n",
       "      <td>2</td>\n",
       "      <td>0.017834</td>\n",
       "      <td>182.0950</td>\n",
       "      <td>2</td>\n",
       "      <td>2</td>\n",
       "      <td>0</td>\n",
       "      <td>732.3800</td>\n",
       "      <td>1</td>\n",
       "      <td>15</td>\n",
       "      <td>1</td>\n",
       "      <td>0</td>\n",
       "      <td>0</td>\n",
       "      <td>0</td>\n",
       "      <td>0</td>\n",
       "      <td>0</td>\n",
       "      <td>0</td>\n",
       "      <td>0</td>\n",
       "      <td>0</td>\n",
       "      <td>0</td>\n",
       "    </tr>\n",
       "    <tr>\n",
       "      <th>4</th>\n",
       "      <td>8.93</td>\n",
       "      <td>1</td>\n",
       "      <td>0.009780</td>\n",
       "      <td>53.8614</td>\n",
       "      <td>0</td>\n",
       "      <td>2</td>\n",
       "      <td>1</td>\n",
       "      <td>994.7052</td>\n",
       "      <td>2</td>\n",
       "      <td>26</td>\n",
       "      <td>0</td>\n",
       "      <td>1</td>\n",
       "      <td>0</td>\n",
       "      <td>0</td>\n",
       "      <td>0</td>\n",
       "      <td>0</td>\n",
       "      <td>0</td>\n",
       "      <td>0</td>\n",
       "      <td>0</td>\n",
       "      <td>0</td>\n",
       "    </tr>\n",
       "  </tbody>\n",
       "</table>\n",
       "</div>"
      ],
      "text/plain": [
       "   Item_Weight  Item_Fat_Content  Item_Visibility  Item_MRP  Outlet_Size  \\\n",
       "0         9.30                 0         0.016047  249.8092            1   \n",
       "1         5.92                 2         0.019278   48.2692            1   \n",
       "2        17.50                 0         0.016760  141.6180            1   \n",
       "3        19.20                 2         0.017834  182.0950            2   \n",
       "4         8.93                 1         0.009780   53.8614            0   \n",
       "\n",
       "   Outlet_Location_Type  Outlet_Type  Item_Outlet_Sales  Item_Type_combined  \\\n",
       "0                     0            1          3735.1380                   1   \n",
       "1                     2            2           443.4228                   0   \n",
       "2                     0            1          2097.2700                   1   \n",
       "3                     2            0           732.3800                   1   \n",
       "4                     2            1           994.7052                   2   \n",
       "\n",
       "   yearsold  Outlet_Identifier_OUT010  Outlet_Identifier_OUT013  \\\n",
       "0        14                         0                         0   \n",
       "1         4                         0                         0   \n",
       "2        14                         0                         0   \n",
       "3        15                         1                         0   \n",
       "4        26                         0                         1   \n",
       "\n",
       "   Outlet_Identifier_OUT017  Outlet_Identifier_OUT018  \\\n",
       "0                         0                         0   \n",
       "1                         0                         1   \n",
       "2                         0                         0   \n",
       "3                         0                         0   \n",
       "4                         0                         0   \n",
       "\n",
       "   Outlet_Identifier_OUT019  Outlet_Identifier_OUT027  \\\n",
       "0                         0                         0   \n",
       "1                         0                         0   \n",
       "2                         0                         0   \n",
       "3                         0                         0   \n",
       "4                         0                         0   \n",
       "\n",
       "   Outlet_Identifier_OUT035  Outlet_Identifier_OUT045  \\\n",
       "0                         0                         0   \n",
       "1                         0                         0   \n",
       "2                         0                         0   \n",
       "3                         0                         0   \n",
       "4                         0                         0   \n",
       "\n",
       "   Outlet_Identifier_OUT046  Outlet_Identifier_OUT049  \n",
       "0                         0                         1  \n",
       "1                         0                         0  \n",
       "2                         0                         1  \n",
       "3                         0                         0  \n",
       "4                         0                         0  "
      ]
     },
     "execution_count": 27,
     "metadata": {},
     "output_type": "execute_result"
    }
   ],
   "source": [
    "#Label Encoding all the columns with text entries and dropping Item_identifier  \n",
    "le=LabelEncoder()\n",
    "lst=['Item_Fat_Content','Outlet_Location_Type','Outlet_Size','Outlet_Type','Item_Type_combined',\n",
    "      'Outlet_Size']\n",
    "for i in lst:\n",
    "    le.fit(df[i])\n",
    "    df[i]=le.transform(df[i])\n",
    "df_new=df.drop(columns='Item_Identifier')\n",
    "df_new= pd.get_dummies(df_new,columns=['Outlet_Identifier'])\n",
    "df_new.head()"
   ]
  },
  {
   "cell_type": "code",
   "execution_count": 28,
   "metadata": {
    "scrolled": false
   },
   "outputs": [],
   "source": [
    "#Separating test and train set\n",
    "df_new_train=df_new.iloc[:8523,:]\n",
    "df_new_test=df_new.iloc[8523:,:]\n",
    "\n",
    "Y_test=df_new_test['Item_Outlet_Sales']\n",
    "df_new_test=df_new_test.drop(columns=['Item_Outlet_Sales'])"
   ]
  },
  {
   "cell_type": "code",
   "execution_count": 29,
   "metadata": {
    "scrolled": false
   },
   "outputs": [],
   "source": [
    "Y_train=df_new_train['Item_Outlet_Sales']\n",
    "df_train_test=df_new_train.drop(columns=['Item_Outlet_Sales'])"
   ]
  },
  {
   "cell_type": "code",
   "execution_count": 30,
   "metadata": {
    "scrolled": false
   },
   "outputs": [],
   "source": [
    "from sklearn.linear_model import LinearRegression\n",
    "from sklearn.linear_model import Ridge\n",
    "from sklearn.ensemble import RandomForestRegressor \n",
    "from sklearn.ensemble import ExtraTreesRegressor\n",
    "from sklearn.ensemble import BaggingRegressor\n",
    "from sklearn.ensemble import GradientBoostingRegressor\n",
    "from sklearn.linear_model import ElasticNet \n",
    "from sklearn.neural_network import MLPRegressor\n",
    "from sklearn.model_selection import KFold, cross_val_score\n",
    "from xgboost import XGBRegressor\n",
    "import xgboost as xgb"
   ]
  },
  {
   "cell_type": "code",
   "execution_count": 31,
   "metadata": {
    "scrolled": false
   },
   "outputs": [],
   "source": [
    "models = [('lr',LinearRegression()),('ridge',Ridge()),('rfr',RandomForestRegressor()),('etr',ExtraTreesRegressor()),\n",
    "         ('br',BaggingRegressor()),('gbr',GradientBoostingRegressor()),('en',ElasticNet()),('mlp',MLPRegressor())]"
   ]
  },
  {
   "cell_type": "code",
   "execution_count": 32,
   "metadata": {
    "scrolled": false
   },
   "outputs": [],
   "source": [
    "#Making function for making best 2 models for further hyperparameter tuning\n",
    "def basic_model_selection(x,y,cross_folds,model):\n",
    "    scores=[]\n",
    "    names = []\n",
    "    for i , j in model:\n",
    "        cv_scores = cross_val_score(j, x, y, cv=cross_folds,n_jobs=5)\n",
    "        scores.append(cv_scores)\n",
    "        names.append(i)\n",
    "    for k in range(len(scores)):\n",
    "        print(names[k],scores[k].mean())"
   ]
  },
  {
   "cell_type": "code",
   "execution_count": 33,
   "metadata": {
    "scrolled": false
   },
   "outputs": [
    {
     "name": "stdout",
     "output_type": "stream",
     "text": [
      "lr 0.5600167514366815\n",
      "ridge 0.5600211200777784\n",
      "rfr 0.551257517687042\n",
      "etr 0.5224503481213824\n",
      "br 0.5178589675760863\n",
      "gbr 0.592690287939312\n",
      "en 0.4778293365405345\n",
      "mlp 0.5715184717626322\n"
     ]
    }
   ],
   "source": [
    "basic_model_selection(df_train_test,Y_train,4,models)"
   ]
  },
  {
   "cell_type": "code",
   "execution_count": 34,
   "metadata": {
    "scrolled": false
   },
   "outputs": [
    {
     "name": "stdout",
     "output_type": "stream",
     "text": [
      "0.5229295100807132\n"
     ]
    }
   ],
   "source": [
    "#Average score for XGBoost matrix\n",
    "# define data_dmatrix\n",
    "data_dmatrix = xgb.DMatrix(data=df_train_test,label=Y_train)\n",
    "# import XGBRegressor\n",
    "xgb1 = XGBRegressor()\n",
    "cv_score = cross_val_score(xgb1, df_train_test, Y_train, cv=4,n_jobs=5)\n",
    "print(cv_score.mean())"
   ]
  },
  {
   "cell_type": "markdown",
   "metadata": {},
   "source": [
    "# Gradient Boost Regression and XGBoost Regression will be used for further hyperparameter tuning"
   ]
  },
  {
   "cell_type": "code",
   "execution_count": 35,
   "metadata": {},
   "outputs": [],
   "source": [
    "# !pip install mlfoundry"
   ]
  },
  {
   "cell_type": "code",
   "execution_count": 36,
   "metadata": {},
   "outputs": [],
   "source": [
    "import mlfoundry as mlf"
   ]
  },
  {
   "cell_type": "code",
   "execution_count": 37,
   "metadata": {},
   "outputs": [
    {
     "name": "stdout",
     "output_type": "stream",
     "text": [
      "API key is already configured.\n",
      "Please use `mlfoundry login --relogin` or `mlfoundry.login(relogin=True)`to force relogin\n"
     ]
    },
    {
     "data": {
      "text/plain": [
       "False"
      ]
     },
     "execution_count": 37,
     "metadata": {},
     "output_type": "execute_result"
    }
   ],
   "source": [
    "# from getpass import getpass\n",
    "# api_token = getpass(\"TrueFoundry API Token:\")\n",
    "mlf.login()"
   ]
  },
  {
   "cell_type": "code",
   "execution_count": 38,
   "metadata": {
    "scrolled": false
   },
   "outputs": [],
   "source": [
    "mlf_api = mlf.get_client()"
   ]
  },
  {
   "cell_type": "code",
   "execution_count": 39,
   "metadata": {
    "scrolled": false
   },
   "outputs": [],
   "source": [
    "def model_parameter_tuning(x,y,model,parameters,cross_folds):\n",
    "    model_grid = GridSearchCV(model,\n",
    "                        parameters,\n",
    "                        cv = cross_folds,\n",
    "                        n_jobs = 5,\n",
    "                        verbose=True)\n",
    "    model_grid.fit(x,y)\n",
    "    y_predicted = model_grid.predict(x)\n",
    "    print(model_grid.score)\n",
    "    print(model_grid.best_params_)\n",
    "    rmse = np.sqrt(np.mean((y-y_predicted)**2))\n",
    "    print(\"The RMSE score is\", rmse)\n",
    "    \n",
    "    return model_grid, rmse \n",
    "\n",
    "#defining function for hyper parameter tuning and using RMSE as my metric\n",
    "    "
   ]
  },
  {
   "cell_type": "code",
   "execution_count": 40,
   "metadata": {
    "scrolled": false
   },
   "outputs": [],
   "source": [
    "parameters_xgb = {'nthread':[3,4], \n",
    "              'learning_rate':[0.02,0.03], #so called `eta` value\n",
    "              'max_depth': [3,2,4],\n",
    "              'min_child_weight':[3,4,5],\n",
    "              'silent': [1],\n",
    "              'subsample': [0.5],\n",
    "              'colsample_bytree': [0.7],\n",
    "              'n_estimators': [300,320]\n",
    "             }\n",
    "parameters_gbr={'loss':['ls','lad'],\n",
    "               'learning_rate':[0.3],\n",
    "               'n_estimators':[300],\n",
    "               'min_samples_split':[3,4],\n",
    "               'max_depth':[3,4],\n",
    "               'min_samples_leaf':[3,4,2],\n",
    "               'max_features':['auto','log2','sqrt']\n",
    "              }\n",
    "\n",
    "# Defining the useful parameters for parameter tuning\n",
    "# to get the optimum output"
   ]
  },
  {
   "cell_type": "code",
   "execution_count": 41,
   "metadata": {},
   "outputs": [
    {
     "name": "stdout",
     "output_type": "stream",
     "text": [
      "Link to the dashboard for the run: https://app.truefoundry.com/mlfoundry/150/fb77f343b6d54a5fba8c05987448a6e0/\n",
      "[mlfoundry] 2022-07-02T10:04:47+0530 WARNING failed to log git info because git repository is not present\n",
      "[mlfoundry] 2022-07-02T10:04:50+0530 INFO Run 'Kumar/bigmart-sales-prediction-project/XGB-Regressor-2' has started.\n"
     ]
    }
   ],
   "source": [
    "mlf_run = mlf_api.create_run(project_name='bigmart-sales-prediction-project', run_name='XGB-Regressor') "
   ]
  },
  {
   "cell_type": "code",
   "execution_count": 42,
   "metadata": {
    "scrolled": true
   },
   "outputs": [
    {
     "name": "stdout",
     "output_type": "stream",
     "text": [
      "Fitting 4 folds for each of 72 candidates, totalling 288 fits\n",
      "[10:07:24] WARNING: C:/Users/Administrator/workspace/xgboost-win64_release_1.6.0/src/learner.cc:627: \n",
      "Parameters: { \"silent\" } might not be used.\n",
      "\n",
      "  This could be a false alarm, with some parameters getting used by language bindings but\n",
      "  then being mistakenly passed down to XGBoost core, or some parameter actually being used\n",
      "  but getting flagged wrongly here. Please open an issue if you find any such cases.\n",
      "\n",
      "\n",
      "<bound method BaseSearchCV.score of GridSearchCV(cv=4,\n",
      "             estimator=XGBRegressor(base_score=None, booster=None,\n",
      "                                    callbacks=None, colsample_bylevel=None,\n",
      "                                    colsample_bynode=None,\n",
      "                                    colsample_bytree=None,\n",
      "                                    early_stopping_rounds=None,\n",
      "                                    enable_categorical=False, eval_metric=None,\n",
      "                                    gamma=None, gpu_id=None, grow_policy=None,\n",
      "                                    importance_type=None,\n",
      "                                    interaction_constraints=None,\n",
      "                                    learning_rate=None, max_bin=None,\n",
      "                                    max_cat...\n",
      "                                    monotone_constraints=None, n_estimators=100,\n",
      "                                    n_jobs=None, num_parallel_tree=None,\n",
      "                                    predictor=None, random_state=None,\n",
      "                                    reg_alpha=None, reg_lambda=None, ...),\n",
      "             n_jobs=5,\n",
      "             param_grid={'colsample_bytree': [0.7],\n",
      "                         'learning_rate': [0.02, 0.03], 'max_depth': [3, 2, 4],\n",
      "                         'min_child_weight': [3, 4, 5],\n",
      "                         'n_estimators': [300, 320], 'nthread': [3, 4],\n",
      "                         'silent': [1], 'subsample': [0.5]},\n",
      "             verbose=True)>\n",
      "{'colsample_bytree': 0.7, 'learning_rate': 0.02, 'max_depth': 3, 'min_child_weight': 4, 'n_estimators': 300, 'nthread': 3, 'silent': 1, 'subsample': 0.5}\n",
      "The RMSE score is 1055.5323821967581\n"
     ]
    }
   ],
   "source": [
    "model_grid, rmse = model_parameter_tuning(df_train_test,Y_train,xgb1,parameters_xgb,4)"
   ]
  },
  {
   "cell_type": "code",
   "execution_count": 43,
   "metadata": {
    "scrolled": false
   },
   "outputs": [
    {
     "name": "stdout",
     "output_type": "stream",
     "text": [
      "[mlfoundry] 2022-07-02T10:07:44+0530 INFO Parameters logged successfully\n",
      "[mlfoundry] 2022-07-02T10:07:46+0530 INFO Metrics logged successfully\n",
      "[mlfoundry] 2022-07-02T10:08:44+0530 INFO Model logged successfully\n"
     ]
    }
   ],
   "source": [
    "mlf_run.log_params(model_grid.best_params_)\n",
    "mlf_run.log_metrics({\"accuracy\":model_grid.best_score_, \"rmse\": rmse})\n",
    "mlf_run.log_model(model_grid.best_estimator_, mlf.ModelFramework.SKLEARN)"
   ]
  },
  {
   "cell_type": "code",
   "execution_count": 44,
   "metadata": {
    "scrolled": false
   },
   "outputs": [
    {
     "name": "stdout",
     "output_type": "stream",
     "text": [
      "[mlfoundry] 2022-07-02T10:08:44+0530 INFO Logging Dataset, this might take a while ...\n",
      "[mlfoundry] 2022-07-02T10:09:34+0530 INFO Dataset logged successfully\n",
      "To visualize the logged dataset, click on the link https://app.truefoundry.com/mlfoundry/150/fb77f343b6d54a5fba8c05987448a6e0/?tab=data-feature-metrics\n"
     ]
    }
   ],
   "source": [
    "train_df = df_train_test.copy()\n",
    "train_df['targets'] = Y_train\n",
    "train_df['predictions'] = model_grid.predict(df_train_test)\n",
    "\n",
    "mlf_run.log_dataset(\n",
    "    dataset_name = 'train_dataset',\n",
    "    features = train_df[list(df_train_test.columns)],\n",
    "    predictions = train_df['predictions'],\n",
    "    actuals = train_df['targets'],\n",
    "    only_stats = False,   \n",
    ")"
   ]
  },
  {
   "cell_type": "code",
   "execution_count": 45,
   "metadata": {},
   "outputs": [
    {
     "name": "stdout",
     "output_type": "stream",
     "text": [
      "Link to the dashboard for the run: https://app.truefoundry.com/mlfoundry/150/905316afdaee4f6da5e146468c13f239/\n",
      "[mlfoundry] 2022-07-02T10:09:41+0530 WARNING failed to log git info because git repository is not present\n",
      "[mlfoundry] 2022-07-02T10:09:42+0530 INFO Run 'Kumar/bigmart-sales-prediction-project/Gradient-Boost-Regressor' has started.\n",
      "[mlfoundry] 2022-07-02T10:09:48+0530 INFO Shutting down background jobs and syncing data for run 'Kumar/bigmart-sales-prediction-project/XGB-Regressor-2', please don't kill this process...\n",
      "[mlfoundry] 2022-07-02T10:09:51+0530 INFO Finished syncing data for run 'Kumar/bigmart-sales-prediction-project/XGB-Regressor-2'. Thank you for waiting!\n",
      "Link to the dashboard for the run: https://app.truefoundry.com/mlfoundry/150/fb77f343b6d54a5fba8c05987448a6e0/\n"
     ]
    }
   ],
   "source": [
    "mlf_run = mlf_api.create_run(project_name='bigmart-sales-prediction-project', run_name='Gradient-Boost-Regressor') "
   ]
  },
  {
   "cell_type": "code",
   "execution_count": 46,
   "metadata": {
    "scrolled": true
   },
   "outputs": [
    {
     "name": "stdout",
     "output_type": "stream",
     "text": [
      "Fitting 4 folds for each of 72 candidates, totalling 288 fits\n",
      "<bound method BaseSearchCV.score of GridSearchCV(cv=4, estimator=GradientBoostingRegressor(), n_jobs=5,\n",
      "             param_grid={'learning_rate': [0.3], 'loss': ['ls', 'lad'],\n",
      "                         'max_depth': [3, 4],\n",
      "                         'max_features': ['auto', 'log2', 'sqrt'],\n",
      "                         'min_samples_leaf': [3, 4, 2],\n",
      "                         'min_samples_split': [3, 4], 'n_estimators': [300]},\n",
      "             verbose=True)>\n",
      "{'learning_rate': 0.3, 'loss': 'lad', 'max_depth': 3, 'max_features': 'auto', 'min_samples_leaf': 2, 'min_samples_split': 3, 'n_estimators': 300}\n",
      "The RMSE score is 1053.290941306925\n"
     ]
    }
   ],
   "source": [
    "gbr=GradientBoostingRegressor()\n",
    "model_grid, rmse = model_parameter_tuning(df_train_test,Y_train,gbr,parameters_gbr,4)"
   ]
  },
  {
   "cell_type": "code",
   "execution_count": 47,
   "metadata": {
    "scrolled": false
   },
   "outputs": [
    {
     "name": "stdout",
     "output_type": "stream",
     "text": [
      "[mlfoundry] 2022-07-02T10:14:16+0530 INFO Parameters logged successfully\n",
      "[mlfoundry] 2022-07-02T10:14:17+0530 INFO Metrics logged successfully\n",
      "[mlfoundry] 2022-07-02T10:14:58+0530 INFO Model logged successfully\n"
     ]
    }
   ],
   "source": [
    "mlf_run.log_params(model_grid.best_params_)\n",
    "mlf_run.log_metrics({\"accuracy\":model_grid.best_score_, \"rmse\": rmse})\n",
    "mlf_run.log_model(model_grid.best_estimator_, mlf.ModelFramework.SKLEARN)"
   ]
  },
  {
   "cell_type": "code",
   "execution_count": 48,
   "metadata": {
    "scrolled": false
   },
   "outputs": [
    {
     "name": "stdout",
     "output_type": "stream",
     "text": [
      "[mlfoundry] 2022-07-02T10:14:59+0530 INFO Logging Dataset, this might take a while ...\n",
      "[mlfoundry] 2022-07-02T10:15:47+0530 INFO Dataset logged successfully\n",
      "To visualize the logged dataset, click on the link https://app.truefoundry.com/mlfoundry/150/905316afdaee4f6da5e146468c13f239/?tab=data-feature-metrics\n"
     ]
    }
   ],
   "source": [
    "train_df = df_train_test.copy()\n",
    "train_df['targets'] = Y_train\n",
    "train_df['predictions'] = model_grid.predict(df_train_test)\n",
    "\n",
    "mlf_run.log_dataset(\n",
    "    dataset_name = 'train_dataset',\n",
    "    features = train_df[list(df_train_test.columns)],\n",
    "    predictions = train_df['predictions'],\n",
    "    actuals = train_df['targets'],\n",
    "    only_stats = False,   \n",
    ")"
   ]
  },
  {
   "cell_type": "code",
   "execution_count": 49,
   "metadata": {},
   "outputs": [
    {
     "name": "stdout",
     "output_type": "stream",
     "text": [
      "Link to the dashboard for the run: https://app.truefoundry.com/mlfoundry/150/05dd527338414191917b01a730e2ebb0/\n",
      "[mlfoundry] 2022-07-02T10:15:53+0530 WARNING failed to log git info because git repository is not present\n",
      "[mlfoundry] 2022-07-02T10:15:54+0530 INFO Run 'Kumar/bigmart-sales-prediction-project/MLP-Regressor' has started.\n",
      "[mlfoundry] 2022-07-02T10:16:01+0530 INFO Shutting down background jobs and syncing data for run 'Kumar/bigmart-sales-prediction-project/Gradient-Boost-Regressor', please don't kill this process...\n",
      "[mlfoundry] 2022-07-02T10:16:04+0530 INFO Finished syncing data for run 'Kumar/bigmart-sales-prediction-project/Gradient-Boost-Regressor'. Thank you for waiting!\n",
      "Link to the dashboard for the run: https://app.truefoundry.com/mlfoundry/150/905316afdaee4f6da5e146468c13f239/\n"
     ]
    }
   ],
   "source": [
    "mlf_run = mlf_api.create_run(project_name='bigmart-sales-prediction-project', run_name='MLP-Regressor') "
   ]
  },
  {
   "cell_type": "code",
   "execution_count": 50,
   "metadata": {
    "scrolled": false
   },
   "outputs": [],
   "source": [
    "from sklearn.neural_network import MLPRegressor\n",
    "mlp=MLPRegressor()\n",
    "parameters_mlp = {'hidden_layer_sizes':[300,400,500],\n",
    "              'activation':['relu','tanh'],\n",
    "              'learning_rate':['adaptive'],\n",
    "              'learning_rate_init':[0.001,0.004],\n",
    "              'solver':['adam'],\n",
    "              'max_iter':[200,300]\n",
    "             }"
   ]
  },
  {
   "cell_type": "code",
   "execution_count": 51,
   "metadata": {
    "scrolled": true
   },
   "outputs": [
    {
     "name": "stdout",
     "output_type": "stream",
     "text": [
      "Fitting 4 folds for each of 24 candidates, totalling 96 fits\n",
      "<bound method BaseSearchCV.score of GridSearchCV(cv=4, estimator=MLPRegressor(), n_jobs=5,\n",
      "             param_grid={'activation': ['relu', 'tanh'],\n",
      "                         'hidden_layer_sizes': [300, 400, 500],\n",
      "                         'learning_rate': ['adaptive'],\n",
      "                         'learning_rate_init': [0.001, 0.004],\n",
      "                         'max_iter': [200, 300], 'solver': ['adam']},\n",
      "             verbose=True)>\n",
      "{'activation': 'relu', 'hidden_layer_sizes': 400, 'learning_rate': 'adaptive', 'learning_rate_init': 0.004, 'max_iter': 300, 'solver': 'adam'}\n",
      "The RMSE score is 1073.9002739623375\n"
     ]
    }
   ],
   "source": [
    "model_grid, rmse = model_parameter_tuning(df_train_test,Y_train,mlp,parameters_mlp,4)"
   ]
  },
  {
   "cell_type": "code",
   "execution_count": 52,
   "metadata": {
    "scrolled": false
   },
   "outputs": [
    {
     "name": "stdout",
     "output_type": "stream",
     "text": [
      "[mlfoundry] 2022-07-02T10:30:49+0530 INFO Parameters logged successfully\n",
      "[mlfoundry] 2022-07-02T10:30:52+0530 INFO Metrics logged successfully\n",
      "[mlfoundry] 2022-07-02T10:31:32+0530 INFO Model logged successfully\n"
     ]
    }
   ],
   "source": [
    "mlf_run.log_params(model_grid.best_params_)\n",
    "mlf_run.log_metrics({\"accuracy\":model_grid.best_score_, \"rmse\": rmse})\n",
    "mlf_run.log_model(model_grid.best_estimator_, mlf.ModelFramework.SKLEARN)"
   ]
  },
  {
   "cell_type": "code",
   "execution_count": 53,
   "metadata": {
    "scrolled": false
   },
   "outputs": [
    {
     "name": "stdout",
     "output_type": "stream",
     "text": [
      "[mlfoundry] 2022-07-02T10:31:33+0530 INFO Logging Dataset, this might take a while ...\n",
      "[mlfoundry] 2022-07-02T10:32:21+0530 INFO Dataset logged successfully\n",
      "To visualize the logged dataset, click on the link https://app.truefoundry.com/mlfoundry/150/05dd527338414191917b01a730e2ebb0/?tab=data-feature-metrics\n"
     ]
    }
   ],
   "source": [
    "train_df = df_train_test.copy()\n",
    "train_df['targets'] = Y_train\n",
    "train_df['predictions'] = model_grid.predict(df_train_test)\n",
    "\n",
    "mlf_run.log_dataset(\n",
    "    dataset_name = 'train_dataset',\n",
    "    features = train_df[list(df_train_test.columns)],\n",
    "    predictions = train_df['predictions'],\n",
    "    actuals = train_df['targets'],\n",
    "    only_stats = False,   \n",
    ")"
   ]
  },
  {
   "cell_type": "markdown",
   "metadata": {},
   "source": [
    "# Standardization of the model before training"
   ]
  },
  {
   "cell_type": "code",
   "execution_count": 54,
   "metadata": {
    "scrolled": false
   },
   "outputs": [
    {
     "data": {
      "text/html": [
       "<div>\n",
       "<style scoped>\n",
       "    .dataframe tbody tr th:only-of-type {\n",
       "        vertical-align: middle;\n",
       "    }\n",
       "\n",
       "    .dataframe tbody tr th {\n",
       "        vertical-align: top;\n",
       "    }\n",
       "\n",
       "    .dataframe thead th {\n",
       "        text-align: right;\n",
       "    }\n",
       "</style>\n",
       "<table border=\"1\" class=\"dataframe\">\n",
       "  <thead>\n",
       "    <tr style=\"text-align: right;\">\n",
       "      <th></th>\n",
       "      <th>Item_Weight</th>\n",
       "      <th>Item_Fat_Content</th>\n",
       "      <th>Item_Visibility</th>\n",
       "      <th>Item_MRP</th>\n",
       "      <th>Outlet_Size</th>\n",
       "      <th>Outlet_Location_Type</th>\n",
       "      <th>Outlet_Type</th>\n",
       "      <th>Item_Type_combined</th>\n",
       "      <th>yearsold</th>\n",
       "      <th>Outlet_Identifier_OUT010</th>\n",
       "      <th>Outlet_Identifier_OUT013</th>\n",
       "      <th>Outlet_Identifier_OUT017</th>\n",
       "      <th>Outlet_Identifier_OUT018</th>\n",
       "      <th>Outlet_Identifier_OUT019</th>\n",
       "      <th>Outlet_Identifier_OUT027</th>\n",
       "      <th>Outlet_Identifier_OUT035</th>\n",
       "      <th>Outlet_Identifier_OUT045</th>\n",
       "      <th>Outlet_Identifier_OUT046</th>\n",
       "      <th>Outlet_Identifier_OUT049</th>\n",
       "    </tr>\n",
       "  </thead>\n",
       "  <tbody>\n",
       "    <tr>\n",
       "      <th>0</th>\n",
       "      <td>-0.769246</td>\n",
       "      <td>-0.997813</td>\n",
       "      <td>-1.081039</td>\n",
       "      <td>1.747454</td>\n",
       "      <td>-0.664080</td>\n",
       "      <td>-1.369334</td>\n",
       "      <td>-0.252658</td>\n",
       "      <td>-0.179795</td>\n",
       "      <td>-0.139541</td>\n",
       "      <td>-0.263920</td>\n",
       "      <td>-0.350395</td>\n",
       "      <td>-0.349128</td>\n",
       "      <td>-0.349551</td>\n",
       "      <td>-0.256985</td>\n",
       "      <td>-0.351028</td>\n",
       "      <td>-0.349973</td>\n",
       "      <td>-0.349762</td>\n",
       "      <td>-0.349973</td>\n",
       "      <td>2.857362</td>\n",
       "    </tr>\n",
       "    <tr>\n",
       "      <th>1</th>\n",
       "      <td>-1.496813</td>\n",
       "      <td>1.236942</td>\n",
       "      <td>-1.016230</td>\n",
       "      <td>-1.489023</td>\n",
       "      <td>-0.664080</td>\n",
       "      <td>1.091569</td>\n",
       "      <td>1.002972</td>\n",
       "      <td>-2.095286</td>\n",
       "      <td>-1.334103</td>\n",
       "      <td>-0.263920</td>\n",
       "      <td>-0.350395</td>\n",
       "      <td>-0.349128</td>\n",
       "      <td>2.860816</td>\n",
       "      <td>-0.256985</td>\n",
       "      <td>-0.351028</td>\n",
       "      <td>-0.349973</td>\n",
       "      <td>-0.349762</td>\n",
       "      <td>-0.349973</td>\n",
       "      <td>-0.349973</td>\n",
       "    </tr>\n",
       "    <tr>\n",
       "      <th>2</th>\n",
       "      <td>0.995858</td>\n",
       "      <td>-0.997813</td>\n",
       "      <td>-1.066741</td>\n",
       "      <td>0.010040</td>\n",
       "      <td>-0.664080</td>\n",
       "      <td>-1.369334</td>\n",
       "      <td>-0.252658</td>\n",
       "      <td>-0.179795</td>\n",
       "      <td>-0.139541</td>\n",
       "      <td>-0.263920</td>\n",
       "      <td>-0.350395</td>\n",
       "      <td>-0.349128</td>\n",
       "      <td>-0.349551</td>\n",
       "      <td>-0.256985</td>\n",
       "      <td>-0.351028</td>\n",
       "      <td>-0.349973</td>\n",
       "      <td>-0.349762</td>\n",
       "      <td>-0.349973</td>\n",
       "      <td>2.857362</td>\n",
       "    </tr>\n",
       "    <tr>\n",
       "      <th>3</th>\n",
       "      <td>1.361794</td>\n",
       "      <td>1.236942</td>\n",
       "      <td>-1.045193</td>\n",
       "      <td>0.660050</td>\n",
       "      <td>0.799954</td>\n",
       "      <td>1.091569</td>\n",
       "      <td>-1.508289</td>\n",
       "      <td>-0.179795</td>\n",
       "      <td>-0.020085</td>\n",
       "      <td>3.789031</td>\n",
       "      <td>-0.350395</td>\n",
       "      <td>-0.349128</td>\n",
       "      <td>-0.349551</td>\n",
       "      <td>-0.256985</td>\n",
       "      <td>-0.351028</td>\n",
       "      <td>-0.349973</td>\n",
       "      <td>-0.349762</td>\n",
       "      <td>-0.349973</td>\n",
       "      <td>-0.349973</td>\n",
       "    </tr>\n",
       "    <tr>\n",
       "      <th>4</th>\n",
       "      <td>-0.848890</td>\n",
       "      <td>0.119565</td>\n",
       "      <td>-1.206757</td>\n",
       "      <td>-1.399220</td>\n",
       "      <td>-2.128115</td>\n",
       "      <td>1.091569</td>\n",
       "      <td>-0.252658</td>\n",
       "      <td>1.735696</td>\n",
       "      <td>1.293934</td>\n",
       "      <td>-0.263920</td>\n",
       "      <td>2.853918</td>\n",
       "      <td>-0.349128</td>\n",
       "      <td>-0.349551</td>\n",
       "      <td>-0.256985</td>\n",
       "      <td>-0.351028</td>\n",
       "      <td>-0.349973</td>\n",
       "      <td>-0.349762</td>\n",
       "      <td>-0.349973</td>\n",
       "      <td>-0.349973</td>\n",
       "    </tr>\n",
       "  </tbody>\n",
       "</table>\n",
       "</div>"
      ],
      "text/plain": [
       "   Item_Weight  Item_Fat_Content  Item_Visibility  Item_MRP  Outlet_Size  \\\n",
       "0    -0.769246         -0.997813        -1.081039  1.747454    -0.664080   \n",
       "1    -1.496813          1.236942        -1.016230 -1.489023    -0.664080   \n",
       "2     0.995858         -0.997813        -1.066741  0.010040    -0.664080   \n",
       "3     1.361794          1.236942        -1.045193  0.660050     0.799954   \n",
       "4    -0.848890          0.119565        -1.206757 -1.399220    -2.128115   \n",
       "\n",
       "   Outlet_Location_Type  Outlet_Type  Item_Type_combined  yearsold  \\\n",
       "0             -1.369334    -0.252658           -0.179795 -0.139541   \n",
       "1              1.091569     1.002972           -2.095286 -1.334103   \n",
       "2             -1.369334    -0.252658           -0.179795 -0.139541   \n",
       "3              1.091569    -1.508289           -0.179795 -0.020085   \n",
       "4              1.091569    -0.252658            1.735696  1.293934   \n",
       "\n",
       "   Outlet_Identifier_OUT010  Outlet_Identifier_OUT013  \\\n",
       "0                 -0.263920                 -0.350395   \n",
       "1                 -0.263920                 -0.350395   \n",
       "2                 -0.263920                 -0.350395   \n",
       "3                  3.789031                 -0.350395   \n",
       "4                 -0.263920                  2.853918   \n",
       "\n",
       "   Outlet_Identifier_OUT017  Outlet_Identifier_OUT018  \\\n",
       "0                 -0.349128                 -0.349551   \n",
       "1                 -0.349128                  2.860816   \n",
       "2                 -0.349128                 -0.349551   \n",
       "3                 -0.349128                 -0.349551   \n",
       "4                 -0.349128                 -0.349551   \n",
       "\n",
       "   Outlet_Identifier_OUT019  Outlet_Identifier_OUT027  \\\n",
       "0                 -0.256985                 -0.351028   \n",
       "1                 -0.256985                 -0.351028   \n",
       "2                 -0.256985                 -0.351028   \n",
       "3                 -0.256985                 -0.351028   \n",
       "4                 -0.256985                 -0.351028   \n",
       "\n",
       "   Outlet_Identifier_OUT035  Outlet_Identifier_OUT045  \\\n",
       "0                 -0.349973                 -0.349762   \n",
       "1                 -0.349973                 -0.349762   \n",
       "2                 -0.349973                 -0.349762   \n",
       "3                 -0.349973                 -0.349762   \n",
       "4                 -0.349973                 -0.349762   \n",
       "\n",
       "   Outlet_Identifier_OUT046  Outlet_Identifier_OUT049  \n",
       "0                 -0.349973                  2.857362  \n",
       "1                 -0.349973                 -0.349973  \n",
       "2                 -0.349973                  2.857362  \n",
       "3                 -0.349973                 -0.349973  \n",
       "4                 -0.349973                 -0.349973  "
      ]
     },
     "execution_count": 54,
     "metadata": {},
     "output_type": "execute_result"
    }
   ],
   "source": [
    "from sklearn.preprocessing import StandardScaler\n",
    "scaler = StandardScaler()\n",
    "standardized=scaler.fit_transform(df_train_test)\n",
    "column_names = df_train_test.columns\n",
    "df_standardized = pd.DataFrame(data=standardized,columns=column_names)\n",
    "df_standardized.head()"
   ]
  },
  {
   "cell_type": "code",
   "execution_count": 55,
   "metadata": {
    "scrolled": false
   },
   "outputs": [
    {
     "name": "stdout",
     "output_type": "stream",
     "text": [
      "lr 0.5598631959358538\n",
      "ridge 0.5600174793091026\n",
      "rfr 0.5523774380941993\n",
      "etr 0.5199614237768151\n",
      "br 0.5093419553877211\n",
      "gbr 0.5920394082586959\n",
      "en 0.5116678074172953\n",
      "mlp 0.5950856527294576\n"
     ]
    }
   ],
   "source": [
    "basic_model_selection(df_standardized,Y_train,4,models)"
   ]
  },
  {
   "cell_type": "code",
   "execution_count": 56,
   "metadata": {
    "scrolled": false
   },
   "outputs": [
    {
     "name": "stdout",
     "output_type": "stream",
     "text": [
      "0.5227416059715597\n"
     ]
    }
   ],
   "source": [
    "#Average score for XGBoost matrix\n",
    "# define data_dmatrix\n",
    "data_dmatrix = xgb.DMatrix(data=df_standardized,label=Y_train)\n",
    "# import XGBRegressor\n",
    "xgb1 = XGBRegressor()\n",
    "cv_score = cross_val_score(xgb1, df_standardized, Y_train, cv=4,n_jobs=5)\n",
    "print(cv_score.mean())"
   ]
  },
  {
   "cell_type": "markdown",
   "metadata": {},
   "source": [
    "# The Models for hyperparameter tuning are same XGBoost and GradientBoostingRegression"
   ]
  },
  {
   "cell_type": "code",
   "execution_count": 57,
   "metadata": {},
   "outputs": [
    {
     "data": {
      "text/html": [
       "<div>\n",
       "<style scoped>\n",
       "    .dataframe tbody tr th:only-of-type {\n",
       "        vertical-align: middle;\n",
       "    }\n",
       "\n",
       "    .dataframe tbody tr th {\n",
       "        vertical-align: top;\n",
       "    }\n",
       "\n",
       "    .dataframe thead th {\n",
       "        text-align: right;\n",
       "    }\n",
       "</style>\n",
       "<table border=\"1\" class=\"dataframe\">\n",
       "  <thead>\n",
       "    <tr style=\"text-align: right;\">\n",
       "      <th></th>\n",
       "      <th>Item_Weight</th>\n",
       "      <th>Item_Fat_Content</th>\n",
       "      <th>Item_Visibility</th>\n",
       "      <th>Item_MRP</th>\n",
       "      <th>Outlet_Size</th>\n",
       "      <th>Outlet_Location_Type</th>\n",
       "      <th>Outlet_Type</th>\n",
       "      <th>Item_Type_combined</th>\n",
       "      <th>yearsold</th>\n",
       "      <th>Outlet_Identifier_OUT010</th>\n",
       "      <th>Outlet_Identifier_OUT013</th>\n",
       "      <th>Outlet_Identifier_OUT017</th>\n",
       "      <th>Outlet_Identifier_OUT018</th>\n",
       "      <th>Outlet_Identifier_OUT019</th>\n",
       "      <th>Outlet_Identifier_OUT027</th>\n",
       "      <th>Outlet_Identifier_OUT035</th>\n",
       "      <th>Outlet_Identifier_OUT045</th>\n",
       "      <th>Outlet_Identifier_OUT046</th>\n",
       "      <th>Outlet_Identifier_OUT049</th>\n",
       "    </tr>\n",
       "  </thead>\n",
       "  <tbody>\n",
       "    <tr>\n",
       "      <th>0</th>\n",
       "      <td>-0.769246</td>\n",
       "      <td>-0.997813</td>\n",
       "      <td>-1.081039</td>\n",
       "      <td>1.747454</td>\n",
       "      <td>-0.664080</td>\n",
       "      <td>-1.369334</td>\n",
       "      <td>-0.252658</td>\n",
       "      <td>-0.179795</td>\n",
       "      <td>-0.139541</td>\n",
       "      <td>-0.263920</td>\n",
       "      <td>-0.350395</td>\n",
       "      <td>-0.349128</td>\n",
       "      <td>-0.349551</td>\n",
       "      <td>-0.256985</td>\n",
       "      <td>-0.351028</td>\n",
       "      <td>-0.349973</td>\n",
       "      <td>-0.349762</td>\n",
       "      <td>-0.349973</td>\n",
       "      <td>2.857362</td>\n",
       "    </tr>\n",
       "    <tr>\n",
       "      <th>1</th>\n",
       "      <td>-1.496813</td>\n",
       "      <td>1.236942</td>\n",
       "      <td>-1.016230</td>\n",
       "      <td>-1.489023</td>\n",
       "      <td>-0.664080</td>\n",
       "      <td>1.091569</td>\n",
       "      <td>1.002972</td>\n",
       "      <td>-2.095286</td>\n",
       "      <td>-1.334103</td>\n",
       "      <td>-0.263920</td>\n",
       "      <td>-0.350395</td>\n",
       "      <td>-0.349128</td>\n",
       "      <td>2.860816</td>\n",
       "      <td>-0.256985</td>\n",
       "      <td>-0.351028</td>\n",
       "      <td>-0.349973</td>\n",
       "      <td>-0.349762</td>\n",
       "      <td>-0.349973</td>\n",
       "      <td>-0.349973</td>\n",
       "    </tr>\n",
       "    <tr>\n",
       "      <th>2</th>\n",
       "      <td>0.995858</td>\n",
       "      <td>-0.997813</td>\n",
       "      <td>-1.066741</td>\n",
       "      <td>0.010040</td>\n",
       "      <td>-0.664080</td>\n",
       "      <td>-1.369334</td>\n",
       "      <td>-0.252658</td>\n",
       "      <td>-0.179795</td>\n",
       "      <td>-0.139541</td>\n",
       "      <td>-0.263920</td>\n",
       "      <td>-0.350395</td>\n",
       "      <td>-0.349128</td>\n",
       "      <td>-0.349551</td>\n",
       "      <td>-0.256985</td>\n",
       "      <td>-0.351028</td>\n",
       "      <td>-0.349973</td>\n",
       "      <td>-0.349762</td>\n",
       "      <td>-0.349973</td>\n",
       "      <td>2.857362</td>\n",
       "    </tr>\n",
       "    <tr>\n",
       "      <th>3</th>\n",
       "      <td>1.361794</td>\n",
       "      <td>1.236942</td>\n",
       "      <td>-1.045193</td>\n",
       "      <td>0.660050</td>\n",
       "      <td>0.799954</td>\n",
       "      <td>1.091569</td>\n",
       "      <td>-1.508289</td>\n",
       "      <td>-0.179795</td>\n",
       "      <td>-0.020085</td>\n",
       "      <td>3.789031</td>\n",
       "      <td>-0.350395</td>\n",
       "      <td>-0.349128</td>\n",
       "      <td>-0.349551</td>\n",
       "      <td>-0.256985</td>\n",
       "      <td>-0.351028</td>\n",
       "      <td>-0.349973</td>\n",
       "      <td>-0.349762</td>\n",
       "      <td>-0.349973</td>\n",
       "      <td>-0.349973</td>\n",
       "    </tr>\n",
       "    <tr>\n",
       "      <th>4</th>\n",
       "      <td>-0.848890</td>\n",
       "      <td>0.119565</td>\n",
       "      <td>-1.206757</td>\n",
       "      <td>-1.399220</td>\n",
       "      <td>-2.128115</td>\n",
       "      <td>1.091569</td>\n",
       "      <td>-0.252658</td>\n",
       "      <td>1.735696</td>\n",
       "      <td>1.293934</td>\n",
       "      <td>-0.263920</td>\n",
       "      <td>2.853918</td>\n",
       "      <td>-0.349128</td>\n",
       "      <td>-0.349551</td>\n",
       "      <td>-0.256985</td>\n",
       "      <td>-0.351028</td>\n",
       "      <td>-0.349973</td>\n",
       "      <td>-0.349762</td>\n",
       "      <td>-0.349973</td>\n",
       "      <td>-0.349973</td>\n",
       "    </tr>\n",
       "  </tbody>\n",
       "</table>\n",
       "</div>"
      ],
      "text/plain": [
       "   Item_Weight  Item_Fat_Content  Item_Visibility  Item_MRP  Outlet_Size  \\\n",
       "0    -0.769246         -0.997813        -1.081039  1.747454    -0.664080   \n",
       "1    -1.496813          1.236942        -1.016230 -1.489023    -0.664080   \n",
       "2     0.995858         -0.997813        -1.066741  0.010040    -0.664080   \n",
       "3     1.361794          1.236942        -1.045193  0.660050     0.799954   \n",
       "4    -0.848890          0.119565        -1.206757 -1.399220    -2.128115   \n",
       "\n",
       "   Outlet_Location_Type  Outlet_Type  Item_Type_combined  yearsold  \\\n",
       "0             -1.369334    -0.252658           -0.179795 -0.139541   \n",
       "1              1.091569     1.002972           -2.095286 -1.334103   \n",
       "2             -1.369334    -0.252658           -0.179795 -0.139541   \n",
       "3              1.091569    -1.508289           -0.179795 -0.020085   \n",
       "4              1.091569    -0.252658            1.735696  1.293934   \n",
       "\n",
       "   Outlet_Identifier_OUT010  Outlet_Identifier_OUT013  \\\n",
       "0                 -0.263920                 -0.350395   \n",
       "1                 -0.263920                 -0.350395   \n",
       "2                 -0.263920                 -0.350395   \n",
       "3                  3.789031                 -0.350395   \n",
       "4                 -0.263920                  2.853918   \n",
       "\n",
       "   Outlet_Identifier_OUT017  Outlet_Identifier_OUT018  \\\n",
       "0                 -0.349128                 -0.349551   \n",
       "1                 -0.349128                  2.860816   \n",
       "2                 -0.349128                 -0.349551   \n",
       "3                 -0.349128                 -0.349551   \n",
       "4                 -0.349128                 -0.349551   \n",
       "\n",
       "   Outlet_Identifier_OUT019  Outlet_Identifier_OUT027  \\\n",
       "0                 -0.256985                 -0.351028   \n",
       "1                 -0.256985                 -0.351028   \n",
       "2                 -0.256985                 -0.351028   \n",
       "3                 -0.256985                 -0.351028   \n",
       "4                 -0.256985                 -0.351028   \n",
       "\n",
       "   Outlet_Identifier_OUT035  Outlet_Identifier_OUT045  \\\n",
       "0                 -0.349973                 -0.349762   \n",
       "1                 -0.349973                 -0.349762   \n",
       "2                 -0.349973                 -0.349762   \n",
       "3                 -0.349973                 -0.349762   \n",
       "4                 -0.349973                 -0.349762   \n",
       "\n",
       "   Outlet_Identifier_OUT046  Outlet_Identifier_OUT049  \n",
       "0                 -0.349973                  2.857362  \n",
       "1                 -0.349973                 -0.349973  \n",
       "2                 -0.349973                  2.857362  \n",
       "3                 -0.349973                 -0.349973  \n",
       "4                 -0.349973                 -0.349973  "
      ]
     },
     "execution_count": 57,
     "metadata": {},
     "output_type": "execute_result"
    }
   ],
   "source": [
    "from sklearn.preprocessing import StandardScaler\n",
    "scaler = StandardScaler()\n",
    "standardized=scaler.fit_transform(df_train_test)\n",
    "column_names = df_train_test.columns\n",
    "df_standardized = pd.DataFrame(data=standardized,columns=column_names)\n",
    "df_standardized.head()"
   ]
  },
  {
   "cell_type": "code",
   "execution_count": 58,
   "metadata": {},
   "outputs": [
    {
     "name": "stdout",
     "output_type": "stream",
     "text": [
      "Link to the dashboard for the run: https://app.truefoundry.com/mlfoundry/150/fe2f9889afbf41539a9e51ade7e33b96/\n",
      "[mlfoundry] 2022-07-02T10:33:00+0530 WARNING failed to log git info because git repository is not present\n",
      "[mlfoundry] 2022-07-02T10:33:04+0530 INFO Run 'Kumar/bigmart-sales-prediction-project/XGB-Regressor-on-Standardized-Data' has started.\n",
      "[mlfoundry] 2022-07-02T10:33:11+0530 INFO Shutting down background jobs and syncing data for run 'Kumar/bigmart-sales-prediction-project/MLP-Regressor', please don't kill this process...\n",
      "[mlfoundry] 2022-07-02T10:33:14+0530 INFO Finished syncing data for run 'Kumar/bigmart-sales-prediction-project/MLP-Regressor'. Thank you for waiting!\n",
      "Link to the dashboard for the run: https://app.truefoundry.com/mlfoundry/150/05dd527338414191917b01a730e2ebb0/\n"
     ]
    }
   ],
   "source": [
    "mlf_run = mlf_api.create_run(project_name='bigmart-sales-prediction-project', run_name='XGB-Regressor-on-Standardized-Data') "
   ]
  },
  {
   "cell_type": "code",
   "execution_count": 59,
   "metadata": {
    "scrolled": true
   },
   "outputs": [
    {
     "name": "stdout",
     "output_type": "stream",
     "text": [
      "Fitting 4 folds for each of 72 candidates, totalling 288 fits\n",
      "[10:35:31] WARNING: C:/Users/Administrator/workspace/xgboost-win64_release_1.6.0/src/learner.cc:627: \n",
      "Parameters: { \"silent\" } might not be used.\n",
      "\n",
      "  This could be a false alarm, with some parameters getting used by language bindings but\n",
      "  then being mistakenly passed down to XGBoost core, or some parameter actually being used\n",
      "  but getting flagged wrongly here. Please open an issue if you find any such cases.\n",
      "\n",
      "\n",
      "<bound method BaseSearchCV.score of GridSearchCV(cv=4,\n",
      "             estimator=XGBRegressor(base_score=None, booster=None,\n",
      "                                    callbacks=None, colsample_bylevel=None,\n",
      "                                    colsample_bynode=None,\n",
      "                                    colsample_bytree=None,\n",
      "                                    early_stopping_rounds=None,\n",
      "                                    enable_categorical=False, eval_metric=None,\n",
      "                                    gamma=None, gpu_id=None, grow_policy=None,\n",
      "                                    importance_type=None,\n",
      "                                    interaction_constraints=None,\n",
      "                                    learning_rate=None, max_bin=None,\n",
      "                                    max_cat...\n",
      "                                    monotone_constraints=None, n_estimators=100,\n",
      "                                    n_jobs=None, num_parallel_tree=None,\n",
      "                                    predictor=None, random_state=None,\n",
      "                                    reg_alpha=None, reg_lambda=None, ...),\n",
      "             n_jobs=5,\n",
      "             param_grid={'colsample_bytree': [0.7],\n",
      "                         'learning_rate': [0.02, 0.03], 'max_depth': [3, 2, 4],\n",
      "                         'min_child_weight': [3, 4, 5],\n",
      "                         'n_estimators': [300, 320], 'nthread': [3, 4],\n",
      "                         'silent': [1], 'subsample': [0.5]},\n",
      "             verbose=True)>\n",
      "{'colsample_bytree': 0.7, 'learning_rate': 0.02, 'max_depth': 3, 'min_child_weight': 5, 'n_estimators': 300, 'nthread': 3, 'silent': 1, 'subsample': 0.5}\n",
      "The RMSE score is 1055.5621143494536\n"
     ]
    }
   ],
   "source": [
    "model_grid, rmse = model_parameter_tuning(df_standardized,Y_train,xgb1,parameters_xgb,4)"
   ]
  },
  {
   "cell_type": "code",
   "execution_count": 60,
   "metadata": {
    "scrolled": false
   },
   "outputs": [
    {
     "name": "stdout",
     "output_type": "stream",
     "text": [
      "[mlfoundry] 2022-07-02T10:36:01+0530 INFO Parameters logged successfully\n",
      "[mlfoundry] 2022-07-02T10:36:02+0530 INFO Metrics logged successfully\n",
      "[mlfoundry] 2022-07-02T10:36:43+0530 INFO Model logged successfully\n"
     ]
    }
   ],
   "source": [
    "mlf_run.log_params(model_grid.best_params_)\n",
    "mlf_run.log_metrics({\"accuracy\":model_grid.best_score_, \"rmse\": rmse})\n",
    "mlf_run.log_model(model_grid.best_estimator_, mlf.ModelFramework.SKLEARN)"
   ]
  },
  {
   "cell_type": "code",
   "execution_count": 61,
   "metadata": {
    "scrolled": false
   },
   "outputs": [
    {
     "name": "stdout",
     "output_type": "stream",
     "text": [
      "[mlfoundry] 2022-07-02T10:36:44+0530 INFO Logging Dataset, this might take a while ...\n",
      "[mlfoundry] 2022-07-02T10:37:33+0530 INFO Dataset logged successfully\n",
      "To visualize the logged dataset, click on the link https://app.truefoundry.com/mlfoundry/150/fe2f9889afbf41539a9e51ade7e33b96/?tab=data-feature-metrics\n"
     ]
    }
   ],
   "source": [
    "train_df = df_standardized.copy()\n",
    "train_df['targets'] = Y_train\n",
    "train_df['predictions'] = model_grid.predict(df_standardized)\n",
    "\n",
    "mlf_run.log_dataset(\n",
    "    dataset_name = 'train_dataset',\n",
    "    features = train_df[list(df_standardized.columns)],\n",
    "    predictions = train_df['predictions'],\n",
    "    actuals = train_df['targets'],\n",
    "    only_stats = False,   \n",
    ")"
   ]
  },
  {
   "cell_type": "code",
   "execution_count": 62,
   "metadata": {},
   "outputs": [
    {
     "name": "stdout",
     "output_type": "stream",
     "text": [
      "Link to the dashboard for the run: https://app.truefoundry.com/mlfoundry/150/43d1b76d84b44328891a51b0c24b42ec/\n",
      "[mlfoundry] 2022-07-02T10:37:40+0530 WARNING failed to log git info because git repository is not present\n",
      "[mlfoundry] 2022-07-02T10:37:43+0530 INFO Run 'Kumar/bigmart-sales-prediction-project/Gradient-Boost-Regressor-on-Standardized-Data' has started.\n",
      "[mlfoundry] 2022-07-02T10:37:50+0530 INFO Shutting down background jobs and syncing data for run 'Kumar/bigmart-sales-prediction-project/XGB-Regressor-on-Standardized-Data', please don't kill this process...\n",
      "[mlfoundry] 2022-07-02T10:37:53+0530 INFO Finished syncing data for run 'Kumar/bigmart-sales-prediction-project/XGB-Regressor-on-Standardized-Data'. Thank you for waiting!\n",
      "Link to the dashboard for the run: https://app.truefoundry.com/mlfoundry/150/fe2f9889afbf41539a9e51ade7e33b96/\n"
     ]
    }
   ],
   "source": [
    "mlf_run = mlf_api.create_run(project_name='bigmart-sales-prediction-project', run_name='Gradient-Boost-Regressor-on-Standardized-Data') "
   ]
  },
  {
   "cell_type": "code",
   "execution_count": 63,
   "metadata": {
    "scrolled": true
   },
   "outputs": [
    {
     "name": "stdout",
     "output_type": "stream",
     "text": [
      "Fitting 4 folds for each of 72 candidates, totalling 288 fits\n",
      "<bound method BaseSearchCV.score of GridSearchCV(cv=4, estimator=GradientBoostingRegressor(), n_jobs=5,\n",
      "             param_grid={'learning_rate': [0.3], 'loss': ['ls', 'lad'],\n",
      "                         'max_depth': [3, 4],\n",
      "                         'max_features': ['auto', 'log2', 'sqrt'],\n",
      "                         'min_samples_leaf': [3, 4, 2],\n",
      "                         'min_samples_split': [3, 4], 'n_estimators': [300]},\n",
      "             verbose=True)>\n",
      "{'learning_rate': 0.3, 'loss': 'lad', 'max_depth': 3, 'max_features': 'auto', 'min_samples_leaf': 2, 'min_samples_split': 4, 'n_estimators': 300}\n",
      "The RMSE score is 1045.1152157503407\n"
     ]
    }
   ],
   "source": [
    "model_grid, rmse = model_parameter_tuning(df_standardized,Y_train,gbr,parameters_gbr,4)"
   ]
  },
  {
   "cell_type": "code",
   "execution_count": 64,
   "metadata": {
    "scrolled": false
   },
   "outputs": [
    {
     "name": "stdout",
     "output_type": "stream",
     "text": [
      "[mlfoundry] 2022-07-02T10:41:40+0530 INFO Parameters logged successfully\n",
      "[mlfoundry] 2022-07-02T10:41:43+0530 INFO Metrics logged successfully\n",
      "[mlfoundry] 2022-07-02T10:42:22+0530 INFO Model logged successfully\n"
     ]
    }
   ],
   "source": [
    "mlf_run.log_params(model_grid.best_params_)\n",
    "mlf_run.log_metrics({\"accuracy\":model_grid.best_score_, \"rmse\": rmse})\n",
    "mlf_run.log_model(model_grid.best_estimator_, mlf.ModelFramework.SKLEARN)"
   ]
  },
  {
   "cell_type": "code",
   "execution_count": 65,
   "metadata": {
    "scrolled": false
   },
   "outputs": [
    {
     "name": "stdout",
     "output_type": "stream",
     "text": [
      "[mlfoundry] 2022-07-02T10:42:23+0530 INFO Logging Dataset, this might take a while ...\n",
      "[mlfoundry] 2022-07-02T10:43:13+0530 INFO Dataset logged successfully\n",
      "To visualize the logged dataset, click on the link https://app.truefoundry.com/mlfoundry/150/43d1b76d84b44328891a51b0c24b42ec/?tab=data-feature-metrics\n"
     ]
    }
   ],
   "source": [
    "train_df = df_standardized.copy()\n",
    "train_df['targets'] = Y_train\n",
    "train_df['predictions'] = model_grid.predict(df_standardized)\n",
    "\n",
    "mlf_run.log_dataset(\n",
    "    dataset_name = 'train_dataset',\n",
    "    features = train_df[list(df_standardized.columns)],\n",
    "    predictions = train_df['predictions'],\n",
    "    actuals = train_df['targets'],\n",
    "    only_stats = False,   \n",
    ")"
   ]
  },
  {
   "cell_type": "code",
   "execution_count": 66,
   "metadata": {
    "scrolled": false
   },
   "outputs": [
    {
     "data": {
      "text/html": [
       "<div>\n",
       "<style scoped>\n",
       "    .dataframe tbody tr th:only-of-type {\n",
       "        vertical-align: middle;\n",
       "    }\n",
       "\n",
       "    .dataframe tbody tr th {\n",
       "        vertical-align: top;\n",
       "    }\n",
       "\n",
       "    .dataframe thead th {\n",
       "        text-align: right;\n",
       "    }\n",
       "</style>\n",
       "<table border=\"1\" class=\"dataframe\">\n",
       "  <thead>\n",
       "    <tr style=\"text-align: right;\">\n",
       "      <th></th>\n",
       "      <th>Item_Weight</th>\n",
       "      <th>Item_Fat_Content</th>\n",
       "      <th>Item_Visibility</th>\n",
       "      <th>Item_MRP</th>\n",
       "      <th>Outlet_Size</th>\n",
       "      <th>Outlet_Location_Type</th>\n",
       "      <th>Outlet_Type</th>\n",
       "      <th>Item_Type_combined</th>\n",
       "      <th>yearsold</th>\n",
       "      <th>Outlet_Identifier_OUT010</th>\n",
       "      <th>Outlet_Identifier_OUT013</th>\n",
       "      <th>Outlet_Identifier_OUT017</th>\n",
       "      <th>Outlet_Identifier_OUT018</th>\n",
       "      <th>Outlet_Identifier_OUT019</th>\n",
       "      <th>Outlet_Identifier_OUT027</th>\n",
       "      <th>Outlet_Identifier_OUT035</th>\n",
       "      <th>Outlet_Identifier_OUT045</th>\n",
       "      <th>Outlet_Identifier_OUT046</th>\n",
       "      <th>Outlet_Identifier_OUT049</th>\n",
       "    </tr>\n",
       "  </thead>\n",
       "  <tbody>\n",
       "    <tr>\n",
       "      <th>0</th>\n",
       "      <td>9.30</td>\n",
       "      <td>0</td>\n",
       "      <td>0.016047</td>\n",
       "      <td>249.8092</td>\n",
       "      <td>1</td>\n",
       "      <td>0</td>\n",
       "      <td>1</td>\n",
       "      <td>1</td>\n",
       "      <td>14</td>\n",
       "      <td>0</td>\n",
       "      <td>0</td>\n",
       "      <td>0</td>\n",
       "      <td>0</td>\n",
       "      <td>0</td>\n",
       "      <td>0</td>\n",
       "      <td>0</td>\n",
       "      <td>0</td>\n",
       "      <td>0</td>\n",
       "      <td>1</td>\n",
       "    </tr>\n",
       "    <tr>\n",
       "      <th>1</th>\n",
       "      <td>5.92</td>\n",
       "      <td>2</td>\n",
       "      <td>0.019278</td>\n",
       "      <td>48.2692</td>\n",
       "      <td>1</td>\n",
       "      <td>2</td>\n",
       "      <td>2</td>\n",
       "      <td>0</td>\n",
       "      <td>4</td>\n",
       "      <td>0</td>\n",
       "      <td>0</td>\n",
       "      <td>0</td>\n",
       "      <td>1</td>\n",
       "      <td>0</td>\n",
       "      <td>0</td>\n",
       "      <td>0</td>\n",
       "      <td>0</td>\n",
       "      <td>0</td>\n",
       "      <td>0</td>\n",
       "    </tr>\n",
       "    <tr>\n",
       "      <th>2</th>\n",
       "      <td>17.50</td>\n",
       "      <td>0</td>\n",
       "      <td>0.016760</td>\n",
       "      <td>141.6180</td>\n",
       "      <td>1</td>\n",
       "      <td>0</td>\n",
       "      <td>1</td>\n",
       "      <td>1</td>\n",
       "      <td>14</td>\n",
       "      <td>0</td>\n",
       "      <td>0</td>\n",
       "      <td>0</td>\n",
       "      <td>0</td>\n",
       "      <td>0</td>\n",
       "      <td>0</td>\n",
       "      <td>0</td>\n",
       "      <td>0</td>\n",
       "      <td>0</td>\n",
       "      <td>1</td>\n",
       "    </tr>\n",
       "    <tr>\n",
       "      <th>3</th>\n",
       "      <td>19.20</td>\n",
       "      <td>2</td>\n",
       "      <td>0.017834</td>\n",
       "      <td>182.0950</td>\n",
       "      <td>2</td>\n",
       "      <td>2</td>\n",
       "      <td>0</td>\n",
       "      <td>1</td>\n",
       "      <td>15</td>\n",
       "      <td>1</td>\n",
       "      <td>0</td>\n",
       "      <td>0</td>\n",
       "      <td>0</td>\n",
       "      <td>0</td>\n",
       "      <td>0</td>\n",
       "      <td>0</td>\n",
       "      <td>0</td>\n",
       "      <td>0</td>\n",
       "      <td>0</td>\n",
       "    </tr>\n",
       "    <tr>\n",
       "      <th>4</th>\n",
       "      <td>8.93</td>\n",
       "      <td>1</td>\n",
       "      <td>0.009780</td>\n",
       "      <td>53.8614</td>\n",
       "      <td>0</td>\n",
       "      <td>2</td>\n",
       "      <td>1</td>\n",
       "      <td>2</td>\n",
       "      <td>26</td>\n",
       "      <td>0</td>\n",
       "      <td>1</td>\n",
       "      <td>0</td>\n",
       "      <td>0</td>\n",
       "      <td>0</td>\n",
       "      <td>0</td>\n",
       "      <td>0</td>\n",
       "      <td>0</td>\n",
       "      <td>0</td>\n",
       "      <td>0</td>\n",
       "    </tr>\n",
       "  </tbody>\n",
       "</table>\n",
       "</div>"
      ],
      "text/plain": [
       "   Item_Weight  Item_Fat_Content  Item_Visibility  Item_MRP  Outlet_Size  \\\n",
       "0         9.30                 0         0.016047  249.8092            1   \n",
       "1         5.92                 2         0.019278   48.2692            1   \n",
       "2        17.50                 0         0.016760  141.6180            1   \n",
       "3        19.20                 2         0.017834  182.0950            2   \n",
       "4         8.93                 1         0.009780   53.8614            0   \n",
       "\n",
       "   Outlet_Location_Type  Outlet_Type  Item_Type_combined  yearsold  \\\n",
       "0                     0            1                   1        14   \n",
       "1                     2            2                   0         4   \n",
       "2                     0            1                   1        14   \n",
       "3                     2            0                   1        15   \n",
       "4                     2            1                   2        26   \n",
       "\n",
       "   Outlet_Identifier_OUT010  Outlet_Identifier_OUT013  \\\n",
       "0                         0                         0   \n",
       "1                         0                         0   \n",
       "2                         0                         0   \n",
       "3                         1                         0   \n",
       "4                         0                         1   \n",
       "\n",
       "   Outlet_Identifier_OUT017  Outlet_Identifier_OUT018  \\\n",
       "0                         0                         0   \n",
       "1                         0                         1   \n",
       "2                         0                         0   \n",
       "3                         0                         0   \n",
       "4                         0                         0   \n",
       "\n",
       "   Outlet_Identifier_OUT019  Outlet_Identifier_OUT027  \\\n",
       "0                         0                         0   \n",
       "1                         0                         0   \n",
       "2                         0                         0   \n",
       "3                         0                         0   \n",
       "4                         0                         0   \n",
       "\n",
       "   Outlet_Identifier_OUT035  Outlet_Identifier_OUT045  \\\n",
       "0                         0                         0   \n",
       "1                         0                         0   \n",
       "2                         0                         0   \n",
       "3                         0                         0   \n",
       "4                         0                         0   \n",
       "\n",
       "   Outlet_Identifier_OUT046  Outlet_Identifier_OUT049  \n",
       "0                         0                         1  \n",
       "1                         0                         0  \n",
       "2                         0                         1  \n",
       "3                         0                         0  \n",
       "4                         0                         0  "
      ]
     },
     "execution_count": 66,
     "metadata": {},
     "output_type": "execute_result"
    }
   ],
   "source": [
    "df_train_test.head()"
   ]
  },
  {
   "cell_type": "markdown",
   "metadata": {},
   "source": [
    "# Using Robust Scaler\n",
    "\n",
    "# My dataset having outliers make it more prone to mistakes\n",
    "# Robust Scaler handles the outliers as well\n",
    "# It scales according to the quartile range"
   ]
  },
  {
   "cell_type": "code",
   "execution_count": 67,
   "metadata": {
    "scrolled": false
   },
   "outputs": [
    {
     "data": {
      "text/html": [
       "<div>\n",
       "<style scoped>\n",
       "    .dataframe tbody tr th:only-of-type {\n",
       "        vertical-align: middle;\n",
       "    }\n",
       "\n",
       "    .dataframe tbody tr th {\n",
       "        vertical-align: top;\n",
       "    }\n",
       "\n",
       "    .dataframe thead th {\n",
       "        text-align: right;\n",
       "    }\n",
       "</style>\n",
       "<table border=\"1\" class=\"dataframe\">\n",
       "  <thead>\n",
       "    <tr style=\"text-align: right;\">\n",
       "      <th></th>\n",
       "      <th>Item_Weight</th>\n",
       "      <th>Item_Fat_Content</th>\n",
       "      <th>Item_Visibility</th>\n",
       "      <th>Item_MRP</th>\n",
       "      <th>Outlet_Size</th>\n",
       "      <th>Outlet_Location_Type</th>\n",
       "      <th>Outlet_Type</th>\n",
       "      <th>Item_Type_combined</th>\n",
       "      <th>yearsold</th>\n",
       "      <th>Outlet_Identifier_OUT010</th>\n",
       "      <th>Outlet_Identifier_OUT013</th>\n",
       "      <th>Outlet_Identifier_OUT017</th>\n",
       "      <th>Outlet_Identifier_OUT018</th>\n",
       "      <th>Outlet_Identifier_OUT019</th>\n",
       "      <th>Outlet_Identifier_OUT027</th>\n",
       "      <th>Outlet_Identifier_OUT035</th>\n",
       "      <th>Outlet_Identifier_OUT045</th>\n",
       "      <th>Outlet_Identifier_OUT046</th>\n",
       "      <th>Outlet_Identifier_OUT049</th>\n",
       "    </tr>\n",
       "  </thead>\n",
       "  <tbody>\n",
       "    <tr>\n",
       "      <th>0</th>\n",
       "      <td>0.282525</td>\n",
       "      <td>0.0</td>\n",
       "      <td>0.038399</td>\n",
       "      <td>0.927507</td>\n",
       "      <td>0.5</td>\n",
       "      <td>0.0</td>\n",
       "      <td>0.333333</td>\n",
       "      <td>0.5</td>\n",
       "      <td>0.416667</td>\n",
       "      <td>0.0</td>\n",
       "      <td>0.0</td>\n",
       "      <td>0.0</td>\n",
       "      <td>0.0</td>\n",
       "      <td>0.0</td>\n",
       "      <td>0.0</td>\n",
       "      <td>0.0</td>\n",
       "      <td>0.0</td>\n",
       "      <td>0.0</td>\n",
       "      <td>1.0</td>\n",
       "    </tr>\n",
       "    <tr>\n",
       "      <th>1</th>\n",
       "      <td>0.081274</td>\n",
       "      <td>1.0</td>\n",
       "      <td>0.048346</td>\n",
       "      <td>0.072068</td>\n",
       "      <td>0.5</td>\n",
       "      <td>1.0</td>\n",
       "      <td>0.666667</td>\n",
       "      <td>0.0</td>\n",
       "      <td>0.000000</td>\n",
       "      <td>0.0</td>\n",
       "      <td>0.0</td>\n",
       "      <td>0.0</td>\n",
       "      <td>1.0</td>\n",
       "      <td>0.0</td>\n",
       "      <td>0.0</td>\n",
       "      <td>0.0</td>\n",
       "      <td>0.0</td>\n",
       "      <td>0.0</td>\n",
       "      <td>0.0</td>\n",
       "    </tr>\n",
       "    <tr>\n",
       "      <th>2</th>\n",
       "      <td>0.770765</td>\n",
       "      <td>0.0</td>\n",
       "      <td>0.040593</td>\n",
       "      <td>0.468288</td>\n",
       "      <td>0.5</td>\n",
       "      <td>0.0</td>\n",
       "      <td>0.333333</td>\n",
       "      <td>0.5</td>\n",
       "      <td>0.416667</td>\n",
       "      <td>0.0</td>\n",
       "      <td>0.0</td>\n",
       "      <td>0.0</td>\n",
       "      <td>0.0</td>\n",
       "      <td>0.0</td>\n",
       "      <td>0.0</td>\n",
       "      <td>0.0</td>\n",
       "      <td>0.0</td>\n",
       "      <td>0.0</td>\n",
       "      <td>1.0</td>\n",
       "    </tr>\n",
       "    <tr>\n",
       "      <th>3</th>\n",
       "      <td>0.871986</td>\n",
       "      <td>1.0</td>\n",
       "      <td>0.043901</td>\n",
       "      <td>0.640093</td>\n",
       "      <td>1.0</td>\n",
       "      <td>1.0</td>\n",
       "      <td>0.000000</td>\n",
       "      <td>0.5</td>\n",
       "      <td>0.458333</td>\n",
       "      <td>1.0</td>\n",
       "      <td>0.0</td>\n",
       "      <td>0.0</td>\n",
       "      <td>0.0</td>\n",
       "      <td>0.0</td>\n",
       "      <td>0.0</td>\n",
       "      <td>0.0</td>\n",
       "      <td>0.0</td>\n",
       "      <td>0.0</td>\n",
       "      <td>0.0</td>\n",
       "    </tr>\n",
       "    <tr>\n",
       "      <th>4</th>\n",
       "      <td>0.260494</td>\n",
       "      <td>0.5</td>\n",
       "      <td>0.019104</td>\n",
       "      <td>0.095805</td>\n",
       "      <td>0.0</td>\n",
       "      <td>1.0</td>\n",
       "      <td>0.333333</td>\n",
       "      <td>1.0</td>\n",
       "      <td>0.916667</td>\n",
       "      <td>0.0</td>\n",
       "      <td>1.0</td>\n",
       "      <td>0.0</td>\n",
       "      <td>0.0</td>\n",
       "      <td>0.0</td>\n",
       "      <td>0.0</td>\n",
       "      <td>0.0</td>\n",
       "      <td>0.0</td>\n",
       "      <td>0.0</td>\n",
       "      <td>0.0</td>\n",
       "    </tr>\n",
       "  </tbody>\n",
       "</table>\n",
       "</div>"
      ],
      "text/plain": [
       "   Item_Weight  Item_Fat_Content  Item_Visibility  Item_MRP  Outlet_Size  \\\n",
       "0     0.282525               0.0         0.038399  0.927507          0.5   \n",
       "1     0.081274               1.0         0.048346  0.072068          0.5   \n",
       "2     0.770765               0.0         0.040593  0.468288          0.5   \n",
       "3     0.871986               1.0         0.043901  0.640093          1.0   \n",
       "4     0.260494               0.5         0.019104  0.095805          0.0   \n",
       "\n",
       "   Outlet_Location_Type  Outlet_Type  Item_Type_combined  yearsold  \\\n",
       "0                   0.0     0.333333                 0.5  0.416667   \n",
       "1                   1.0     0.666667                 0.0  0.000000   \n",
       "2                   0.0     0.333333                 0.5  0.416667   \n",
       "3                   1.0     0.000000                 0.5  0.458333   \n",
       "4                   1.0     0.333333                 1.0  0.916667   \n",
       "\n",
       "   Outlet_Identifier_OUT010  Outlet_Identifier_OUT013  \\\n",
       "0                       0.0                       0.0   \n",
       "1                       0.0                       0.0   \n",
       "2                       0.0                       0.0   \n",
       "3                       1.0                       0.0   \n",
       "4                       0.0                       1.0   \n",
       "\n",
       "   Outlet_Identifier_OUT017  Outlet_Identifier_OUT018  \\\n",
       "0                       0.0                       0.0   \n",
       "1                       0.0                       1.0   \n",
       "2                       0.0                       0.0   \n",
       "3                       0.0                       0.0   \n",
       "4                       0.0                       0.0   \n",
       "\n",
       "   Outlet_Identifier_OUT019  Outlet_Identifier_OUT027  \\\n",
       "0                       0.0                       0.0   \n",
       "1                       0.0                       0.0   \n",
       "2                       0.0                       0.0   \n",
       "3                       0.0                       0.0   \n",
       "4                       0.0                       0.0   \n",
       "\n",
       "   Outlet_Identifier_OUT035  Outlet_Identifier_OUT045  \\\n",
       "0                       0.0                       0.0   \n",
       "1                       0.0                       0.0   \n",
       "2                       0.0                       0.0   \n",
       "3                       0.0                       0.0   \n",
       "4                       0.0                       0.0   \n",
       "\n",
       "   Outlet_Identifier_OUT046  Outlet_Identifier_OUT049  \n",
       "0                       0.0                       1.0  \n",
       "1                       0.0                       0.0  \n",
       "2                       0.0                       1.0  \n",
       "3                       0.0                       0.0  \n",
       "4                       0.0                       0.0  "
      ]
     },
     "execution_count": 67,
     "metadata": {},
     "output_type": "execute_result"
    }
   ],
   "source": [
    "from sklearn.preprocessing import RobustScaler\n",
    "from sklearn.preprocessing import MinMaxScaler\n",
    "\n",
    "normalize = MinMaxScaler()\n",
    "robust = RobustScaler(quantile_range = (0.1,0.8)) #range of inerquartile is one of the parameters\n",
    "robust_stan = robust.fit_transform(df_train_test)\n",
    "robust_stan_normalize = normalize.fit_transform(robust_stan)\n",
    "# also normalized the dataset using MinMaxScaler i.e has bought the data set between (0,1)\n",
    "df_robust_normalize = pd.DataFrame(robust_stan_normalize,columns=column_names)\n",
    "df_robust_normalize.head()"
   ]
  },
  {
   "cell_type": "code",
   "execution_count": 68,
   "metadata": {
    "scrolled": false
   },
   "outputs": [
    {
     "name": "stdout",
     "output_type": "stream",
     "text": [
      "lr 0.5597336180678341\n",
      "ridge 0.5600244473901529\n",
      "rfr 0.5501611903926141\n",
      "etr 0.523053883509238\n",
      "br 0.5167972488608448\n",
      "gbr 0.5923504284722995\n",
      "en 0.16451783452458138\n",
      "mlp 0.4947801761768077\n"
     ]
    }
   ],
   "source": [
    "basic_model_selection(df_robust_normalize,Y_train,4,models)"
   ]
  },
  {
   "cell_type": "code",
   "execution_count": 69,
   "metadata": {
    "scrolled": false
   },
   "outputs": [
    {
     "name": "stdout",
     "output_type": "stream",
     "text": [
      "0.5229616797276742\n"
     ]
    }
   ],
   "source": [
    "cv_score = cross_val_score(xgb1, df_robust_normalize, Y_train, cv=4,n_jobs=5)\n",
    "print(cv_score.mean())"
   ]
  },
  {
   "cell_type": "code",
   "execution_count": 70,
   "metadata": {},
   "outputs": [
    {
     "name": "stdout",
     "output_type": "stream",
     "text": [
      "Link to the dashboard for the run: https://app.truefoundry.com/mlfoundry/150/c5df06f4205e4a42877cd072d3406480/\n",
      "[mlfoundry] 2022-07-02T10:43:42+0530 WARNING failed to log git info because git repository is not present\n",
      "[mlfoundry] 2022-07-02T10:43:45+0530 INFO Run 'Kumar/bigmart-sales-prediction-project/XGB-Regressor-Using-Robust-Scalar-Standardization' has started.\n"
     ]
    }
   ],
   "source": [
    "mlf_run = mlf_api.create_run(project_name='bigmart-sales-prediction-project', run_name='XGB-Regressor-Using-Robust-Scalar-Standardization') "
   ]
  },
  {
   "cell_type": "code",
   "execution_count": 71,
   "metadata": {
    "scrolled": false
   },
   "outputs": [
    {
     "name": "stdout",
     "output_type": "stream",
     "text": [
      "Fitting 4 folds for each of 72 candidates, totalling 288 fits\n",
      "[10:46:00] WARNING: C:/Users/Administrator/workspace/xgboost-win64_release_1.6.0/src/learner.cc:627: \n",
      "Parameters: { \"silent\" } might not be used.\n",
      "\n",
      "  This could be a false alarm, with some parameters getting used by language bindings but\n",
      "  then being mistakenly passed down to XGBoost core, or some parameter actually being used\n",
      "  but getting flagged wrongly here. Please open an issue if you find any such cases.\n",
      "\n",
      "\n",
      "<bound method BaseSearchCV.score of GridSearchCV(cv=4,\n",
      "             estimator=XGBRegressor(base_score=None, booster=None,\n",
      "                                    callbacks=None, colsample_bylevel=None,\n",
      "                                    colsample_bynode=None,\n",
      "                                    colsample_bytree=None,\n",
      "                                    early_stopping_rounds=None,\n",
      "                                    enable_categorical=False, eval_metric=None,\n",
      "                                    gamma=None, gpu_id=None, grow_policy=None,\n",
      "                                    importance_type=None,\n",
      "                                    interaction_constraints=None,\n",
      "                                    learning_rate=None, max_bin=None,\n",
      "                                    max_cat...\n",
      "                                    monotone_constraints=None, n_estimators=100,\n",
      "                                    n_jobs=None, num_parallel_tree=None,\n",
      "                                    predictor=None, random_state=None,\n",
      "                                    reg_alpha=None, reg_lambda=None, ...),\n",
      "             n_jobs=5,\n",
      "             param_grid={'colsample_bytree': [0.7],\n",
      "                         'learning_rate': [0.02, 0.03], 'max_depth': [3, 2, 4],\n",
      "                         'min_child_weight': [3, 4, 5],\n",
      "                         'n_estimators': [300, 320], 'nthread': [3, 4],\n",
      "                         'silent': [1], 'subsample': [0.5]},\n",
      "             verbose=True)>\n",
      "{'colsample_bytree': 0.7, 'learning_rate': 0.02, 'max_depth': 3, 'min_child_weight': 5, 'n_estimators': 300, 'nthread': 3, 'silent': 1, 'subsample': 0.5}\n",
      "The RMSE score is 1055.5674290882139\n"
     ]
    }
   ],
   "source": [
    "model_grid, rmse = model_parameter_tuning(df_robust_normalize,Y_train,xgb1,parameters_xgb,4)"
   ]
  },
  {
   "cell_type": "code",
   "execution_count": 72,
   "metadata": {
    "scrolled": false
   },
   "outputs": [
    {
     "name": "stdout",
     "output_type": "stream",
     "text": [
      "[mlfoundry] 2022-07-02T10:47:01+0530 INFO Parameters logged successfully\n",
      "[mlfoundry] 2022-07-02T10:47:03+0530 INFO Metrics logged successfully\n",
      "[mlfoundry] 2022-07-02T10:48:03+0530 INFO Model logged successfully\n"
     ]
    }
   ],
   "source": [
    "mlf_run.log_params(model_grid.best_params_)\n",
    "mlf_run.log_metrics({\"accuracy\":model_grid.best_score_, \"rmse\": rmse})\n",
    "mlf_run.log_model(model_grid.best_estimator_, mlf.ModelFramework.SKLEARN)"
   ]
  },
  {
   "cell_type": "code",
   "execution_count": 73,
   "metadata": {
    "scrolled": false
   },
   "outputs": [
    {
     "name": "stdout",
     "output_type": "stream",
     "text": [
      "[mlfoundry] 2022-07-02T10:48:04+0530 INFO Logging Dataset, this might take a while ...\n",
      "[mlfoundry] 2022-07-02T10:49:15+0530 INFO Dataset logged successfully\n",
      "To visualize the logged dataset, click on the link https://app.truefoundry.com/mlfoundry/150/c5df06f4205e4a42877cd072d3406480/?tab=data-feature-metrics\n"
     ]
    }
   ],
   "source": [
    "train_df = df_robust_normalize.copy()\n",
    "train_df['targets'] = Y_train\n",
    "train_df['predictions'] = model_grid.predict(df_robust_normalize)\n",
    "\n",
    "mlf_run.log_dataset(\n",
    "    dataset_name = 'train_dataset',\n",
    "    features = train_df[list(df_robust_normalize.columns)],\n",
    "    predictions = train_df['predictions'],\n",
    "    actuals = train_df['targets'],\n",
    "    only_stats = False,   \n",
    ")"
   ]
  },
  {
   "cell_type": "code",
   "execution_count": 74,
   "metadata": {},
   "outputs": [
    {
     "name": "stdout",
     "output_type": "stream",
     "text": [
      "Link to the dashboard for the run: https://app.truefoundry.com/mlfoundry/150/88a0543dc0294112b8f6c93e307e8ed2/\n",
      "[mlfoundry] 2022-07-02T10:49:29+0530 WARNING failed to log git info because git repository is not present\n",
      "[mlfoundry] 2022-07-02T10:49:33+0530 INFO Run 'Kumar/bigmart-sales-prediction-project/Gradient-Boost-Regressor-Using-Robust-Scalar-Standardization' has started.\n",
      "[mlfoundry] 2022-07-02T10:49:38+0530 INFO Shutting down background jobs and syncing data for run 'Kumar/bigmart-sales-prediction-project/XGB-Regressor-Using-Robust-Scalar-Standardization', please don't kill this process...\n",
      "[mlfoundry] 2022-07-02T10:49:42+0530 INFO Finished syncing data for run 'Kumar/bigmart-sales-prediction-project/XGB-Regressor-Using-Robust-Scalar-Standardization'. Thank you for waiting!\n",
      "Link to the dashboard for the run: https://app.truefoundry.com/mlfoundry/150/c5df06f4205e4a42877cd072d3406480/\n"
     ]
    }
   ],
   "source": [
    "mlf_run = mlf_api.create_run(project_name='bigmart-sales-prediction-project', run_name='Gradient-Boost-Regressor-Using-Robust-Scalar-Standardization')"
   ]
  },
  {
   "cell_type": "code",
   "execution_count": 75,
   "metadata": {
    "scrolled": false
   },
   "outputs": [
    {
     "name": "stdout",
     "output_type": "stream",
     "text": [
      "Fitting 4 folds for each of 72 candidates, totalling 288 fits\n",
      "<bound method BaseSearchCV.score of GridSearchCV(cv=4, estimator=GradientBoostingRegressor(), n_jobs=5,\n",
      "             param_grid={'learning_rate': [0.3], 'loss': ['ls', 'lad'],\n",
      "                         'max_depth': [3, 4],\n",
      "                         'max_features': ['auto', 'log2', 'sqrt'],\n",
      "                         'min_samples_leaf': [3, 4, 2],\n",
      "                         'min_samples_split': [3, 4], 'n_estimators': [300]},\n",
      "             verbose=True)>\n",
      "{'learning_rate': 0.3, 'loss': 'lad', 'max_depth': 3, 'max_features': 'auto', 'min_samples_leaf': 2, 'min_samples_split': 3, 'n_estimators': 300}\n",
      "The RMSE score is 1044.1320855176123\n"
     ]
    }
   ],
   "source": [
    "model_grid, rmse = model_parameter_tuning(df_robust_normalize,Y_train,gbr,parameters_gbr,4)"
   ]
  },
  {
   "cell_type": "code",
   "execution_count": 76,
   "metadata": {
    "scrolled": false
   },
   "outputs": [
    {
     "name": "stdout",
     "output_type": "stream",
     "text": [
      "[mlfoundry] 2022-07-02T10:54:07+0530 INFO Parameters logged successfully\n",
      "[mlfoundry] 2022-07-02T10:54:12+0530 INFO Metrics logged successfully\n",
      "[mlfoundry] 2022-07-02T10:54:34+0530 INFO Shutting down background jobs and syncing data for run 'Kumar/bigmart-sales-prediction-project/Gradient-Boost-Regressor-on-Standardized-Data', please don't kill this process...\n",
      "[mlfoundry] 2022-07-02T10:54:37+0530 INFO Finished syncing data for run 'Kumar/bigmart-sales-prediction-project/Gradient-Boost-Regressor-on-Standardized-Data'. Thank you for waiting!\n",
      "Link to the dashboard for the run: https://app.truefoundry.com/mlfoundry/150/43d1b76d84b44328891a51b0c24b42ec/\n",
      "[mlfoundry] 2022-07-02T10:55:09+0530 INFO Model logged successfully\n"
     ]
    }
   ],
   "source": [
    "mlf_run.log_params(model_grid.best_params_)\n",
    "mlf_run.log_metrics({\"accuracy\":model_grid.best_score_, \"rmse\": rmse})\n",
    "mlf_run.log_model(model_grid.best_estimator_, mlf.ModelFramework.SKLEARN)"
   ]
  },
  {
   "cell_type": "code",
   "execution_count": 77,
   "metadata": {
    "scrolled": false
   },
   "outputs": [
    {
     "name": "stdout",
     "output_type": "stream",
     "text": [
      "[mlfoundry] 2022-07-02T10:55:09+0530 INFO Logging Dataset, this might take a while ...\n",
      "[mlfoundry] 2022-07-02T10:55:56+0530 INFO Dataset logged successfully\n",
      "To visualize the logged dataset, click on the link https://app.truefoundry.com/mlfoundry/150/88a0543dc0294112b8f6c93e307e8ed2/?tab=data-feature-metrics\n"
     ]
    }
   ],
   "source": [
    "train_df = df_robust_normalize.copy()\n",
    "train_df['targets'] = Y_train\n",
    "train_df['predictions'] = model_grid.predict(df_robust_normalize)\n",
    "\n",
    "mlf_run.log_dataset(\n",
    "    dataset_name = 'train_dataset',\n",
    "    features = train_df[list(df_robust_normalize.columns)],\n",
    "    predictions = train_df['predictions'],\n",
    "    actuals = train_df['targets'],\n",
    "    only_stats = False,   \n",
    ")"
   ]
  },
  {
   "cell_type": "markdown",
   "metadata": {},
   "source": [
    "# Best Model \n",
    "# Comparing all models using RMSE score \n"
   ]
  },
  {
   "cell_type": "markdown",
   "metadata": {},
   "source": [
    "# Gradient Boosting Method is the best method when implemented using Robust Scaler and MinMaxScaler normalization\n",
    " PARAMETERS AND RMSE RESPECTIVELY\n",
    " {'learning_rate': 0.3, 'loss': 'lad', 'max_depth': 3, 'max_features': 'auto', 'min_samples_leaf': 2, 'min_samples_split': 2, 'n_estimators': 300}\n",
    "The RMSE score is 1049.14085875651"
   ]
  },
  {
   "cell_type": "code",
   "execution_count": 78,
   "metadata": {
    "scrolled": false
   },
   "outputs": [],
   "source": [
    "robust_test = robust.fit_transform(df_new_test)\n",
    "robust_normalize_test = normalize.fit_transform(robust_test)\n",
    "df_test_robust_normalize = pd.DataFrame(robust_normalize_test,columns=column_names)"
   ]
  },
  {
   "cell_type": "code",
   "execution_count": 79,
   "metadata": {
    "scrolled": false
   },
   "outputs": [],
   "source": [
    "gbr = GradientBoostingRegressor(learning_rate= 0.3, loss= 'lad',max_depth= 3,min_samples_leaf=2,min_samples_split=3\n",
    "                                ,n_estimators= 300)\n",
    "# Defining my final model that I will use for prediction"
   ]
  },
  {
   "cell_type": "code",
   "execution_count": 80,
   "metadata": {
    "scrolled": false
   },
   "outputs": [
    {
     "data": {
      "text/plain": [
       "GradientBoostingRegressor(learning_rate=0.3, loss='lad', min_samples_leaf=2,\n",
       "                          min_samples_split=3, n_estimators=300)"
      ]
     },
     "execution_count": 80,
     "metadata": {},
     "output_type": "execute_result"
    }
   ],
   "source": [
    "gbr.fit(df_robust_normalize,Y_train)"
   ]
  },
  {
   "cell_type": "code",
   "execution_count": 81,
   "metadata": {
    "scrolled": false
   },
   "outputs": [],
   "source": [
    "final_prediction=gbr.predict(df_test_robust_normalize) #Predicting the outlet sales"
   ]
  },
  {
   "cell_type": "code",
   "execution_count": 82,
   "metadata": {
    "scrolled": false
   },
   "outputs": [],
   "source": [
    "#the prediction is in the form of numpy array \n",
    "# Converting into Dataframe \n",
    "df_final_prediction = pd.DataFrame(final_prediction,columns=['Item_Outlet_Sales'])"
   ]
  },
  {
   "cell_type": "code",
   "execution_count": 83,
   "metadata": {
    "scrolled": false
   },
   "outputs": [
    {
     "data": {
      "text/html": [
       "<div>\n",
       "<style scoped>\n",
       "    .dataframe tbody tr th:only-of-type {\n",
       "        vertical-align: middle;\n",
       "    }\n",
       "\n",
       "    .dataframe tbody tr th {\n",
       "        vertical-align: top;\n",
       "    }\n",
       "\n",
       "    .dataframe thead th {\n",
       "        text-align: right;\n",
       "    }\n",
       "</style>\n",
       "<table border=\"1\" class=\"dataframe\">\n",
       "  <thead>\n",
       "    <tr style=\"text-align: right;\">\n",
       "      <th></th>\n",
       "      <th>Item_Outlet_Sales</th>\n",
       "    </tr>\n",
       "  </thead>\n",
       "  <tbody>\n",
       "    <tr>\n",
       "      <th>0</th>\n",
       "      <td>1680.682951</td>\n",
       "    </tr>\n",
       "    <tr>\n",
       "      <th>1</th>\n",
       "      <td>1301.740560</td>\n",
       "    </tr>\n",
       "    <tr>\n",
       "      <th>2</th>\n",
       "      <td>554.995749</td>\n",
       "    </tr>\n",
       "    <tr>\n",
       "      <th>3</th>\n",
       "      <td>2516.717144</td>\n",
       "    </tr>\n",
       "    <tr>\n",
       "      <th>4</th>\n",
       "      <td>5752.703713</td>\n",
       "    </tr>\n",
       "  </tbody>\n",
       "</table>\n",
       "</div>"
      ],
      "text/plain": [
       "   Item_Outlet_Sales\n",
       "0        1680.682951\n",
       "1        1301.740560\n",
       "2         554.995749\n",
       "3        2516.717144\n",
       "4        5752.703713"
      ]
     },
     "execution_count": 83,
     "metadata": {},
     "output_type": "execute_result"
    }
   ],
   "source": [
    "df_final_prediction.head()"
   ]
  },
  {
   "cell_type": "markdown",
   "metadata": {},
   "source": [
    "# Saving the final model using Joblib"
   ]
  },
  {
   "cell_type": "code",
   "execution_count": 84,
   "metadata": {
    "scrolled": false
   },
   "outputs": [
    {
     "data": {
      "text/plain": [
       "['min_max_scalar.sav']"
      ]
     },
     "execution_count": 84,
     "metadata": {},
     "output_type": "execute_result"
    }
   ],
   "source": [
    "import joblib\n",
    "filename = 'final_model.sav' # Name of the model \n",
    "joblib.dump(gbr, filename) # it is saved in your current working directory\n",
    "\n",
    "joblib.dump(robust, 'robust_scalar.sav')\n",
    "joblib.dump(normalize, 'min_max_scalar.sav')"
   ]
  },
  {
   "cell_type": "code",
   "execution_count": 85,
   "metadata": {
    "scrolled": true
   },
   "outputs": [],
   "source": [
    "# This command loads the model once again\n",
    "load_model = joblib.load(filename)"
   ]
  },
  {
   "cell_type": "markdown",
   "metadata": {},
   "source": [
    "# Webapp Demonstration"
   ]
  },
  {
   "cell_type": "code",
   "execution_count": 86,
   "metadata": {
    "scrolled": false
   },
   "outputs": [],
   "source": [
    "# %%writefile \"streamlit_filename.py\"\n",
    "# # import the required libraries\n",
    "# import shap\n",
    "# import pickle\n",
    "# import joblib\n",
    "# import pandas as pd\n",
    "# import streamlit as st\n",
    "# from sklearn.preprocessing import StandardScaler\n",
    "# import mlfoundry as mlf\n",
    "# from mlfoundry.webapp import inputs as mlf_inputs\n",
    "# from mlfoundry.webapp import outputs as mlf_outputs\n",
    "\n",
    "# # This is the default setup where the data is logged to your local and the UI server is spin on your local machine as well\n",
    "# mlf_api = mlf.get_client() # to save locally\n",
    "# mlf_run = mlf_api.create_run(project_name='bigmart_sales_prediction_webapp')\n",
    "\n",
    "\n",
    "# st.header(\"BigMart Sales Prediction\") # header \n",
    "# st.info(\"Model used: Gradient Boost Regressor\") # to display the name of the model used\n",
    "\n",
    "\n",
    "# #load the saved models\n",
    "# model = joblib.load('final_model.sav')\n",
    "# robust = joblib.load('robust_scalar.sav')\n",
    "# normalize = joblib.load('min_max_scalar.sav')\n",
    "\n",
    "# Outlet_Identifier_List = ['Outlet_Identifier_OUT010', 'Outlet_Identifier_OUT013',\n",
    "#                           'Outlet_Identifier_OUT017', 'Outlet_Identifier_OUT018',\n",
    "#                           'Outlet_Identifier_OUT019', 'Outlet_Identifier_OUT027',\n",
    "#                           'Outlet_Identifier_OUT035', 'Outlet_Identifier_OUT045',\n",
    "#                           'Outlet_Identifier_OUT046', 'Outlet_Identifier_OUT049']\n",
    "\n",
    "# columns_list_final = ['Item_Weight', 'Item_Fat_Content', 'Item_Visibility', 'Item_MRP',\n",
    "#                        'Outlet_Size', 'Outlet_Location_Type', 'Outlet_Type',\n",
    "#                        'Item_Type_combined', 'yearsold', 'Outlet_Identifier_OUT010',\n",
    "#                        'Outlet_Identifier_OUT013', 'Outlet_Identifier_OUT017',\n",
    "#                        'Outlet_Identifier_OUT018', 'Outlet_Identifier_OUT019',\n",
    "#                        'Outlet_Identifier_OUT027', 'Outlet_Identifier_OUT035',\n",
    "#                        'Outlet_Identifier_OUT045', 'Outlet_Identifier_OUT046',\n",
    "#                        'Outlet_Identifier_OUT049']\n",
    "\n",
    "# columns_list = ['Item_Weight', 'Item_Visibility', 'Item_MRP',\n",
    "#                 'Item_Fat_Content', 'Outlet_Size', 'Outlet_Location_Type',\n",
    "#                  'Outlet_Type', 'Item_Type_combined', 'Outlet_Identifier',\n",
    "#                  'yearsold']\n",
    "\n",
    "# # function to preprocess the data\n",
    "# def preprocess(data):\n",
    "#     robust_data = robust.transform(data)\n",
    "#     robust_normalize_data = normalize.transform(robust_data)\n",
    "#     data = pd.DataFrame(robust_normalize_data,columns=data.columns)\n",
    "#     return data\n",
    "\n",
    "# # fucntion to make predictions\n",
    "# def model_predict_fn(*args):\n",
    "#     df = pd.DataFrame({key: [value] for key, value in zip(columns_list, list(args))})\n",
    "#     for outlet_identifier in Outlet_Identifier_List:\n",
    "#         df[outlet_identifier] = 0\n",
    "#     df[df['Outlet_Identifier']] = 1   \n",
    "#     df = df[columns_list_final]\n",
    "#     df= preprocess(df)\n",
    "#     final = model.predict(df)\n",
    "#     return str(final[0])\n",
    "\n",
    "\n",
    "# # creating webapp \n",
    "# raw_in, raw_out = mlf_run.webapp(\n",
    "#     model_predict_fn, # parameter1- model predict function \n",
    "#     [           # parameter 2 - our input sliders \n",
    "#         mlf_inputs.Number(label=\"Item_Weight\", default= 12.79),\n",
    "#         mlf_inputs.Number(label=\"Item_Visibility[0-1]\", default=0.0697),\n",
    "#         mlf_inputs.Number(label=\"Item_MRP\", default= 144.99),\n",
    "#         mlf_inputs.Radio(choices=[\"Low Fat\", \"Non-Edible\", \"Regular\"], type=\"index\", label=\"Item_Fat_Content\"),\n",
    "#         mlf_inputs.Radio(choices=[\"High\", \"Medium\", \"Small\"], type=\"index\", label=\"Outlet_Size\"),\n",
    "#         mlf_inputs.Radio(choices=[\"Tier1\", \"Tier2\", \"Tier3\"], type=\"index\", label=\"Outlet_Location_Type\", default=\"Tier1\"),\n",
    "#         mlf_inputs.Dropdown(choices=[\"Grocery Store\", \"Super Market Type 1\",\n",
    "#                                      \"Super Market Type 2\", \"Super Market Type 3\"],\n",
    "#                             type=\"index\", label=\"Outlet_type\", default=\"Grocery Store\"),\n",
    "#         mlf_inputs.Dropdown(choices=[\"Drinks\", \"Foods\", \"Non Consumable\"],\n",
    "#                             type=\"index\", label=\"Item_Type\", default=\"Drinks\"),\n",
    "#         mlf_inputs.Dropdown(choices=Outlet_Identifier_List, type=\"value\", label=\"Outlet_Identifier\"),\n",
    "#         mlf_inputs.Slider(minimum=0, maximum=30, step=1, label=\"yearold\", default=15),\n",
    "#     ],\n",
    "#     mlf_outputs.Textbox(label=\"Item Outlet Sales\") # parameter 3 - output - Textbox\n",
    "# )"
   ]
  },
  {
   "cell_type": "code",
   "execution_count": 87,
   "metadata": {
    "scrolled": false
   },
   "outputs": [
    {
     "ename": "AttributeError",
     "evalue": "'MlFoundryRun' object has no attribute 'log_webapp_file'",
     "output_type": "error",
     "traceback": [
      "\u001b[1;31m---------------------------------------------------------------------------\u001b[0m",
      "\u001b[1;31mAttributeError\u001b[0m                            Traceback (most recent call last)",
      "\u001b[1;32m~\\AppData\\Local\\Temp\\ipykernel_692\\2329913723.py\u001b[0m in \u001b[0;36m<module>\u001b[1;34m\u001b[0m\n\u001b[1;32m----> 1\u001b[1;33m \u001b[0mmlf_run\u001b[0m\u001b[1;33m.\u001b[0m\u001b[0mlog_webapp_file\u001b[0m\u001b[1;33m(\u001b[0m\u001b[1;34m'streamlit_filename.py'\u001b[0m\u001b[1;33m)\u001b[0m\u001b[1;33m\u001b[0m\u001b[1;33m\u001b[0m\u001b[0m\n\u001b[0m",
      "\u001b[1;31mAttributeError\u001b[0m: 'MlFoundryRun' object has no attribute 'log_webapp_file'"
     ]
    }
   ],
   "source": [
    "mlf_run.log_webapp_file('streamlit_filename.py')"
   ]
  }
 ],
 "metadata": {
  "kernelspec": {
   "display_name": "Python 3.7.9 ('venv': venv)",
   "language": "python",
   "name": "python3"
  },
  "language_info": {
   "codemirror_mode": {
    "name": "ipython",
    "version": 3
   },
   "file_extension": ".py",
   "mimetype": "text/x-python",
   "name": "python",
   "nbconvert_exporter": "python",
   "pygments_lexer": "ipython3",
   "version": "3.7.9"
  },
  "vscode": {
   "interpreter": {
    "hash": "9ef903084c5c52a4a91f9ef5ca044f687b322219c655fbb3a0754c14ca2b62b4"
   }
  }
 },
 "nbformat": 4,
 "nbformat_minor": 2
}
