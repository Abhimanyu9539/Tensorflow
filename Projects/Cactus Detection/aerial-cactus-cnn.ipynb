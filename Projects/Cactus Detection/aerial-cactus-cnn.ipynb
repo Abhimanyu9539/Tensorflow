{
 "cells": [
  {
   "cell_type": "code",
   "execution_count": 2,
   "id": "f10c1e9c",
   "metadata": {
    "execution": {
     "iopub.execute_input": "2023-01-30T21:23:22.046085Z",
     "iopub.status.busy": "2023-01-30T21:23:22.045730Z",
     "iopub.status.idle": "2023-01-30T21:23:29.550544Z",
     "shell.execute_reply": "2023-01-30T21:23:29.548567Z"
    },
    "papermill": {
     "duration": 7.516752,
     "end_time": "2023-01-30T21:23:29.553088",
     "exception": false,
     "start_time": "2023-01-30T21:23:22.036336",
     "status": "completed"
    },
    "tags": []
   },
   "outputs": [],
   "source": [
    "import pandas as pd\n",
    "import numpy as np\n",
    "import tensorflow as tf\n",
    "import cv2\n",
    "import matplotlib.pyplot as plt\n",
    "import os"
   ]
  },
  {
   "cell_type": "code",
   "execution_count": 3,
   "id": "0f6830d6",
   "metadata": {
    "execution": {
     "iopub.execute_input": "2023-01-30T21:23:29.571460Z",
     "iopub.status.busy": "2023-01-30T21:23:29.570728Z",
     "iopub.status.idle": "2023-01-30T21:23:30.698050Z",
     "shell.execute_reply": "2023-01-30T21:23:30.696044Z"
    },
    "papermill": {
     "duration": 1.140243,
     "end_time": "2023-01-30T21:23:30.700773",
     "exception": false,
     "start_time": "2023-01-30T21:23:29.560530",
     "status": "completed"
    },
    "tags": []
   },
   "outputs": [],
   "source": [
    "!unzip -q aerial-cactus-identification/train.zip"
   ]
  },
  {
   "cell_type": "code",
   "execution_count": 4,
   "id": "a921f3ba",
   "metadata": {
    "execution": {
     "iopub.execute_input": "2023-01-30T21:23:30.718244Z",
     "iopub.status.busy": "2023-01-30T21:23:30.717784Z",
     "iopub.status.idle": "2023-01-30T21:23:31.200082Z",
     "shell.execute_reply": "2023-01-30T21:23:31.198447Z"
    },
    "papermill": {
     "duration": 0.494432,
     "end_time": "2023-01-30T21:23:31.203075",
     "exception": false,
     "start_time": "2023-01-30T21:23:30.708643",
     "status": "completed"
    },
    "tags": []
   },
   "outputs": [],
   "source": [
    "!unzip -q aerial-cactus-identification/test.zip"
   ]
  },
  {
   "cell_type": "code",
   "execution_count": 5,
   "id": "ae27f383",
   "metadata": {
    "execution": {
     "iopub.execute_input": "2023-01-30T21:23:31.219661Z",
     "iopub.status.busy": "2023-01-30T21:23:31.219195Z",
     "iopub.status.idle": "2023-01-30T21:23:31.238738Z",
     "shell.execute_reply": "2023-01-30T21:23:31.237217Z"
    },
    "papermill": {
     "duration": 0.030584,
     "end_time": "2023-01-30T21:23:31.241198",
     "exception": false,
     "start_time": "2023-01-30T21:23:31.210614",
     "status": "completed"
    },
    "tags": []
   },
   "outputs": [
    {
     "data": {
      "text/plain": [
       "17500"
      ]
     },
     "execution_count": 5,
     "metadata": {},
     "output_type": "execute_result"
    }
   ],
   "source": [
    "len(os.listdir('train'))"
   ]
  },
  {
   "cell_type": "code",
   "execution_count": 6,
   "id": "7e96fd05",
   "metadata": {
    "execution": {
     "iopub.execute_input": "2023-01-30T21:23:31.258550Z",
     "iopub.status.busy": "2023-01-30T21:23:31.258151Z",
     "iopub.status.idle": "2023-01-30T21:23:31.298284Z",
     "shell.execute_reply": "2023-01-30T21:23:31.296102Z"
    },
    "papermill": {
     "duration": 0.05253,
     "end_time": "2023-01-30T21:23:31.301436",
     "exception": false,
     "start_time": "2023-01-30T21:23:31.248906",
     "status": "completed"
    },
    "tags": []
   },
   "outputs": [],
   "source": [
    "df=pd.read_csv('aerial-cactus-identification/train.csv')"
   ]
  },
  {
   "cell_type": "code",
   "execution_count": 7,
   "id": "629e77e9",
   "metadata": {
    "execution": {
     "iopub.execute_input": "2023-01-30T21:23:31.318948Z",
     "iopub.status.busy": "2023-01-30T21:23:31.318597Z",
     "iopub.status.idle": "2023-01-30T21:23:31.348292Z",
     "shell.execute_reply": "2023-01-30T21:23:31.347053Z"
    },
    "papermill": {
     "duration": 0.041531,
     "end_time": "2023-01-30T21:23:31.350925",
     "exception": false,
     "start_time": "2023-01-30T21:23:31.309394",
     "status": "completed"
    },
    "tags": []
   },
   "outputs": [
    {
     "data": {
      "text/plain": [
       "(32, 32, 3)"
      ]
     },
     "execution_count": 7,
     "metadata": {},
     "output_type": "execute_result"
    }
   ],
   "source": [
    "image=cv2.imread('train/'+df['id'][0])\n",
    "image.shape"
   ]
  },
  {
   "cell_type": "code",
   "execution_count": 8,
   "id": "d4149b22",
   "metadata": {
    "execution": {
     "iopub.execute_input": "2023-01-30T21:23:31.371711Z",
     "iopub.status.busy": "2023-01-30T21:23:31.371194Z",
     "iopub.status.idle": "2023-01-30T21:23:31.385129Z",
     "shell.execute_reply": "2023-01-30T21:23:31.383286Z"
    },
    "papermill": {
     "duration": 0.02726,
     "end_time": "2023-01-30T21:23:31.388040",
     "exception": false,
     "start_time": "2023-01-30T21:23:31.360780",
     "status": "completed"
    },
    "tags": []
   },
   "outputs": [
    {
     "data": {
      "text/plain": [
       "1    13136\n",
       "0     4364\n",
       "Name: has_cactus, dtype: int64"
      ]
     },
     "execution_count": 8,
     "metadata": {},
     "output_type": "execute_result"
    }
   ],
   "source": [
    "df.has_cactus.value_counts()"
   ]
  },
  {
   "cell_type": "code",
   "execution_count": 9,
   "id": "dca54d12",
   "metadata": {
    "execution": {
     "iopub.execute_input": "2023-01-30T21:23:31.407124Z",
     "iopub.status.busy": "2023-01-30T21:23:31.406756Z",
     "iopub.status.idle": "2023-01-30T21:23:32.605105Z",
     "shell.execute_reply": "2023-01-30T21:23:32.603381Z"
    },
    "papermill": {
     "duration": 1.212328,
     "end_time": "2023-01-30T21:23:32.608445",
     "exception": false,
     "start_time": "2023-01-30T21:23:31.396117",
     "status": "completed"
    },
    "tags": []
   },
   "outputs": [],
   "source": [
    "idg=tf.keras.preprocessing.image.ImageDataGenerator(rescale=1/255.0,validation_split=.1)"
   ]
  },
  {
   "cell_type": "code",
   "execution_count": 10,
   "id": "aa270a69",
   "metadata": {
    "execution": {
     "iopub.execute_input": "2023-01-30T21:23:32.627618Z",
     "iopub.status.busy": "2023-01-30T21:23:32.626238Z",
     "iopub.status.idle": "2023-01-30T21:23:32.636222Z",
     "shell.execute_reply": "2023-01-30T21:23:32.634795Z"
    },
    "papermill": {
     "duration": 0.023234,
     "end_time": "2023-01-30T21:23:32.639580",
     "exception": false,
     "start_time": "2023-01-30T21:23:32.616346",
     "status": "completed"
    },
    "tags": []
   },
   "outputs": [
    {
     "data": {
      "text/plain": [
       "'000c8a36845c0208e833c79c1bffedd1.jpg'"
      ]
     },
     "execution_count": 10,
     "metadata": {},
     "output_type": "execute_result"
    }
   ],
   "source": [
    "df.iloc[1,0]"
   ]
  },
  {
   "cell_type": "code",
   "execution_count": 12,
   "id": "5ef0ba4f",
   "metadata": {
    "execution": {
     "iopub.execute_input": "2023-01-30T21:23:32.684258Z",
     "iopub.status.busy": "2023-01-30T21:23:32.683782Z",
     "iopub.status.idle": "2023-01-30T21:23:32.766907Z",
     "shell.execute_reply": "2023-01-30T21:23:32.766216Z"
    },
    "papermill": {
     "duration": 0.096188,
     "end_time": "2023-01-30T21:23:32.769917",
     "exception": false,
     "start_time": "2023-01-30T21:23:32.673729",
     "status": "completed"
    },
    "tags": []
   },
   "outputs": [
    {
     "name": "stderr",
     "output_type": "stream",
     "text": [
      "2023-01-30 21:23:32.729241: I tensorflow/core/common_runtime/process_util.cc:146] Creating new thread pool with default inter op setting: 2. Tune using inter_op_parallelism_threads for best performance.\n"
     ]
    }
   ],
   "source": [
    "data_augmentation = tf.keras.Sequential(\n",
    "    [\n",
    "        tf.keras.layers.RandomFlip(\"horizontal\"),\n",
    "        tf.keras.layers.RandomRotation(0.2),\n",
    "        tf.keras.layers.RandomTranslation(0.14,0.14),\n",
    "        tf.keras.layers.RandomZoom(0.2),\n",
    "        tf.keras.layers.RandomContrast(0.2),\n",
    "    ]\n",
    ")"
   ]
  },
  {
   "cell_type": "code",
   "execution_count": 13,
   "id": "93d93908",
   "metadata": {
    "execution": {
     "iopub.execute_input": "2023-01-30T21:23:32.789455Z",
     "iopub.status.busy": "2023-01-30T21:23:32.788701Z",
     "iopub.status.idle": "2023-01-30T21:23:33.422333Z",
     "shell.execute_reply": "2023-01-30T21:23:33.420410Z"
    },
    "papermill": {
     "duration": 0.64704,
     "end_time": "2023-01-30T21:23:33.424916",
     "exception": false,
     "start_time": "2023-01-30T21:23:32.777876",
     "status": "completed"
    },
    "tags": []
   },
   "outputs": [
    {
     "name": "stdout",
     "output_type": "stream",
     "text": [
      "Model: \"model\"\n",
      "_________________________________________________________________\n",
      "Layer (type)                 Output Shape              Param #   \n",
      "=================================================================\n",
      "input_1 (InputLayer)         [(None, 32, 32, 3)]       0         \n",
      "_________________________________________________________________\n",
      "sequential (Sequential)      (None, 32, 32, 3)         0         \n",
      "_________________________________________________________________\n",
      "conv2d (Conv2D)              (None, 32, 32, 32)        896       \n",
      "_________________________________________________________________\n",
      "conv2d_1 (Conv2D)            (None, 32, 32, 32)        9248      \n",
      "_________________________________________________________________\n",
      "max_pooling2d (MaxPooling2D) (None, 16, 16, 32)        0         \n",
      "_________________________________________________________________\n",
      "conv2d_2 (Conv2D)            (None, 16, 16, 32)        9248      \n",
      "_________________________________________________________________\n",
      "conv2d_3 (Conv2D)            (None, 16, 16, 16)        4624      \n",
      "_________________________________________________________________\n",
      "max_pooling2d_1 (MaxPooling2 (None, 8, 8, 16)          0         \n",
      "_________________________________________________________________\n",
      "flatten (Flatten)            (None, 1024)              0         \n",
      "_________________________________________________________________\n",
      "dense (Dense)                (None, 120)               123000    \n",
      "_________________________________________________________________\n",
      "batch_normalization (BatchNo (None, 120)               480       \n",
      "_________________________________________________________________\n",
      "dropout (Dropout)            (None, 120)               0         \n",
      "_________________________________________________________________\n",
      "dense_1 (Dense)              (None, 120)               14520     \n",
      "_________________________________________________________________\n",
      "dense_2 (Dense)              (None, 1)                 121       \n",
      "=================================================================\n",
      "Total params: 162,137\n",
      "Trainable params: 161,657\n",
      "Non-trainable params: 480\n",
      "_________________________________________________________________\n"
     ]
    }
   ],
   "source": [
    "inputs=tf.keras.Input(shape=(32,32,3))\n",
    "input=data_augmentation(inputs)\n",
    "conv1=tf.keras.layers.Conv2D(filters=32,kernel_size=3,activation='relu',padding='same')(input)\n",
    "conv1=tf.keras.layers.Conv2D(filters=32,kernel_size=3,activation='relu',padding='same')(conv1)\n",
    "pool=tf.keras.layers.MaxPool2D(2)(conv1)\n",
    "conv2=tf.keras.layers.Conv2D(filters=32,kernel_size=3,activation='relu',padding='same')(pool)\n",
    "conv2=tf.keras.layers.Conv2D(filters=16,kernel_size=3,activation='relu',padding='same')(conv2)\n",
    "pool2=tf.keras.layers.MaxPool2D(2)(conv2)\n",
    "flatten=tf.keras.layers.Flatten()(pool2)\n",
    "dense1=tf.keras.layers.Dense(120,activation='relu')(flatten)\n",
    "norm1=tf.keras.layers.BatchNormalization(trainable=False)(dense1)\n",
    "drop1=tf.keras.layers.Dropout(.3)(norm1)\n",
    "# dense1=tf.keras.layers.Dense(120,activation='relu')(drop1)\n",
    "# norm1=tf.keras.layers.BatchNormalization(trainable=False)(dense1)\n",
    "# drop1=tf.keras.layers.Dropout(.3)(norm1)\n",
    "dense2=tf.keras.layers.Dense(120,activation='relu')(drop1)\n",
    "\n",
    "Output=tf.keras.layers.Dense(1,activation='sigmoid')(dense2)\n",
    "model=tf.keras.models.Model(inputs=inputs,outputs=Output)\n",
    "model.summary()\n",
    "# tf.keras.layers.I"
   ]
  },
  {
   "cell_type": "code",
   "execution_count": 15,
   "id": "d1cbf924",
   "metadata": {
    "execution": {
     "iopub.execute_input": "2023-01-30T21:23:33.517683Z",
     "iopub.status.busy": "2023-01-30T21:23:33.516730Z",
     "iopub.status.idle": "2023-01-30T21:23:33.527317Z",
     "shell.execute_reply": "2023-01-30T21:23:33.524752Z"
    },
    "papermill": {
     "duration": 0.02546,
     "end_time": "2023-01-30T21:23:33.530102",
     "exception": false,
     "start_time": "2023-01-30T21:23:33.504642",
     "status": "completed"
    },
    "tags": []
   },
   "outputs": [
    {
     "name": "stdout",
     "output_type": "stream",
     "text": [
      "Model: \"model\"\n",
      "_________________________________________________________________\n",
      "Layer (type)                 Output Shape              Param #   \n",
      "=================================================================\n",
      "input_1 (InputLayer)         [(None, 32, 32, 3)]       0         \n",
      "_________________________________________________________________\n",
      "sequential (Sequential)      (None, 32, 32, 3)         0         \n",
      "_________________________________________________________________\n",
      "conv2d (Conv2D)              (None, 32, 32, 32)        896       \n",
      "_________________________________________________________________\n",
      "conv2d_1 (Conv2D)            (None, 32, 32, 32)        9248      \n",
      "_________________________________________________________________\n",
      "max_pooling2d (MaxPooling2D) (None, 16, 16, 32)        0         \n",
      "_________________________________________________________________\n",
      "conv2d_2 (Conv2D)            (None, 16, 16, 32)        9248      \n",
      "_________________________________________________________________\n",
      "conv2d_3 (Conv2D)            (None, 16, 16, 16)        4624      \n",
      "_________________________________________________________________\n",
      "max_pooling2d_1 (MaxPooling2 (None, 8, 8, 16)          0         \n",
      "_________________________________________________________________\n",
      "flatten (Flatten)            (None, 1024)              0         \n",
      "_________________________________________________________________\n",
      "dense (Dense)                (None, 120)               123000    \n",
      "_________________________________________________________________\n",
      "batch_normalization (BatchNo (None, 120)               480       \n",
      "_________________________________________________________________\n",
      "dropout (Dropout)            (None, 120)               0         \n",
      "_________________________________________________________________\n",
      "dense_1 (Dense)              (None, 120)               14520     \n",
      "_________________________________________________________________\n",
      "dense_2 (Dense)              (None, 1)                 121       \n",
      "=================================================================\n",
      "Total params: 162,137\n",
      "Trainable params: 161,657\n",
      "Non-trainable params: 480\n",
      "_________________________________________________________________\n"
     ]
    }
   ],
   "source": [
    "model.summary()"
   ]
  },
  {
   "cell_type": "code",
   "execution_count": 16,
   "id": "8556016a",
   "metadata": {
    "execution": {
     "iopub.execute_input": "2023-01-30T21:23:33.548917Z",
     "iopub.status.busy": "2023-01-30T21:23:33.548527Z",
     "iopub.status.idle": "2023-01-30T21:23:33.566000Z",
     "shell.execute_reply": "2023-01-30T21:23:33.564652Z"
    },
    "papermill": {
     "duration": 0.029933,
     "end_time": "2023-01-30T21:23:33.568621",
     "exception": false,
     "start_time": "2023-01-30T21:23:33.538688",
     "status": "completed"
    },
    "tags": []
   },
   "outputs": [],
   "source": [
    "df['has_cactus']=df['has_cactus'].astype(str)"
   ]
  },
  {
   "cell_type": "code",
   "execution_count": 18,
   "id": "574c373a",
   "metadata": {
    "execution": {
     "iopub.execute_input": "2023-01-30T21:23:33.616007Z",
     "iopub.status.busy": "2023-01-30T21:23:33.615644Z",
     "iopub.status.idle": "2023-01-30T21:23:33.634447Z",
     "shell.execute_reply": "2023-01-30T21:23:33.632923Z"
    },
    "papermill": {
     "duration": 0.032192,
     "end_time": "2023-01-30T21:23:33.636966",
     "exception": false,
     "start_time": "2023-01-30T21:23:33.604774",
     "status": "completed"
    },
    "tags": []
   },
   "outputs": [
    {
     "data": {
      "text/html": [
       "<div>\n",
       "<style scoped>\n",
       "    .dataframe tbody tr th:only-of-type {\n",
       "        vertical-align: middle;\n",
       "    }\n",
       "\n",
       "    .dataframe tbody tr th {\n",
       "        vertical-align: top;\n",
       "    }\n",
       "\n",
       "    .dataframe thead th {\n",
       "        text-align: right;\n",
       "    }\n",
       "</style>\n",
       "<table border=\"1\" class=\"dataframe\">\n",
       "  <thead>\n",
       "    <tr style=\"text-align: right;\">\n",
       "      <th></th>\n",
       "      <th>id</th>\n",
       "      <th>has_cactus</th>\n",
       "    </tr>\n",
       "  </thead>\n",
       "  <tbody>\n",
       "    <tr>\n",
       "      <th>0</th>\n",
       "      <td>0004be2cfeaba1c0361d39e2b000257b.jpg</td>\n",
       "      <td>1</td>\n",
       "    </tr>\n",
       "    <tr>\n",
       "      <th>1</th>\n",
       "      <td>000c8a36845c0208e833c79c1bffedd1.jpg</td>\n",
       "      <td>1</td>\n",
       "    </tr>\n",
       "    <tr>\n",
       "      <th>2</th>\n",
       "      <td>000d1e9a533f62e55c289303b072733d.jpg</td>\n",
       "      <td>1</td>\n",
       "    </tr>\n",
       "    <tr>\n",
       "      <th>3</th>\n",
       "      <td>0011485b40695e9138e92d0b3fb55128.jpg</td>\n",
       "      <td>1</td>\n",
       "    </tr>\n",
       "    <tr>\n",
       "      <th>4</th>\n",
       "      <td>0014d7a11e90b62848904c1418fc8cf2.jpg</td>\n",
       "      <td>1</td>\n",
       "    </tr>\n",
       "    <tr>\n",
       "      <th>...</th>\n",
       "      <td>...</td>\n",
       "      <td>...</td>\n",
       "    </tr>\n",
       "    <tr>\n",
       "      <th>17495</th>\n",
       "      <td>ffede47a74e47a5930f81c0b6896479e.jpg</td>\n",
       "      <td>0</td>\n",
       "    </tr>\n",
       "    <tr>\n",
       "      <th>17496</th>\n",
       "      <td>ffef6382a50d23251d4bc05519c91037.jpg</td>\n",
       "      <td>1</td>\n",
       "    </tr>\n",
       "    <tr>\n",
       "      <th>17497</th>\n",
       "      <td>fff059ecc91b30be5745e8b81111dc7b.jpg</td>\n",
       "      <td>1</td>\n",
       "    </tr>\n",
       "    <tr>\n",
       "      <th>17498</th>\n",
       "      <td>fff43acb3b7a23edcc4ae937be2b7522.jpg</td>\n",
       "      <td>0</td>\n",
       "    </tr>\n",
       "    <tr>\n",
       "      <th>17499</th>\n",
       "      <td>fffd9e9b990eba07c836745d8aef1a3a.jpg</td>\n",
       "      <td>1</td>\n",
       "    </tr>\n",
       "  </tbody>\n",
       "</table>\n",
       "<p>17500 rows × 2 columns</p>\n",
       "</div>"
      ],
      "text/plain": [
       "                                         id has_cactus\n",
       "0      0004be2cfeaba1c0361d39e2b000257b.jpg          1\n",
       "1      000c8a36845c0208e833c79c1bffedd1.jpg          1\n",
       "2      000d1e9a533f62e55c289303b072733d.jpg          1\n",
       "3      0011485b40695e9138e92d0b3fb55128.jpg          1\n",
       "4      0014d7a11e90b62848904c1418fc8cf2.jpg          1\n",
       "...                                     ...        ...\n",
       "17495  ffede47a74e47a5930f81c0b6896479e.jpg          0\n",
       "17496  ffef6382a50d23251d4bc05519c91037.jpg          1\n",
       "17497  fff059ecc91b30be5745e8b81111dc7b.jpg          1\n",
       "17498  fff43acb3b7a23edcc4ae937be2b7522.jpg          0\n",
       "17499  fffd9e9b990eba07c836745d8aef1a3a.jpg          1\n",
       "\n",
       "[17500 rows x 2 columns]"
      ]
     },
     "execution_count": 18,
     "metadata": {},
     "output_type": "execute_result"
    }
   ],
   "source": [
    "df"
   ]
  },
  {
   "cell_type": "code",
   "execution_count": 19,
   "id": "2ad1192f",
   "metadata": {
    "execution": {
     "iopub.execute_input": "2023-01-30T21:23:33.655803Z",
     "iopub.status.busy": "2023-01-30T21:23:33.655430Z",
     "iopub.status.idle": "2023-01-30T21:23:33.926873Z",
     "shell.execute_reply": "2023-01-30T21:23:33.925394Z"
    },
    "papermill": {
     "duration": 0.28449,
     "end_time": "2023-01-30T21:23:33.929996",
     "exception": false,
     "start_time": "2023-01-30T21:23:33.645506",
     "status": "completed"
    },
    "tags": []
   },
   "outputs": [
    {
     "name": "stdout",
     "output_type": "stream",
     "text": [
      "Found 15750 validated image filenames belonging to 2 classes.\n",
      "Found 1750 validated image filenames belonging to 2 classes.\n"
     ]
    }
   ],
   "source": [
    "batch_size = 32\n",
    "x_col, y_col = 'id', 'has_cactus'\n",
    "class_mode = 'binary'\n",
    "target_size=(32,32)\n",
    "\n",
    "train_gen = idg.flow_from_dataframe(df,\n",
    "                                            'train',\n",
    "                                            x_col=x_col,\n",
    "                                            y_col=y_col,\n",
    "                                            class_mode=class_mode,\n",
    "                                            target_size=target_size,\n",
    "                                            batch_size=batch_size,\n",
    "                                    subset='training'\n",
    "                                            )\n",
    "\n",
    "val_gen = idg.flow_from_dataframe(df,\n",
    "                                        'train',\n",
    "                                        x_col=x_col,\n",
    "                                        y_col=y_col,\n",
    "                                        class_mode=class_mode,\n",
    "                                        target_size=target_size,\n",
    "                                        batch_size=batch_size,\n",
    "                                        subset='validation'\n",
    "                                        )"
   ]
  },
  {
   "cell_type": "code",
   "execution_count": null,
   "id": "9987e211",
   "metadata": {
    "papermill": {
     "duration": 0.007633,
     "end_time": "2023-01-30T21:23:33.946686",
     "exception": false,
     "start_time": "2023-01-30T21:23:33.939053",
     "status": "completed"
    },
    "tags": []
   },
   "outputs": [],
   "source": []
  },
  {
   "cell_type": "code",
   "execution_count": 20,
   "id": "1900fdf5",
   "metadata": {
    "execution": {
     "iopub.execute_input": "2023-01-30T21:23:33.964994Z",
     "iopub.status.busy": "2023-01-30T21:23:33.964602Z",
     "iopub.status.idle": "2023-01-30T21:23:33.970323Z",
     "shell.execute_reply": "2023-01-30T21:23:33.968761Z"
    },
    "papermill": {
     "duration": 0.019267,
     "end_time": "2023-01-30T21:23:33.973966",
     "exception": false,
     "start_time": "2023-01-30T21:23:33.954699",
     "status": "completed"
    },
    "tags": []
   },
   "outputs": [],
   "source": [
    "# del model"
   ]
  },
  {
   "cell_type": "code",
   "execution_count": 21,
   "id": "104abcce",
   "metadata": {
    "execution": {
     "iopub.execute_input": "2023-01-30T21:23:33.993148Z",
     "iopub.status.busy": "2023-01-30T21:23:33.992755Z",
     "iopub.status.idle": "2023-01-30T21:23:33.998666Z",
     "shell.execute_reply": "2023-01-30T21:23:33.997654Z"
    },
    "papermill": {
     "duration": 0.018878,
     "end_time": "2023-01-30T21:23:34.001620",
     "exception": false,
     "start_time": "2023-01-30T21:23:33.982742",
     "status": "completed"
    },
    "tags": []
   },
   "outputs": [],
   "source": [
    "def step_decay(epoch):\n",
    "    initial_rate = 0.001\n",
    "    drop = 0.5\n",
    "    epochs_drop = 10.0\n",
    "    lrate = initial_rate * math.pow(drop, math.floor((epoch) / epochs_drop))\n",
    "    \n",
    "    return lrate"
   ]
  },
  {
   "cell_type": "code",
   "execution_count": 22,
   "id": "d8dd0eb1",
   "metadata": {
    "execution": {
     "iopub.execute_input": "2023-01-30T21:23:34.022951Z",
     "iopub.status.busy": "2023-01-30T21:23:34.022303Z",
     "iopub.status.idle": "2023-01-30T21:23:34.027962Z",
     "shell.execute_reply": "2023-01-30T21:23:34.026297Z"
    },
    "papermill": {
     "duration": 0.019399,
     "end_time": "2023-01-30T21:23:34.030773",
     "exception": false,
     "start_time": "2023-01-30T21:23:34.011374",
     "status": "completed"
    },
    "tags": []
   },
   "outputs": [],
   "source": [
    "lrate = tf.keras.callbacks.LearningRateScheduler(step_decay)\n",
    "es = tf.keras.callbacks.EarlyStopping(monitor='val_loss', min_delta=0.001, patience=5)\n",
    "\n",
    "callbacks = [lrate, es]"
   ]
  },
  {
   "cell_type": "code",
   "execution_count": 23,
   "id": "07c5b790",
   "metadata": {
    "execution": {
     "iopub.execute_input": "2023-01-30T21:23:34.049785Z",
     "iopub.status.busy": "2023-01-30T21:23:34.049386Z",
     "iopub.status.idle": "2023-01-30T21:23:34.055247Z",
     "shell.execute_reply": "2023-01-30T21:23:34.053673Z"
    },
    "papermill": {
     "duration": 0.017757,
     "end_time": "2023-01-30T21:23:34.057128",
     "exception": false,
     "start_time": "2023-01-30T21:23:34.039371",
     "status": "completed"
    },
    "tags": []
   },
   "outputs": [],
   "source": [
    "import math"
   ]
  },
  {
   "cell_type": "code",
   "execution_count": null,
   "id": "b9ea4ae9",
   "metadata": {
    "papermill": {
     "duration": 0.007976,
     "end_time": "2023-01-30T21:23:34.074431",
     "exception": false,
     "start_time": "2023-01-30T21:23:34.066455",
     "status": "completed"
    },
    "tags": []
   },
   "outputs": [],
   "source": []
  },
  {
   "cell_type": "code",
   "execution_count": 24,
   "id": "e4278c07",
   "metadata": {
    "execution": {
     "iopub.execute_input": "2023-01-30T21:23:34.093847Z",
     "iopub.status.busy": "2023-01-30T21:23:34.092257Z",
     "iopub.status.idle": "2023-01-30T21:23:34.105740Z",
     "shell.execute_reply": "2023-01-30T21:23:34.104604Z"
    },
    "papermill": {
     "duration": 0.025954,
     "end_time": "2023-01-30T21:23:34.108406",
     "exception": false,
     "start_time": "2023-01-30T21:23:34.082452",
     "status": "completed"
    },
    "tags": []
   },
   "outputs": [],
   "source": [
    "model.compile(optimizer=tf.keras.optimizers.Adam(learning_rate=0.001),loss=tf.keras.losses.binary_crossentropy,metrics=['acc'])"
   ]
  },
  {
   "cell_type": "code",
   "execution_count": 25,
   "id": "6f324be4",
   "metadata": {
    "execution": {
     "iopub.execute_input": "2023-01-30T21:23:34.128962Z",
     "iopub.status.busy": "2023-01-30T21:23:34.128575Z",
     "iopub.status.idle": "2023-01-30T21:31:59.322108Z",
     "shell.execute_reply": "2023-01-30T21:31:59.320364Z"
    },
    "papermill": {
     "duration": 505.207926,
     "end_time": "2023-01-30T21:31:59.324803",
     "exception": false,
     "start_time": "2023-01-30T21:23:34.116877",
     "status": "completed"
    },
    "tags": []
   },
   "outputs": [
    {
     "name": "stderr",
     "output_type": "stream",
     "text": [
      "2023-01-30 21:23:34.242504: I tensorflow/compiler/mlir/mlir_graph_optimization_pass.cc:185] None of the MLIR Optimization Passes are enabled (registered 2)\n"
     ]
    },
    {
     "name": "stdout",
     "output_type": "stream",
     "text": [
      "Epoch 1/50\n",
      "493/493 [==============================] - 35s 68ms/step - loss: 0.3904 - acc: 0.8315 - val_loss: 0.2993 - val_acc: 0.8651\n",
      "Epoch 2/50\n",
      "493/493 [==============================] - 32s 64ms/step - loss: 0.2558 - acc: 0.8952 - val_loss: 0.2206 - val_acc: 0.8874\n",
      "Epoch 3/50\n",
      "493/493 [==============================] - 30s 60ms/step - loss: 0.2078 - acc: 0.9172 - val_loss: 0.1620 - val_acc: 0.9171\n",
      "Epoch 4/50\n",
      "493/493 [==============================] - 30s 62ms/step - loss: 0.1619 - acc: 0.9381 - val_loss: 0.3000 - val_acc: 0.8463\n",
      "Epoch 5/50\n",
      "493/493 [==============================] - 31s 63ms/step - loss: 0.1355 - acc: 0.9497 - val_loss: 0.1257 - val_acc: 0.9480\n",
      "Epoch 6/50\n",
      "493/493 [==============================] - 31s 63ms/step - loss: 0.1178 - acc: 0.9549 - val_loss: 0.0634 - val_acc: 0.9737\n",
      "Epoch 7/50\n",
      "493/493 [==============================] - 31s 62ms/step - loss: 0.1110 - acc: 0.9592 - val_loss: 0.0776 - val_acc: 0.9691\n",
      "Epoch 8/50\n",
      "493/493 [==============================] - 31s 63ms/step - loss: 0.1009 - acc: 0.9643 - val_loss: 0.0434 - val_acc: 0.9891\n",
      "Epoch 9/50\n",
      "493/493 [==============================] - 31s 62ms/step - loss: 0.0878 - acc: 0.9666 - val_loss: 0.1478 - val_acc: 0.9440\n",
      "Epoch 10/50\n",
      "493/493 [==============================] - 33s 66ms/step - loss: 0.0918 - acc: 0.9651 - val_loss: 0.1243 - val_acc: 0.9463\n",
      "Epoch 11/50\n",
      "493/493 [==============================] - 32s 65ms/step - loss: 0.0644 - acc: 0.9764 - val_loss: 0.1507 - val_acc: 0.9383\n",
      "Epoch 12/50\n",
      "493/493 [==============================] - 33s 67ms/step - loss: 0.0655 - acc: 0.9773 - val_loss: 0.0731 - val_acc: 0.9674\n",
      "Epoch 13/50\n",
      "493/493 [==============================] - 32s 66ms/step - loss: 0.0572 - acc: 0.9798 - val_loss: 0.0531 - val_acc: 0.9800\n"
     ]
    }
   ],
   "source": [
    "history=model.fit(train_gen,validation_data=val_gen,epochs=50,batch_size=128,callbacks=callbacks)"
   ]
  },
  {
   "cell_type": "code",
   "execution_count": 26,
   "id": "fc2f311b",
   "metadata": {
    "execution": {
     "iopub.execute_input": "2023-01-30T21:31:59.987281Z",
     "iopub.status.busy": "2023-01-30T21:31:59.986624Z",
     "iopub.status.idle": "2023-01-30T21:31:59.991265Z",
     "shell.execute_reply": "2023-01-30T21:31:59.990072Z"
    },
    "papermill": {
     "duration": 0.337552,
     "end_time": "2023-01-30T21:31:59.993698",
     "exception": false,
     "start_time": "2023-01-30T21:31:59.656146",
     "status": "completed"
    },
    "tags": []
   },
   "outputs": [],
   "source": [
    "# del model"
   ]
  },
  {
   "cell_type": "code",
   "execution_count": 27,
   "id": "874dde81",
   "metadata": {
    "execution": {
     "iopub.execute_input": "2023-01-30T21:32:00.736473Z",
     "iopub.status.busy": "2023-01-30T21:32:00.736054Z",
     "iopub.status.idle": "2023-01-30T21:32:08.991225Z",
     "shell.execute_reply": "2023-01-30T21:32:08.989962Z"
    },
    "papermill": {
     "duration": 8.668352,
     "end_time": "2023-01-30T21:32:08.993482",
     "exception": false,
     "start_time": "2023-01-30T21:32:00.325130",
     "status": "completed"
    },
    "tags": []
   },
   "outputs": [
    {
     "data": {
      "text/plain": [
       "<AxesSubplot:>"
      ]
     },
     "execution_count": 27,
     "metadata": {},
     "output_type": "execute_result"
    },
    {
     "data": {
      "image/png": "[encoded data removed]",
      "text/plain": [
       "<Figure size 432x288 with 2 Axes>"
      ]
     },
     "metadata": {
      "needs_background": "light"
     },
     "output_type": "display_data"
    }
   ],
   "source": [
    "\n",
    "import seaborn as sns\n",
    "sns.set_palette('Dark2')\n",
    "fig,ax = plt.subplots(2, 1)\n",
    "\n",
    "plot_acc = pd.DataFrame({'acc': history.history['acc'],\n",
    "                         'val_acc': history.history['val_acc']})\n",
    "\n",
    "plot_loss = pd.DataFrame({'loss': history.history['loss'],\n",
    "                          'val_loss': history.history['val_loss']})\n",
    "\n",
    "plot_acc.plot(ax=ax[0])\n",
    "plot_loss.plot(ax=ax[1])\n",
    "\n"
   ]
  },
  {
   "cell_type": "code",
   "execution_count": 28,
   "id": "f953badb",
   "metadata": {
    "execution": {
     "iopub.execute_input": "2023-01-30T21:32:09.671310Z",
     "iopub.status.busy": "2023-01-30T21:32:09.670855Z",
     "iopub.status.idle": "2023-01-30T21:32:09.677376Z",
     "shell.execute_reply": "2023-01-30T21:32:09.676144Z"
    },
    "papermill": {
     "duration": 0.346581,
     "end_time": "2023-01-30T21:32:09.680002",
     "exception": false,
     "start_time": "2023-01-30T21:32:09.333421",
     "status": "completed"
    },
    "tags": []
   },
   "outputs": [],
   "source": [
    "import tqdm\n",
    "def predict(model, sub_df):\n",
    "    pred = np.empty((sub_df.shape[0],))\n",
    "    for n in range(sub_df.shape[0]):\n",
    "        image = np.array(Image.open('test/' + sub_df.id[n]))\n",
    "        pred[n] = model.predict(image.reshape((1, 32, 32, 3))/255.0)[0]\n",
    "    \n",
    "    sub_df['has_cactus'] = pred\n",
    "    return sub_df"
   ]
  },
  {
   "cell_type": "code",
   "execution_count": null,
   "id": "18246f75",
   "metadata": {
    "papermill": {
     "duration": 0.340012,
     "end_time": "2023-01-30T21:32:11.125673",
     "exception": false,
     "start_time": "2023-01-30T21:32:10.785661",
     "status": "completed"
    },
    "tags": []
   },
   "outputs": [],
   "source": []
  },
  {
   "cell_type": "code",
   "execution_count": 30,
   "id": "83ba239f",
   "metadata": {
    "execution": {
     "iopub.execute_input": "2023-01-30T21:32:11.884299Z",
     "iopub.status.busy": "2023-01-30T21:32:11.883606Z",
     "iopub.status.idle": "2023-01-30T21:35:39.145712Z",
     "shell.execute_reply": "2023-01-30T21:35:39.144425Z"
    },
    "papermill": {
     "duration": 207.678071,
     "end_time": "2023-01-30T21:35:39.148446",
     "exception": false,
     "start_time": "2023-01-30T21:32:11.470375",
     "status": "completed"
    },
    "tags": []
   },
   "outputs": [],
   "source": [
    "sub_df = pd.read_csv('aerial-cactus-identification/sample_submission.csv')\n",
    "predictions = predict(model, sub_df)"
   ]
  },
  {
   "cell_type": "code",
   "execution_count": 31,
   "id": "5601da0f",
   "metadata": {
    "execution": {
     "iopub.execute_input": "2023-01-30T21:35:39.821153Z",
     "iopub.status.busy": "2023-01-30T21:35:39.820789Z",
     "iopub.status.idle": "2023-01-30T21:35:40.713785Z",
     "shell.execute_reply": "2023-01-30T21:35:40.712049Z"
    },
    "papermill": {
     "duration": 1.2309,
     "end_time": "2023-01-30T21:35:40.716722",
     "exception": false,
     "start_time": "2023-01-30T21:35:39.485822",
     "status": "completed"
    },
    "tags": []
   },
   "outputs": [],
   "source": [
    "!rm -r *"
   ]
  },
  {
   "cell_type": "code",
   "execution_count": 32,
   "id": "b1807192",
   "metadata": {
    "execution": {
     "iopub.execute_input": "2023-01-30T21:35:41.523863Z",
     "iopub.status.busy": "2023-01-30T21:35:41.523366Z",
     "iopub.status.idle": "2023-01-30T21:35:41.547949Z",
     "shell.execute_reply": "2023-01-30T21:35:41.546757Z"
    },
    "papermill": {
     "duration": 0.39314,
     "end_time": "2023-01-30T21:35:41.550488",
     "exception": false,
     "start_time": "2023-01-30T21:35:41.157348",
     "status": "completed"
    },
    "tags": []
   },
   "outputs": [],
   "source": [
    "predictions.to_csv('result.csv', header=True, index=False)"
   ]
  },
  {
   "cell_type": "code",
   "execution_count": null,
   "id": "87a23602",
   "metadata": {
    "papermill": {
     "duration": 0.338854,
     "end_time": "2023-01-30T21:35:42.253293",
     "exception": false,
     "start_time": "2023-01-30T21:35:41.914439",
     "status": "completed"
    },
    "tags": []
   },
   "outputs": [],
   "source": []
  }
 ],
 "metadata": {
  "kernelspec": {
   "display_name": "Python 3 (ipykernel)",
   "language": "python",
   "name": "python3"
  },
  "language_info": {
   "codemirror_mode": {
    "name": "ipython",
    "version": 3
   },
   "file_extension": ".py",
   "mimetype": "text/x-python",
   "name": "python",
   "nbconvert_exporter": "python",
   "pygments_lexer": "ipython3",
   "version": "3.10.2"
  },
  "papermill": {
   "default_parameters": {},
   "duration": 752.763212,
   "end_time": "2023-01-30T21:35:46.188878",
   "environment_variables": {},
   "exception": null,
   "input_path": "__notebook__.ipynb",
   "output_path": "__notebook__.ipynb",
   "parameters": {},
   "start_time": "2023-01-30T21:23:13.425666",
   "version": "2.3.4"
  }
 },
 "nbformat": 4,
 "nbformat_minor": 5
}
